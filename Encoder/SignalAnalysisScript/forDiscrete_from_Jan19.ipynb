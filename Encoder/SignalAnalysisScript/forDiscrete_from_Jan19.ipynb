{
 "cells": [
  {
   "cell_type": "code",
   "execution_count": null,
   "metadata": {},
   "outputs": [],
   "source": [
    "import sys\n",
    "import numpy as np\n",
    "import pandas as pd\n",
    "import matplotlib.pyplot as plt\n",
    "import matplotlib.ticker as tik\n",
    "from datetime import datetime, timezone, timedelta\n",
    "\n",
    "from scipy.optimize import curve_fit\n",
    "from scipy.stats import norm\n",
    "import matplotlib.mlab as mlab\n",
    "\n",
    "#from matplotlib import gridspec"
   ]
  },
  {
   "cell_type": "markdown",
   "metadata": {},
   "source": [
    "# Input data, log and these forms"
   ]
  },
  {
   "cell_type": "code",
   "execution_count": null,
   "metadata": {},
   "outputs": [],
   "source": [
    "#file path and name\n",
    "filepath = './rawdata/'\n",
    "filename = 'Jan19_absolute2.dat'\n",
    "\n",
    "logpath = './log/'\n",
    "logfilename = 'PMX_2021-01-19.dat'"
   ]
  },
  {
   "cell_type": "code",
   "execution_count": null,
   "metadata": {},
   "outputs": [],
   "source": [
    "storepath = './plots/'\n",
    "storename = 'Jan19_absolute2'"
   ]
  },
  {
   "cell_type": "code",
   "execution_count": null,
   "metadata": {},
   "outputs": [],
   "source": [
    "#rawdata\n",
    "time_category0, error0, direction0, timercount0, reference0 = np.loadtxt(filepath + filename, comments='#', unpack=True)"
   ]
  },
  {
   "cell_type": "code",
   "execution_count": null,
   "metadata": {},
   "outputs": [],
   "source": [
    "#log\n",
    "df0 = pd.read_csv(logpath + logfilename, delim_whitespace=True, comment='#')"
   ]
  },
  {
   "cell_type": "code",
   "execution_count": null,
   "metadata": {},
   "outputs": [],
   "source": [
    "start_at = '2021-01-19 17:17:05-UTC'"
   ]
  },
  {
   "cell_type": "code",
   "execution_count": null,
   "metadata": {},
   "outputs": [],
   "source": [
    "iteration = 640\n",
    "\n",
    "list_amp = [3.0]\n",
    "list_intv = ['0.401']\n",
    "\n",
    "matrix_size = 1\n",
    "\n",
    "pack_size = 1"
   ]
  },
  {
   "cell_type": "code",
   "execution_count": null,
   "metadata": {},
   "outputs": [],
   "source": [
    "start_slice = np.where(start_at == df0.iloc[:,0].to_numpy()+' '+df0.iloc[:,1].to_numpy())[0][0]"
   ]
  },
  {
   "cell_type": "code",
   "execution_count": null,
   "metadata": {},
   "outputs": [],
   "source": [
    "df = df0[start_slice:]\n",
    "df"
   ]
  },
  {
   "cell_type": "code",
   "execution_count": null,
   "metadata": {},
   "outputs": [],
   "source": [
    "position_log = (df.iloc[:,9][df.iloc[:,9] != \"--------\"])[(df.iloc[:,8][df.iloc[:,9] != \"--------\"]) == list_intv[0]].astype(float).to_numpy()\n",
    "position_log"
   ]
  },
  {
   "cell_type": "code",
   "execution_count": null,
   "metadata": {},
   "outputs": [],
   "source": [
    "min(error0)"
   ]
  },
  {
   "cell_type": "code",
   "execution_count": null,
   "metadata": {},
   "outputs": [],
   "source": []
  },
  {
   "cell_type": "markdown",
   "metadata": {},
   "source": [
    "# Set variables and checks"
   ]
  },
  {
   "cell_type": "code",
   "execution_count": null,
   "metadata": {},
   "outputs": [],
   "source": [
    "tape_counts = 52000\n",
    "PRU_clocks = 200e6\n",
    "\n",
    "Deg = 360/tape_counts\n",
    "invDeg = tape_counts/360"
   ]
  },
  {
   "cell_type": "code",
   "execution_count": null,
   "metadata": {},
   "outputs": [],
   "source": [
    "time = timercount0/PRU_clocks"
   ]
  },
  {
   "cell_type": "code",
   "execution_count": null,
   "metadata": {},
   "outputs": [],
   "source": [
    "count_MAX = 62000"
   ]
  },
  {
   "cell_type": "markdown",
   "metadata": {},
   "source": [
    "## shape and data loss check"
   ]
  },
  {
   "cell_type": "code",
   "execution_count": null,
   "metadata": {},
   "outputs": [],
   "source": [
    "#first scketch of the rawdata\n",
    "fig01, axarr01 = plt.subplots(1,2,figsize=(14,7))\n",
    "ax01 = axarr01.ravel()\n",
    "\n",
    "ax01[0].plot(time[::100], reference0[::100])\n",
    "ax01[0].set_xlabel('time[sec]')\n",
    "ax01[0].set_ylabel('reference count')\n",
    "\n",
    "ax01[1].scatter(np.diff(timercount0), np.diff(reference0))\n",
    "ax01[1].set_xlabel('difference time of lines')\n",
    "ax01[1].set_ylabel('difference counts of lines')"
   ]
  },
  {
   "cell_type": "code",
   "execution_count": null,
   "metadata": {},
   "outputs": [],
   "source": [
    "error_UnixTime = np.array(time_category0[np.where((np.diff(timercount0) > 110000) | (np.diff(timercount0) < 90000))[0]], dtype=int)\n",
    "\n",
    "error_Time = time[:-1][(np.diff(timercount0) > 110000) | (np.diff(timercount0) < 90000)]\n",
    "error_TimeDelta = np.diff(time)[(np.diff(timercount0) > 110000) | (np.diff(timercount0) < 90000)]"
   ]
  },
  {
   "cell_type": "code",
   "execution_count": null,
   "metadata": {
    "scrolled": true
   },
   "outputs": [],
   "source": [
    "for i in range(len(error_Time)):\n",
    "    print('{:8.2f} {:5.4f}'.format(round(error_Time[i],2), round(error_TimeDelta[i],5)))"
   ]
  },
  {
   "cell_type": "code",
   "execution_count": null,
   "metadata": {},
   "outputs": [],
   "source": [
    "plt.scatter(error_Time, error_TimeDelta,s=10)"
   ]
  },
  {
   "cell_type": "markdown",
   "metadata": {},
   "source": [
    "## set variables"
   ]
  },
  {
   "cell_type": "code",
   "execution_count": null,
   "metadata": {},
   "outputs": [],
   "source": [
    "capture_slice = 1000\n",
    "plot_slice = 30\n",
    "\n",
    "pos_roll = 3\n",
    "\n",
    "casp_threshold = -100"
   ]
  },
  {
   "cell_type": "code",
   "execution_count": null,
   "metadata": {
    "code_folding": [
     0
    ]
   },
   "outputs": [],
   "source": [
    "#log slicing with JST\n",
    "def packet_capture(dataframe, list_ampere, list_interval, UnixTime_Data):\n",
    "    JST = timezone(timedelta(hours=+9), 'JST')\n",
    "    initial_UnixTime = []\n",
    "    switching_UnixTime = []\n",
    "    start_UnixTime = []\n",
    "\n",
    "    for i in range(iteration):\n",
    "        start_UnixTime.append([])\n",
    "\n",
    "    for i in list_ampere:\n",
    "        for j in list_interval:\n",
    "            list_datetime = ((dataframe[dataframe.iloc[:,5] == i])[(dataframe[dataframe.iloc[:,5] == i]).iloc[:,8] == j]).iloc[:,0:2].to_numpy()\n",
    "            for k in range(iteration):\n",
    "                if k%pack_size == 0:\n",
    "                    start_UnixTime[int(k/pack_size)] = (((datetime.strptime(list_datetime[k][0]+' '+list_datetime[k][1],\"%Y-%m-%d %H:%M:%S-%Z\")).replace(tzinfo=timezone.utc)).astimezone(JST)).timestamp()\n",
    "                    initial_UnixTime = np.append(initial_UnixTime, start_UnixTime[int(k/pack_size)])\n",
    "                    pass\n",
    "                pass\n",
    "            switching_UnixTime.append(min(start_UnixTime))\n",
    "            pass\n",
    "        pass\n",
    "\n",
    "    stop_UnixTime = dataframe[dataframe.iloc[:,2] == 'OFF'].iloc[-1,:]\n",
    "    end_UnixTime = (((datetime.strptime(stop_UnixTime[0]+' '+stop_UnixTime[1],\"%Y-%m-%d %H:%M:%S-%Z\")).replace(tzinfo=timezone.utc)).astimezone(JST)).timestamp()\n",
    "\n",
    "    captured_initials = []\n",
    "    captured_switching = []\n",
    "    \n",
    "    for i in range(len(switching_UnixTime)):\n",
    "        captured_switching.append(max(np.where(UnixTime_Data[::capture_slice] <= switching_UnixTime[i])[0]))\n",
    "        pass\n",
    "    \n",
    "    for i in range(len(initial_UnixTime)):\n",
    "        captured_initials.append(max(np.where(UnixTime_Data[::capture_slice] <= initial_UnixTime[i])[0]))\n",
    "        pass\n",
    "    \n",
    "    captured_end = min(np.where(end_UnixTime + pos_roll <= UnixTime_Data[::capture_slice])[0])\n",
    "    \n",
    "    return captured_switching, captured_initials, captured_end"
   ]
  },
  {
   "cell_type": "code",
   "execution_count": null,
   "metadata": {},
   "outputs": [],
   "source": [
    "swt, inits, end = packet_capture(df, list_amp, list_intv, time_category0)"
   ]
  },
  {
   "cell_type": "code",
   "execution_count": null,
   "metadata": {},
   "outputs": [],
   "source": [
    "reference = reference0\n",
    "\n",
    "for i in np.where(reference0 > 52000)[0]:\n",
    "    reference[i] = reference0[i]-count_MAX"
   ]
  },
  {
   "cell_type": "code",
   "execution_count": null,
   "metadata": {
    "code_folding": [
     0
    ]
   },
   "outputs": [],
   "source": [
    "#block\n",
    "time_block = []\n",
    "reference_block = []\n",
    "\n",
    "for i in range(len(swt)-1):\n",
    "    time_block.append(time[int(np.where(time == (time[::capture_slice])[swt[i]-pos_roll])[0]):int(np.where(time == (time[::capture_slice])[swt[i+1]-pos_roll])[0])])\n",
    "    reference_block.append(reference[int(np.where(time == (time[::capture_slice])[swt[i]-pos_roll])[0]):int(np.where(time == (time[::capture_slice])[swt[i+1]-pos_roll])[0])])\n",
    "    pass\n",
    "time_block.append(time[int(np.where(time == (time[::capture_slice])[swt[-1]-pos_roll])[0]):int(np.where(time == (time[::capture_slice])[end+pos_roll])[0])])\n",
    "reference_block.append(reference[int(np.where(time == (time[::capture_slice])[swt[-1]-pos_roll])[0]):int(np.where(time == (time[::capture_slice])[end+pos_roll])[0])])\n",
    "\n",
    "lincount_block = []\n",
    "block_initials = []\n",
    "onecycle_time = []\n",
    "proceeded_degrees = []\n",
    "\n",
    "for i in range(matrix_size):\n",
    "    lincount_block.append([])\n",
    "    lincount_block[i] = np.array(np.zeros(len(reference_block[i])))\n",
    "    \n",
    "    count_offset = 0\n",
    "    casp_flag = 0\n",
    "    casp = np.where(np.diff(reference_block[i]) <= casp_threshold)[0].tolist()\n",
    "\n",
    "    for j in range(len(reference_block[i])):\n",
    "        lincount_block[i][j] = reference_block[i][j]+count_offset\n",
    "        if casp:\n",
    "            if j == casp[casp_flag]:\n",
    "                count_offset += reference_block[i][casp[casp_flag]]\n",
    "                if len(casp) > casp_flag+1:\n",
    "                    casp_flag += 1\n",
    "                    pass\n",
    "                pass\n",
    "            pass\n",
    "        pass\n",
    "    \n",
    "    block_initials.append([])\n",
    "    for j in range(len(inits)):\n",
    "        block_initials[i].append(int(np.where(time_block[i] == (time[::capture_slice])[(inits[i*iteration:(i+1)*iteration])[j]-pos_roll])[0]))\n",
    "        pass\n",
    "    \n",
    "    onecycle_time.append([])\n",
    "    proceeded_degrees.append([])\n",
    "    for j in range(len(inits) - 1):\n",
    "        if j != len(inits) - 1:\n",
    "            onecycle_time[i].append(time_block[i][block_initials[i][j+1]]-time_block[i][block_initials[i][j]])\n",
    "            proceeded_degrees[i].append((lincount_block[i][block_initials[i][j+1]]-lincount_block[i][block_initials[i][j]])*Deg)\n",
    "            pass\n",
    "        else:\n",
    "            onecycle_time[i].append(time_block[i][-1]-time_block[i][block_initials[i][j]])\n",
    "            proceeded_degrees[i].append((lincount_block[i][-1]-lincount_block[i][block_initials[i][j]])*Deg)\n",
    "        pass\n",
    "    pass"
   ]
  },
  {
   "cell_type": "code",
   "execution_count": null,
   "metadata": {},
   "outputs": [],
   "source": [
    "print(\"{}{: >25}{}{: >10}{}\".format('|','Variable Name','|','Memory','|'))\n",
    "print(\" ------------------------------------ \")\n",
    "for var_name in dir():\n",
    "    if not var_name.startswith(\"_\") and sys.getsizeof(eval(var_name)) > 1000:\n",
    "        print(\"{}{: >25}{}{: >10}{}\".format('|',var_name,'|',sys.getsizeof(eval(var_name)),'|'))"
   ]
  },
  {
   "cell_type": "markdown",
   "metadata": {
    "heading_collapsed": true
   },
   "source": [
    "### optional (not verified): mask error"
   ]
  },
  {
   "cell_type": "code",
   "execution_count": null,
   "metadata": {
    "code_folding": [
     0
    ],
    "hidden": true
   },
   "outputs": [],
   "source": [
    "#perepare error pack\n",
    "error_pack = [[0]]\n",
    "error_flag = 1\n",
    "UnixInitials = np.array(time_category0[::capture_slice][inits], dtype=int)\n",
    "for i in range(len(inits)):\n",
    "    #print(f'{error_flag} {error_UnixTime[error_flag]} {UnixInitials[i]}')\n",
    "    if (i < len(inits)-1) and (error_flag < len(error_UnixTime)-1):\n",
    "        if (UnixInitials[i] <= error_UnixTime[error_flag]) and (error_UnixTime[error_flag] < UnixInitials[i+1]):\n",
    "            error_pack[0].append(i)\n",
    "            #print(f'{error_flag} {error_UnixTime[error_flag]}')\n",
    "            error_flag += 1\n",
    "            if (UnixInitials[i] <= error_UnixTime[error_flag]) and (error_UnixTime[error_flag] < UnixInitials[i+1]):\n",
    "                error_flag += 1\n",
    "                pass\n",
    "            pass\n",
    "        pass\n",
    "    else:\n",
    "        if (UnixInitials[i] <= error_UnixTime[error_flag]) and (error_UnixTime[error_flag] < UnixInitials[i]+min(np.diff(UnixInitials))):\n",
    "            error_pack[0].append(i)\n",
    "    pass"
   ]
  },
  {
   "cell_type": "code",
   "execution_count": null,
   "metadata": {
    "hidden": true
   },
   "outputs": [],
   "source": [
    "error_sort = []\n",
    "error_sort.append([error_pack[0][0]])\n",
    "for i in sorted(error_pack[0][1:]):\n",
    "    error_sort[0].append(i)\n",
    "#error_sort"
   ]
  },
  {
   "cell_type": "code",
   "execution_count": null,
   "metadata": {
    "code_folding": [
     0
    ],
    "hidden": true
   },
   "outputs": [],
   "source": [
    "#avoid error\n",
    "error_position = []\n",
    "error_flag0 = 0\n",
    "\n",
    "error_flag2 = 0\n",
    "\n",
    "for i in range(matrix_size):\n",
    "    error_flag1 = 1\n",
    "    error_position.append([])\n",
    "    for j in range(len(inits)):\n",
    "        if i == error_sort[error_flag0][0]:\n",
    "            if error_flag1 <= len(error_sort[error_flag0])-1:\n",
    "                if j == error_sort[error_flag0][error_flag1]:\n",
    "                    #print(f'{error_sort[error_flag0][0]} {error_sort[error_flag0][error_flag1]}')\n",
    "                    error_position[i].append([])\n",
    "                    error_position[i][j] = False\n",
    "                    error_flag1 += 1\n",
    "                    error_flag2 = 1\n",
    "                    pass\n",
    "                else:\n",
    "                    error_position[i].append([])\n",
    "                    error_position[i][j] = True\n",
    "                    pass\n",
    "                pass\n",
    "            else:\n",
    "                error_position[i].append([])\n",
    "                error_position[i][j] = True\n",
    "                pass\n",
    "            pass\n",
    "        else:\n",
    "            error_position[i].append([])\n",
    "            error_position[i][j] = True\n",
    "            pass\n",
    "        pass\n",
    "    if error_flag2 == 1:\n",
    "        if error_flag0 != len(error_sort)-1:\n",
    "            error_flag0 += 1\n",
    "            error_flag2 = 0\n",
    "            pass\n",
    "        pass\n",
    "    pass"
   ]
  },
  {
   "cell_type": "code",
   "execution_count": null,
   "metadata": {
    "code_folding": [
     0
    ],
    "hidden": true
   },
   "outputs": [],
   "source": [
    "#cutting more\n",
    "cp0 = reference > 60000\n",
    "cp1 = time[:-1][~cp0[1:] & cp0[:-1]]-10\n",
    "over_flag = 0\n",
    "\n",
    "paku = []\n",
    "\n",
    "for i in range(matrix_size):\n",
    "    for j in range(len(inits)-1):\n",
    "        if error_position[i][j] != False:\n",
    "            cp2 = ((time_block[i][block_initials[i][j]:block_initials[i][j+1]])[::plot_slice])[:-1]\n",
    "            #print(f'{over_flag} {round(cp1[over_flag],2)} {round(cp2[0],2)} {round(cp2[-1],2)} {round(cp2[0],2) <=  round(cp1[over_flag],2)} {round(cp1[over_flag],2) < round(cp2[-1],2)}')\n",
    "            if not (cp2[0] <=  cp1[over_flag]) and (cp1[over_flag] <= cp2[-1]):\n",
    "                if over_flag < len(cp1)-1:\n",
    "                    over_flag += 1\n",
    "                    pass\n",
    "            if (cp2[0] <=  cp1[over_flag]) and (cp1[over_flag] <= cp2[-1]):\n",
    "                paku.append(j)\n",
    "                if over_flag < len(cp1)-1:\n",
    "                    over_flag += 1\n",
    "                    pass\n",
    "                pass\n",
    "            pass\n",
    "        pass\n",
    "    pass"
   ]
  },
  {
   "cell_type": "code",
   "execution_count": null,
   "metadata": {
    "hidden": true
   },
   "outputs": [],
   "source": [
    "for i in paku:\n",
    "    error_pack[0].append(i)"
   ]
  },
  {
   "cell_type": "code",
   "execution_count": null,
   "metadata": {
    "code_folding": [
     0
    ],
    "hidden": true
   },
   "outputs": [],
   "source": [
    "#avoid error\n",
    "error_position = []\n",
    "error_flag0 = 0\n",
    "\n",
    "error_flag2 = 0\n",
    "\n",
    "for i in range(matrix_size):\n",
    "    error_flag1 = 1\n",
    "    error_position.append([])\n",
    "    for j in range(len(inits)):\n",
    "        if i == error_sort[error_flag0][0]:\n",
    "            if error_flag1 <= len(error_sort[error_flag0])-1:\n",
    "                if j == error_sort[error_flag0][error_flag1]:\n",
    "                    #print(f'{error_sort[error_flag0][0]} {error_sort[error_flag0][error_flag1]}')\n",
    "                    error_position[i].append([])\n",
    "                    error_position[i][j] = False\n",
    "                    error_flag1 += 1\n",
    "                    error_flag2 = 1\n",
    "                    pass\n",
    "                else:\n",
    "                    error_position[i].append([])\n",
    "                    error_position[i][j] = True\n",
    "                    pass\n",
    "                pass\n",
    "            else:\n",
    "                error_position[i].append([])\n",
    "                error_position[i][j] = True\n",
    "                pass\n",
    "            pass\n",
    "        else:\n",
    "            error_position[i].append([])\n",
    "            error_position[i][j] = True\n",
    "            pass\n",
    "        pass\n",
    "    if error_flag2 == 1:\n",
    "        if error_flag0 != len(error_sort)-1:\n",
    "            error_flag0 += 1\n",
    "            error_flag2 = 0\n",
    "            pass\n",
    "        pass\n",
    "    pass"
   ]
  },
  {
   "cell_type": "code",
   "execution_count": null,
   "metadata": {
    "hidden": true
   },
   "outputs": [],
   "source": []
  },
  {
   "cell_type": "markdown",
   "metadata": {},
   "source": [
    "# Plots"
   ]
  },
  {
   "cell_type": "code",
   "execution_count": null,
   "metadata": {
    "code_folding": []
   },
   "outputs": [],
   "source": [
    "# so called speed\n",
    "fig10 = plt.figure(figsize=(10,7))\n",
    "\n",
    "cut_place = []\n",
    "\n",
    "for i in range(matrix_size):\n",
    "    cut_place.append([])\n",
    "    for j in range(len(inits)-5):\n",
    "        cut_place[i].append([])\n",
    "        #if error_position[i][j] != False:\n",
    "        cut_threshold = ((time_block[i][block_initials[i][j]:block_initials[i][j+1]])[::plot_slice])[:-1]-time_block[i][block_initials[i][j]]\n",
    "        cut_place[i][j] = min(np.where(cut_threshold >= 19)[0])\n",
    "        plt.axvline(cut_threshold[cut_place[i][j]])\n",
    "        plt.plot(((time_block[i][block_initials[i][j]:block_initials[i][j+1]])[::plot_slice])[:-1]-time_block[i][block_initials[i][j]],\n",
    "                    np.diff((reference_block[i][block_initials[i][j]:block_initials[i][j+1]])[::plot_slice])*Deg,label=f'num_{j}')\n",
    "        #pass\n",
    "        pass\n",
    "    pass\n",
    "plt.ylim([-1,4])"
   ]
  },
  {
   "cell_type": "code",
   "execution_count": null,
   "metadata": {},
   "outputs": [],
   "source": [
    "moved_angle = []\n",
    "end_position = []\n",
    "\n",
    "fig21, ax = plt.subplots(figsize=(10,7))\n",
    "plt.rcParams[\"font.size\"] = 15\n",
    "#ax = axarr.ravel()\n",
    "\n",
    "for i in range(matrix_size):\n",
    "    moved_angle.append([])\n",
    "    end_position.append([])\n",
    "    for j in range(iteration-1):\n",
    "        #if error_position[i][j] != False:\n",
    "        hoge = (time_block[i][block_initials[i][j]:block_initials[i][j+1]])-time_block[i][block_initials[i][j]]\n",
    "        place = min(np.where(hoge >= 20)[0])\n",
    "        moved_angle[i].append((lincount_block[i][block_initials[i][j] + place]-lincount_block[i][block_initials[i][j]])*Deg)\n",
    "        end_position[i].append(lincount_block[i][block_initials[i][j] + place]%52000*Deg)\n",
    "        #pass\n",
    "        pass\n",
    "    ax.scatter(end_position[i], moved_angle[i], color='b')\n",
    "    pass\n",
    "\n",
    "for i in range(len(np.arange(0,382.5,22.5))):\n",
    "    ax.axvline(np.arange(0,382.5,22.5)[i], ls=':', color='r')\n",
    "    pass\n",
    "\n",
    "#plt.ylim([10,30])\n",
    "\n",
    "ax.xaxis.set_major_locator(tik.MultipleLocator(45))\n",
    "\n",
    "ax.set_title(f'Jan19_absolute2_feedback_8times')\n",
    "ax.set_xlabel('position[deg]')\n",
    "ax.set_ylabel('proceeded degree')"
   ]
  },
  {
   "cell_type": "code",
   "execution_count": null,
   "metadata": {},
   "outputs": [],
   "source": [
    "x1 = np.arange(0,360,22.5)\n",
    "x2 = np.roll(x1, 6)\n",
    "x3 = np.tile(x2, 40)"
   ]
  },
  {
   "cell_type": "code",
   "execution_count": null,
   "metadata": {},
   "outputs": [],
   "source": [
    "goal = end_position[0]\n",
    "\n",
    "for i in np.where(np.array(end_position[0]) > 350)[0]:\n",
    "    x3[i] = 360"
   ]
  },
  {
   "cell_type": "code",
   "execution_count": null,
   "metadata": {},
   "outputs": [],
   "source": [
    "def linear_func(x,a,b):\n",
    "    return a*x+b"
   ]
  },
  {
   "cell_type": "code",
   "execution_count": null,
   "metadata": {},
   "outputs": [],
   "source": [
    "popt, pcov = curve_fit(linear_func, x3[:-1], goal)\n",
    "popt"
   ]
  },
  {
   "cell_type": "code",
   "execution_count": null,
   "metadata": {
    "scrolled": true
   },
   "outputs": [],
   "source": [
    "fig30, axarr = plt.subplots(2,1,figsize=(9,12), gridspec_kw={'height_ratios':[3,1]})\n",
    "plt.rcParams[\"font.size\"] = 18\n",
    "ax = axarr.ravel()\n",
    "plt.subplots_adjust(hspace=0.)\n",
    "\n",
    "piyo = np.linspace(0,360,len(x3[:-1]))\n",
    "\n",
    "ax[0].scatter(x3[:-1], goal)\n",
    "ax[0].plot(piyo, linear_func(piyo, popt[0], popt[1]),color='r', lw=1)\n",
    "\n",
    "hoge = np.arange(0,382.5,22.5)\n",
    "for i in range(len(hoge)):\n",
    "    ax[0].axvline(hoge[i], ls=':', color='g')\n",
    "    ax[0].axhline(hoge[i], ls=':', color='y')\n",
    "\n",
    "#ax[0].set_xlabel('goal_position[deg]', fontsize=15)\n",
    "ax[0].set_ylabel('stopped position[deg]')\n",
    "ax[0].yaxis.set_major_locator(tik.MultipleLocator(45))\n",
    "ax[0].legend(loc='upper left', title=f'gradient a={round(popt[0],5)}\\nintercept b={round(popt[1],5)}')\n",
    "\n",
    "ax[1].hist(goal, bins=360)\n",
    "ax[1].set_xlabel('goal position[deg]')\n",
    "ax[1].set_ylabel('number of events')\n",
    "ax[1].xaxis.set_major_locator(tik.MultipleLocator(45))"
   ]
  },
  {
   "cell_type": "code",
   "execution_count": null,
   "metadata": {},
   "outputs": [],
   "source": [
    "fig31, ax = plt.subplots(figsize=(10,7))\n",
    "#ax = axarr.ravel()\n",
    "plt.rcParams[\"font.size\"] = 18\n",
    "\n",
    "ax.xaxis.set_major_locator(tik.MultipleLocator(45))\n",
    "                           \n",
    "ax.scatter(x3[:-1], goal-x3[:-1], s=15)\n",
    "ax.set_xlabel('goal position[deg]')\n",
    "ax.set_ylabel('difference between goal and end position[deg]', fontsize=15)"
   ]
  },
  {
   "cell_type": "code",
   "execution_count": null,
   "metadata": {},
   "outputs": [],
   "source": [
    "fig40 = plt.figure(figsize=(10,7))\n",
    "plt.rcParams[\"font.size\"] = 15\n",
    "mu, std = norm.fit(moved_angle)\n",
    "\n",
    "# Plot the histogram.\n",
    "plt.hist(moved_angle, bins=40, density=True, alpha=0.3, color='g', label=f'feedback_8times')\n",
    "plt.legend(fontsize=15,loc='upper right')\n",
    "\n",
    "# Plot the PDF.\n",
    "xmin, xmax = plt.xlim([10,35])\n",
    "plt.ylim([0.,0.7])\n",
    "x = np.linspace(xmin, xmax, 100)\n",
    "p = norm.pdf(x, mu, std)\n",
    "plt.plot(x, p, 'g', linewidth=2)\n",
    "plt.title(f'Fit Result: mu={round(mu,2)}, std={round(std,2)}')\n",
    "plt.xlabel('proceeded degrees[deg]')\n",
    "plt.ylabel('ratio')"
   ]
  },
  {
   "cell_type": "code",
   "execution_count": null,
   "metadata": {},
   "outputs": [],
   "source": []
  },
  {
   "cell_type": "code",
   "execution_count": null,
   "metadata": {},
   "outputs": [],
   "source": []
  },
  {
   "cell_type": "code",
   "execution_count": null,
   "metadata": {},
   "outputs": [],
   "source": []
  },
  {
   "cell_type": "markdown",
   "metadata": {
    "heading_collapsed": true
   },
   "source": [
    "## sub"
   ]
  },
  {
   "cell_type": "code",
   "execution_count": null,
   "metadata": {
    "hidden": true
   },
   "outputs": [],
   "source": [
    "fig11, ax11 = plt.subplots(1,1,figsize=(300,7))\n",
    "\n",
    "for i in range(matrix_size):\n",
    "    for j in range(len(inits)-1):\n",
    "        #if error_position[i][j] != False:\n",
    "        ax11.plot(((time_block[i][block_initials[i][j]:block_initials[i][j+1]])[::plot_slice])[:-1],\n",
    "                        np.diff((lincount_block[i][block_initials[i][j]:block_initials[i][j+1]])[::plot_slice]),label=f'num_{j}')\n",
    "            #pass\n",
    "        pass\n",
    "    pass\n",
    "\n",
    "for i in range(len(error_Time)):\n",
    "    ax11.axvline(error_Time[i], ls=':', lw=3)\n",
    "    pass\n",
    "\n",
    "fuga = reference > 60000\n",
    "ax11.scatter((time[:-1])[~fuga[1:] & fuga[:-1]]-10, np.ones(len((time[:-1])[~fuga[1:] & fuga[:-1]]))*100)\n",
    "\n",
    "ax11.set_ylim([-1,200])\n",
    "#ax11.xlim([700,770])\n",
    "\n",
    "ax11.xaxis.set_major_locator(tik.MultipleLocator(100))\n",
    "\n",
    "ax11.set_title(f'Jan13_absolute_feedback_5times')\n",
    "ax11.set_xlabel('time[sec]')\n",
    "ax11.set_ylabel('difference of counts')"
   ]
  },
  {
   "cell_type": "code",
   "execution_count": null,
   "metadata": {
    "hidden": true
   },
   "outputs": [],
   "source": []
  },
  {
   "cell_type": "code",
   "execution_count": null,
   "metadata": {
    "hidden": true
   },
   "outputs": [],
   "source": []
  },
  {
   "cell_type": "code",
   "execution_count": null,
   "metadata": {
    "hidden": true
   },
   "outputs": [],
   "source": []
  },
  {
   "cell_type": "markdown",
   "metadata": {},
   "source": [
    "# Others"
   ]
  },
  {
   "cell_type": "code",
   "execution_count": null,
   "metadata": {},
   "outputs": [],
   "source": []
  }
 ],
 "metadata": {
  "kernelspec": {
   "display_name": "Python 3",
   "language": "python",
   "name": "python3"
  },
  "language_info": {
   "codemirror_mode": {
    "name": "ipython",
    "version": 3
   },
   "file_extension": ".py",
   "mimetype": "text/x-python",
   "name": "python",
   "nbconvert_exporter": "python",
   "pygments_lexer": "ipython3",
   "version": "3.6.9"
  }
 },
 "nbformat": 4,
 "nbformat_minor": 4
}
