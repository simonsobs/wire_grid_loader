{
 "cells": [
  {
   "cell_type": "code",
   "execution_count": null,
   "metadata": {},
   "outputs": [],
   "source": [
    "import sys\n",
    "import numpy as np\n",
    "import matplotlib.pyplot as plt\n",
    "import matplotlib.ticker as tik\n",
    "import pandas as pd\n",
    "from datetime import datetime, timezone, timedelta\n",
    "\n",
    "from scipy.stats import norm\n",
    "import matplotlib.mlab as mlab\n",
    "\n",
    "from operator import add\n",
    "\n",
    "#from matplotlib import gridspec\n",
    "#from scipy.optimize import curve_fit"
   ]
  },
  {
   "cell_type": "markdown",
   "metadata": {},
   "source": [
    "# Input data and log"
   ]
  },
  {
   "cell_type": "code",
   "execution_count": null,
   "metadata": {},
   "outputs": [],
   "source": [
    "#file path and name\n",
    "filepath = './rawdata/'\n",
    "filename = 'Feb17_initMatrix.dat'\n",
    "\n",
    "time_category, error, direction, timercount, reference = np.loadtxt(filepath + filename, comments='#', unpack=True)"
   ]
  },
  {
   "cell_type": "code",
   "execution_count": null,
   "metadata": {},
   "outputs": [],
   "source": [
    "logpath = './log/'\n",
    "logfilename = 'PMX_2021-02-17.dat'\n",
    "\n",
    "df = pd.read_csv(logpath + logfilename, delim_whitespace=True, comment='#', skiprows=416)"
   ]
  },
  {
   "cell_type": "code",
   "execution_count": null,
   "metadata": {},
   "outputs": [],
   "source": [
    "df"
   ]
  },
  {
   "cell_type": "code",
   "execution_count": null,
   "metadata": {},
   "outputs": [],
   "source": [
    "iteration = 100\n",
    "\n",
    "list_amp = [1.5, 1.8, 2.1, 2.4, 2.7, 3.0]\n",
    "list_intv = ['0.400', '0.800', '1.200', '1.600', '2.000', '2.400']\n",
    "\n",
    "matrix_size = 36\n",
    "\n",
    "pack_size = 1"
   ]
  },
  {
   "cell_type": "code",
   "execution_count": null,
   "metadata": {},
   "outputs": [],
   "source": [
    "min(error)"
   ]
  },
  {
   "cell_type": "code",
   "execution_count": null,
   "metadata": {},
   "outputs": [],
   "source": []
  },
  {
   "cell_type": "markdown",
   "metadata": {
    "heading_collapsed": true
   },
   "source": [
    "## Set variables and Check some charactaristics\n",
    "* function is available only for data range"
   ]
  },
  {
   "cell_type": "code",
   "execution_count": null,
   "metadata": {
    "hidden": true
   },
   "outputs": [],
   "source": [
    "time = timercount/200e6\n",
    "\n",
    "skip = 50\n",
    "flag_threshold = 4\n",
    "\n",
    "casp_threshold = -100\n",
    "edge_coverage = 40\n",
    "\n",
    "Deg = 360/52000"
   ]
  },
  {
   "cell_type": "code",
   "execution_count": null,
   "metadata": {
    "hidden": true
   },
   "outputs": [],
   "source": [
    "storepath = './plots/'\n",
    "storename = 'Nov30_AmpTime'"
   ]
  },
  {
   "cell_type": "code",
   "execution_count": null,
   "metadata": {
    "code_folding": [
     0
    ],
    "hidden": true
   },
   "outputs": [],
   "source": [
    "#first scketch of the rawdata\n",
    "fig01, axarr01 = plt.subplots(1,2,figsize=(14,7))\n",
    "ax01 = axarr01.ravel()\n",
    "\n",
    "ax01[0].plot(time[::100], reference[::100])\n",
    "ax01[0].set_xlabel('time[sec]')\n",
    "ax01[0].set_ylabel('reference count')\n",
    "\n",
    "ax01[1].scatter(np.diff(timercount), np.diff(reference))\n",
    "ax01[1].set_xlabel('difference time of lines')\n",
    "ax01[1].set_ylabel('difference counts of lines')"
   ]
  },
  {
   "cell_type": "code",
   "execution_count": null,
   "metadata": {
    "hidden": true
   },
   "outputs": [],
   "source": [
    "#fig01.savefig(storepath + storename + '_RawAndCorr.png')"
   ]
  },
  {
   "cell_type": "code",
   "execution_count": null,
   "metadata": {
    "code_folding": [
     0
    ],
    "hidden": true
   },
   "outputs": [],
   "source": [
    "def switching_time(dataframe, list_ampere, list_interval):\n",
    "    JST = timezone(timedelta(hours=+9), 'JST')\n",
    "    initials = []\n",
    "    list_UNIXTIME = []\n",
    "    \n",
    "    for i in range(iteration):\n",
    "        list_UNIXTIME.append([])\n",
    "    \n",
    "    for i in list_ampere:\n",
    "        initials.append([])\n",
    "        for j in list_interval:\n",
    "            list_datetime = ((dataframe[dataframe.iloc[:,5] == i])[(dataframe[dataframe.iloc[:,5] == i]).iloc[:,8] == j]).iloc[:,0:2].to_numpy()\n",
    "            for k in range(len(list_datetime)):\n",
    "                if k%pack_size == 0:\n",
    "                    list_UNIXTIME[int(k/pack_size)] = (((datetime.strptime(list_datetime[k][0]+' '+list_datetime[k][1],\"%Y-%m-%d %H:%M:%S-%Z\")).replace(tzinfo=timezone.utc)).astimezone(JST)).timestamp()\n",
    "                    pass\n",
    "                pass\n",
    "            initials[list_ampere.index(i)].append([])\n",
    "            initials[list_ampere.index(i)][list_interval.index(j)] = min(list_UNIXTIME)\n",
    "            pass\n",
    "        pass\n",
    "    \n",
    "    log_end = dataframe[dataframe.iloc[:,2] == 'OFF'].iloc[-1,:]\n",
    "    switching_end = (((datetime.strptime(log_end[0]+' '+log_end[1],\"%Y-%m-%d %H:%M:%S-%Z\")).replace(tzinfo=timezone.utc)).astimezone(JST)).timestamp()\n",
    "    \n",
    "    return initials, switching_end"
   ]
  },
  {
   "cell_type": "code",
   "execution_count": null,
   "metadata": {
    "hidden": true
   },
   "outputs": [],
   "source": [
    "sw_init, sw_end = switching_time(df, list_amp, list_intv)"
   ]
  },
  {
   "cell_type": "code",
   "execution_count": null,
   "metadata": {
    "code_folding": [
     0
    ],
    "hidden": true
   },
   "outputs": [],
   "source": [
    "def switching_dataline(switching_initials, switching_end):\n",
    "    initial_lines = []\n",
    "    final_lines = []\n",
    "\n",
    "    for i in range(len(list_amp)):\n",
    "        for j in range(len(list_intv)-1):\n",
    "            initial_lines.append(min(np.where((switching_initials[i][j] <= time_category)&(time_category < switching_initials[i][j+1]))[0]))\n",
    "            final_lines.append(max(np.where((switching_initials[i][j] <= time_category)&(time_category < switching_initials[i][j+1]))[0]))\n",
    "            \n",
    "            pass\n",
    "        if i != len(list_amp)-1:\n",
    "            initial_lines.append(min(np.where((switching_initials[i][len(list_intv)-1] <= time_category)&(time_category < switching_initials[i+1][0]))[0]))\n",
    "            final_lines.append(max(np.where((switching_initials[i][len(list_intv)-1] <= time_category)&(time_category < switching_initials[i+1][0]))[0]))\n",
    "            pass\n",
    "        else:\n",
    "            initial_lines.append(min(np.where((switching_initials[i][len(list_intv)-1] <= time_category)&(time_category < switching_end))[0]))\n",
    "            final_lines.append(max(np.where((switching_initials[i][len(list_intv)-1] <= time_category)&(time_category < switching_end))[0]))\n",
    "            pass\n",
    "        pass\n",
    "    \n",
    "    return initial_lines, final_lines"
   ]
  },
  {
   "cell_type": "code",
   "execution_count": null,
   "metadata": {
    "hidden": true
   },
   "outputs": [],
   "source": [
    "ilines, flines = switching_dataline(sw_init, sw_end)"
   ]
  },
  {
   "cell_type": "code",
   "execution_count": null,
   "metadata": {
    "hidden": true
   },
   "outputs": [],
   "source": [
    "time_block = []\n",
    "reference_block = []\n",
    "\n",
    "for i in range(len(ilines)):\n",
    "    time_block.append(time[ilines[i]:flines[i]])\n",
    "    reference_block.append(reference[ilines[i]:flines[i]])"
   ]
  },
  {
   "cell_type": "code",
   "execution_count": null,
   "metadata": {
    "hidden": true,
    "scrolled": true
   },
   "outputs": [],
   "source": [
    "fig02 = plt.figure(figsize=(10,7))\n",
    "for i in range(matrix_size):\n",
    "    plt.plot(time_block[i], reference_block[i])\n",
    "    pass"
   ]
  },
  {
   "cell_type": "code",
   "execution_count": null,
   "metadata": {
    "code_folding": [],
    "hidden": true
   },
   "outputs": [],
   "source": [
    "def edge_detection(specific_time, specific_refcount):    \n",
    "    linear_refcount = np.array(np.zeros(len(specific_refcount)))\n",
    "    \n",
    "    count_offset = 0\n",
    "    casp_flag = 0\n",
    "    casp = np.where(np.diff(specific_refcount) <= casp_threshold)[0].tolist()\n",
    "    \n",
    "    for i in range(len(specific_refcount)):\n",
    "        linear_refcount[i] = specific_refcount[i]+count_offset\n",
    "        if casp:\n",
    "            if i == casp[casp_flag]:\n",
    "                count_offset += specific_refcount[casp[casp_flag]]\n",
    "                if len(casp) > casp_flag+1:\n",
    "                    casp_flag += 1\n",
    "                    pass\n",
    "                pass\n",
    "            pass\n",
    "        pass\n",
    "    \n",
    "    modLinear = linear_refcount[::skip]\n",
    "    modTime = specific_time[::skip]\n",
    "    \n",
    "    positive = np.diff(modLinear) > 0.\n",
    "    edge_initial = np.array([])\n",
    "    edge_initial = np.where(positive[1:] & ~positive[:-1])[0]\n",
    "    edge_final = np.array([])\n",
    "    rep_edge = np.where(~positive[1:] & positive[:-1])[0]\n",
    "    for i in rep_edge:\n",
    "        edge_flag = 0\n",
    "        for j in range(edge_coverage):\n",
    "            if (np.diff(modLinear))[i+j] == 0:\n",
    "                edge_flag += 1\n",
    "                if edge_flag == flag_threshold:\n",
    "                    edge_final = np.append(edge_final, i+j+flag_threshold)\n",
    "                    break\n",
    "                    pass\n",
    "                pass\n",
    "            pass\n",
    " \n",
    "    return modTime, modLinear, edge_initial, edge_final"
   ]
  },
  {
   "cell_type": "code",
   "execution_count": null,
   "metadata": {
    "hidden": true
   },
   "outputs": [],
   "source": []
  },
  {
   "cell_type": "code",
   "execution_count": null,
   "metadata": {
    "code_folding": [
     0
    ],
    "hidden": true
   },
   "outputs": [],
   "source": [
    "def stable_detection(specific_time, specific_refcount):    \n",
    "    linear_refcount = np.array(np.zeros(len(specific_refcount)))\n",
    "    \n",
    "    count_offset = 0\n",
    "    casp_flag = 0\n",
    "    casp = np.where(np.diff(specific_refcount) <= casp_threshold)[0]\n",
    "\n",
    "    for i in range(len(specific_refcount)):\n",
    "        linear_refcount[i] = specific_refcount[i]+count_offset\n",
    "        if i == casp[casp_flag]:\n",
    "            count_offset += specific_refcount[casp[casp_flag]]\n",
    "            if len(casp) > casp_flag+1:\n",
    "                casp_flag += 1\n",
    "                pass\n",
    "            pass\n",
    "        pass\n",
    "\n",
    "    modLinear = linear_refcount[::skip]\n",
    "    modTime = specific_time[::skip]\n",
    "\n",
    "    stable_position = np.array([])\n",
    "    positive = (np.diff(modLinear) > 0.)\n",
    "    rep_stable = np.where(positive[1:] & ~positive[:-1])[0]\n",
    "\n",
    "    for i in range(len(rep_stable)):\n",
    "        #if i%pack_size == 0:\n",
    "            edge_flag = 0\n",
    "            for j in range(flag_threshold):\n",
    "                if (np.diff(modLinear))[rep_stable[i]-j] == 0:\n",
    "                    edge_flag += 1\n",
    "                    if edge_flag == flag_threshold:\n",
    "                        stable_position = np.append(stable_position, rep_stable[i]-60)\n",
    "                        break\n",
    "                        pass\n",
    "\n",
    "                    pass\n",
    "                pass\n",
    "            pass\n",
    " \n",
    "    return modTime, modLinear, stable_position"
   ]
  },
  {
   "cell_type": "code",
   "execution_count": null,
   "metadata": {
    "code_folding": [],
    "hidden": true
   },
   "outputs": [],
   "source": [
    "#make variables\n",
    "linTime = []\n",
    "linRef = []\n",
    "edge_initial = []\n",
    "edge_final = []\n",
    "\n",
    "proceeded_degrees = []\n",
    "operating_time = []\n",
    "\n",
    "\n",
    "for i in range(matrix_size):\n",
    "    linTime.append([])\n",
    "    linRef.append([])\n",
    "    edge_initial.append([])\n",
    "    edge_final.append([])\n",
    "    linTime[i], linRef[i], edge_initial[i], edge_final[i] = edge_detection(time_block[i],reference_block[i])\n",
    "    \n",
    "    proceeded_degrees.append([])\n",
    "    operating_time.append([])\n",
    "    proceeded_degrees[i] = np.append(proceeded_degrees[i], np.zeros(len(edge_initial[i])))\n",
    "    operating_time[i] = np.append(operating_time[i], np.zeros(len(edge_initial[i])))\n",
    "    for j in range(min(len(edge_initial[i]),len(edge_final[i]))):\n",
    "        proceeded_degrees[i][j] = (linRef[i][int(edge_final[i][j])]-linRef[i][int(edge_initial[i][j])])*Deg\n",
    "        operating_time[i][j] = linTime[i][int(edge_final[i][j])]-linTime[i][int(edge_initial[i][j])]"
   ]
  },
  {
   "cell_type": "code",
   "execution_count": null,
   "metadata": {
    "hidden": true
   },
   "outputs": [],
   "source": [
    "error_pack = [[0]]"
   ]
  },
  {
   "cell_type": "code",
   "execution_count": null,
   "metadata": {
    "hidden": true,
    "scrolled": true
   },
   "outputs": [],
   "source": [
    "error_pack = []\n",
    "for i in range(matrix_size):\n",
    "    error_pack.append([i])\n",
    "    pass\n",
    "error_pack"
   ]
  },
  {
   "cell_type": "code",
   "execution_count": null,
   "metadata": {
    "code_folding": [],
    "hidden": true
   },
   "outputs": [],
   "source": [
    "#avoid error\n",
    "error_position = []\n",
    "error_flag0 = 0\n",
    "\n",
    "error_flag2 = 0\n",
    "\n",
    "for i in range(matrix_size):\n",
    "    error_flag1 = 1\n",
    "    error_position.append([])\n",
    "    for j in range(100):\n",
    "        if i == error_pack[error_flag0][0]:\n",
    "            if error_flag1 <= len(error_pack[error_flag0])-1:\n",
    "                if j == error_pack[error_flag0][error_flag1]:\n",
    "                    #print(f'{error_pack[error_flag0][0]} {error_pack[error_flag0][error_flag1]}')\n",
    "                    error_position[i].append([])\n",
    "                    error_position[i][j] = False\n",
    "                    error_flag1 += 1\n",
    "                    error_flag2 = 1\n",
    "                    pass\n",
    "                else:\n",
    "                    error_position[i].append([])\n",
    "                    error_position[i][j] = True\n",
    "                    pass\n",
    "                pass\n",
    "            else:\n",
    "                error_position[i].append([])\n",
    "                error_position[i][j] = True\n",
    "                pass\n",
    "            pass\n",
    "        else:\n",
    "            error_position[i].append([])\n",
    "            error_position[i][j] = True\n",
    "            pass\n",
    "        pass\n",
    "    if error_flag2 == 1:\n",
    "        if error_flag0 != len(error_pack)-1:\n",
    "            error_flag0 += 1\n",
    "            error_flag2 = 0\n",
    "            pass\n",
    "        pass\n",
    "    pass"
   ]
  },
  {
   "cell_type": "code",
   "execution_count": null,
   "metadata": {
    "hidden": true
   },
   "outputs": [],
   "source": [
    "np.where(np.array(error_position) == False)[0]"
   ]
  },
  {
   "cell_type": "code",
   "execution_count": null,
   "metadata": {
    "hidden": true
   },
   "outputs": [],
   "source": [
    "len(error_position)"
   ]
  },
  {
   "cell_type": "code",
   "execution_count": null,
   "metadata": {
    "hidden": true,
    "scrolled": true
   },
   "outputs": [],
   "source": [
    "for i in range(len(error_position)):\n",
    "    print(f'{i} {len(error_position[i])} {len(operating_time[i])}')"
   ]
  },
  {
   "cell_type": "code",
   "execution_count": null,
   "metadata": {
    "hidden": true
   },
   "outputs": [],
   "source": [
    "opeTime_woErr = []\n",
    "proDeg_woErr = []\n",
    "linInitRef_woErr = []\n",
    "linFinRef_woErr = []\n",
    "linInitTime_woErr = []\n",
    "linFinTime_woErr = []\n",
    "for i in range(matrix_size):\n",
    "    opeTime_woErr.append([])\n",
    "    proDeg_woErr.append([])\n",
    "    linInitRef_woErr.append([])\n",
    "    linFinRef_woErr.append([])\n",
    "    linInitTime_woErr.append([])\n",
    "    linFinTime_woErr.append([])\n",
    "    for j in range(len(error_position[i])):\n",
    "        if error_position[i][j] != False:\n",
    "            opeTime_woErr[i].append(operating_time[i][j])\n",
    "            proDeg_woErr[i].append(proceeded_degrees[i][j])\n",
    "            linInitRef_woErr[i].append((linRef[i][edge_initial[i][j]]%52000)*360/52000)\n",
    "            linFinRef_woErr[i].append((linRef[i][int(edge_final[i][j])]%52000)*360/52000)\n",
    "            linInitTime_woErr[i].append(linTime[i][int(edge_initial[i][j])])\n",
    "            linFinTime_woErr[i].append(linTime[i][int(edge_final[i][j])])"
   ]
  },
  {
   "cell_type": "code",
   "execution_count": null,
   "metadata": {
    "hidden": true
   },
   "outputs": [],
   "source": [
    "len(edge_final[0])"
   ]
  },
  {
   "cell_type": "code",
   "execution_count": null,
   "metadata": {
    "hidden": true
   },
   "outputs": [],
   "source": [
    "for i in range(10):\n",
    "    print(f'{i} {edge_initial[0][i]} {edge_final[0][i]}')"
   ]
  },
  {
   "cell_type": "code",
   "execution_count": null,
   "metadata": {
    "hidden": true
   },
   "outputs": [],
   "source": [
    "len(error_position)"
   ]
  },
  {
   "cell_type": "code",
   "execution_count": null,
   "metadata": {
    "hidden": true,
    "scrolled": true
   },
   "outputs": [],
   "source": [
    "len(error_position[0])"
   ]
  },
  {
   "cell_type": "markdown",
   "metadata": {},
   "source": [
    "## Set variables2"
   ]
  },
  {
   "cell_type": "code",
   "execution_count": null,
   "metadata": {},
   "outputs": [],
   "source": [
    "time = timercount/200e6\n",
    "\n",
    "plot_slice = 50\n",
    "capture_slice = 500\n",
    "\n",
    "pos_roll = 5\n",
    "\n",
    "casp_threshold = -100\n",
    "\n",
    "Deg = 360/52000"
   ]
  },
  {
   "cell_type": "code",
   "execution_count": null,
   "metadata": {},
   "outputs": [],
   "source": [
    "storepath = './plots/'\n",
    "storename = 'Feb17_AmpTime'"
   ]
  },
  {
   "cell_type": "code",
   "execution_count": null,
   "metadata": {
    "code_folding": []
   },
   "outputs": [],
   "source": [
    "#first scketch of the rawdata\n",
    "fig01, axarr01 = plt.subplots(1,2,figsize=(14,7))\n",
    "ax01 = axarr01.ravel()\n",
    "\n",
    "ax01[0].plot(time[::100], reference[::100])\n",
    "ax01[0].set_xlabel('time[sec]')\n",
    "ax01[0].set_ylabel('reference count')\n",
    "\n",
    "ax01[1].scatter(np.diff(timercount), np.diff(reference))\n",
    "ax01[1].set_xlabel('difference time of lines')\n",
    "ax01[1].set_ylabel('difference counts of lines')"
   ]
  },
  {
   "cell_type": "code",
   "execution_count": null,
   "metadata": {},
   "outputs": [],
   "source": [
    "fig01.savefig(storepath + storename + '_RawAndCorr.png')"
   ]
  },
  {
   "cell_type": "code",
   "execution_count": null,
   "metadata": {
    "code_folding": [
     0
    ]
   },
   "outputs": [],
   "source": [
    "def packet_capture(dataframe, list_ampere, list_interval, UnixTime_Data):\n",
    "    JST = timezone(timedelta(hours=+9), 'JST')\n",
    "    initial_UnixTime = []\n",
    "    switching_UnixTime = []\n",
    "    start_UnixTime = []\n",
    "\n",
    "    for i in range(iteration):\n",
    "        start_UnixTime.append([])\n",
    "\n",
    "    for i in list_ampere:\n",
    "        for j in list_interval:\n",
    "            list_datetime = ((dataframe[dataframe.iloc[:,5] == i])[(dataframe[dataframe.iloc[:,5] == i]).iloc[:,8] == j]).iloc[:,0:2].to_numpy()\n",
    "            for k in range(len(list_datetime)):\n",
    "                if k%pack_size == 0:\n",
    "                    start_UnixTime[int(k/pack_size)] = (((datetime.strptime(list_datetime[k][0]+' '+list_datetime[k][1],\"%Y-%m-%d %H:%M:%S-%Z\")).replace(tzinfo=timezone.utc)).astimezone(JST)).timestamp()\n",
    "                    initial_UnixTime = np.append(initial_UnixTime, start_UnixTime[int(k/pack_size)])\n",
    "                    pass\n",
    "                pass\n",
    "            switching_UnixTime.append(min(start_UnixTime))\n",
    "            pass\n",
    "        pass\n",
    "\n",
    "    stop_UnixTime = dataframe[dataframe.iloc[:,2] == 'OFF'].iloc[-1,:]\n",
    "    end_UnixTime = (((datetime.strptime(stop_UnixTime[0]+' '+stop_UnixTime[1],\"%Y-%m-%d %H:%M:%S-%Z\")).replace(tzinfo=timezone.utc)).astimezone(JST)).timestamp()\n",
    "\n",
    "    captured_initials = []\n",
    "    captured_switching = []\n",
    "    \n",
    "    for i in range(len(switching_UnixTime)):\n",
    "        captured_switching.append(max(np.where(time_category[::capture_slice] <= switching_UnixTime[i])[0]))\n",
    "        pass\n",
    "    \n",
    "    for i in range(len(initial_UnixTime)):\n",
    "        captured_initials.append(max(np.where(time_category[::capture_slice] <= initial_UnixTime[i])[0]))\n",
    "        pass\n",
    "    \n",
    "    captured_end = min(np.where(end_UnixTime + pos_roll <= time_category[::capture_slice])[0])\n",
    "    \n",
    "    return captured_switching, captured_initials, captured_end"
   ]
  },
  {
   "cell_type": "code",
   "execution_count": null,
   "metadata": {
    "scrolled": true
   },
   "outputs": [],
   "source": [
    "swt, inits, end = packet_capture(df, list_amp, list_intv, time_category)"
   ]
  },
  {
   "cell_type": "code",
   "execution_count": null,
   "metadata": {
    "code_folding": [
     0
    ]
   },
   "outputs": [],
   "source": [
    "#block\n",
    "time_block = []\n",
    "reference_block = []\n",
    "\n",
    "for i in range(len(swt)-1):\n",
    "    time_block.append(time[int(np.where(time == (time[::capture_slice])[swt[i]-pos_roll])[0]):int(np.where(time == (time[::capture_slice])[swt[i+1]-pos_roll])[0])])\n",
    "    reference_block.append(reference[int(np.where(time == (time[::capture_slice])[swt[i]-pos_roll])[0]):int(np.where(time == (time[::capture_slice])[swt[i+1]-pos_roll])[0])])\n",
    "    pass\n",
    "time_block.append(time[int(np.where(time == (time[::capture_slice])[swt[-1]-pos_roll])[0]):int(np.where(time == (time[::capture_slice])[end+pos_roll])[0])])\n",
    "reference_block.append(reference[int(np.where(time == (time[::capture_slice])[swt[-1]-pos_roll])[0]):int(np.where(time == (time[::capture_slice])[end+pos_roll])[0])])\n",
    "\n",
    "lincount_block = []\n",
    "block_initials = []\n",
    "\n",
    "for i in range(matrix_size):\n",
    "    lincount_block.append([])\n",
    "    lincount_block[i] = np.array(np.zeros(len(reference_block[i])))\n",
    "    \n",
    "    count_offset = 0\n",
    "    casp_flag = 0\n",
    "    casp = np.where(np.diff(reference_block[i]) <= casp_threshold)[0].tolist()\n",
    "\n",
    "    for j in range(len(reference_block[i])):\n",
    "        lincount_block[i][j] = reference_block[i][j]+count_offset\n",
    "        if casp:\n",
    "            if j == casp[casp_flag]:\n",
    "                count_offset += reference_block[i][casp[casp_flag]]\n",
    "                if len(casp) > casp_flag+1:\n",
    "                    casp_flag += 1\n",
    "                    pass\n",
    "                pass\n",
    "            pass\n",
    "        pass\n",
    "    \n",
    "    block_initials.append([])\n",
    "    for j in range(iteration):\n",
    "        block_initials[i].append(int(np.where(time_block[i] == (time[::capture_slice])[(inits[i*100:(i+1)*100])[j]-pos_roll])[0]))\n",
    "        pass"
   ]
  },
  {
   "cell_type": "code",
   "execution_count": null,
   "metadata": {},
   "outputs": [],
   "source": [
    "print(\"{}{: >25}{}{: >10}{}\".format('|','Variable Name','|','Memory','|'))\n",
    "print(\" ------------------------------------ \")\n",
    "for var_name in dir():\n",
    "    if not var_name.startswith(\"_\") and sys.getsizeof(eval(var_name)) > 1000: #ここだけアレンジ\n",
    "        print(\"{}{: >25}{}{: >10}{}\".format('|',var_name,'|',sys.getsizeof(eval(var_name)),'|'))"
   ]
  },
  {
   "cell_type": "code",
   "execution_count": null,
   "metadata": {},
   "outputs": [],
   "source": [
    "del df"
   ]
  },
  {
   "cell_type": "code",
   "execution_count": null,
   "metadata": {},
   "outputs": [],
   "source": [
    "error_pack = [[1,83], [4,50], [5,61,82], [6,55], [7,38], [9,20,81], [10,4,17,57,79],\n",
    "             [11,30], [16,33,64,86], [17,20,91], [19,71], [21,2,63], [22,40],\n",
    "             [23,81], [25,42,74], [26,80], [28,38,51,91], [29,58], [31,18], [33,21,91],\n",
    "             [34,62,84], [35,18,35,39,85]]"
   ]
  },
  {
   "cell_type": "code",
   "execution_count": null,
   "metadata": {
    "code_folding": [
     0
    ]
   },
   "outputs": [],
   "source": [
    "#avoid error\n",
    "error_position = []\n",
    "error_flag0 = 0\n",
    "\n",
    "error_flag2 = 0\n",
    "\n",
    "for i in range(matrix_size):\n",
    "    error_flag1 = 1\n",
    "    error_position.append([])\n",
    "    for j in range(100):\n",
    "        if i == error_pack[error_flag0][0]:\n",
    "            if error_flag1 <= len(error_pack[error_flag0])-1:\n",
    "                if j == error_pack[error_flag0][error_flag1]:\n",
    "                    #print(f'{error_pack[error_flag0][0]} {error_pack[error_flag0][error_flag1]}')\n",
    "                    error_position[i].append([])\n",
    "                    error_position[i][j] = False\n",
    "                    error_flag1 += 1\n",
    "                    error_flag2 = 1\n",
    "                    pass\n",
    "                else:\n",
    "                    error_position[i].append([])\n",
    "                    error_position[i][j] = True\n",
    "                    pass\n",
    "                pass\n",
    "            else:\n",
    "                error_position[i].append([])\n",
    "                error_position[i][j] = True\n",
    "                pass\n",
    "            pass\n",
    "        else:\n",
    "            error_position[i].append([])\n",
    "            error_position[i][j] = True\n",
    "            pass\n",
    "        pass\n",
    "    if error_flag2 == 1:\n",
    "        if error_flag0 != len(error_pack)-1:\n",
    "            error_flag0 += 1\n",
    "            error_flag2 = 0\n",
    "            pass\n",
    "        pass\n",
    "    pass"
   ]
  },
  {
   "cell_type": "code",
   "execution_count": null,
   "metadata": {},
   "outputs": [],
   "source": []
  },
  {
   "cell_type": "code",
   "execution_count": null,
   "metadata": {},
   "outputs": [],
   "source": [
    "onecycle_time = []\n",
    "proceeded_degrees = []\n",
    "for i in range(matrix_size):\n",
    "    onecycle_time.append([])\n",
    "    proceeded_degrees.append([])\n",
    "    for j in range(iteration):\n",
    "        if j != iteration - 1:\n",
    "            hoge = (time_block[i][block_initials[i][j]:block_initials[i][j+1]])-time_block[i][block_initials[i][j]]\n",
    "            place = min(np.where(hoge >= cut_place[i%6])[0])\n",
    "            onecycle_time[i].append(time_block[i][block_initials[i][j] + place]-time_block[i][block_initials[i][j]])\n",
    "            proceeded_degrees[i].append((lincount_block[i][block_initials[i][j] + place]-lincount_block[i][block_initials[i][j]])*Deg)\n",
    "            pass\n",
    "        else:\n",
    "            hoge = (time_block[i][block_initials[i][j]:-1])-time_block[i][block_initials[i][j]]\n",
    "            place = min(np.where(hoge >= cut_place[i%6])[0])\n",
    "            onecycle_time[i].append(time_block[i][block_initials[i][j] + place]-time_block[i][block_initials[i][j]])\n",
    "            proceeded_degrees[i].append((lincount_block[i][block_initials[i][j] + place]-lincount_block[i][block_initials[i][j]])*Deg)\n",
    "        pass\n",
    "    pass"
   ]
  },
  {
   "cell_type": "code",
   "execution_count": null,
   "metadata": {},
   "outputs": [],
   "source": [
    "proDeg_woErr = []\n",
    "linCount_woErr = []\n",
    "for i in range(matrix_size):\n",
    "    proDeg_woErr.append([])\n",
    "    linCount_woErr.append([])\n",
    "    for j in range(iteration):\n",
    "        if error_position[i][j] != False:\n",
    "            proDeg_woErr[i].append(proceeded_degrees[i][j])\n",
    "            linCount_woErr[i].append((lincount_block[i][block_initials[i]])[j])"
   ]
  },
  {
   "cell_type": "code",
   "execution_count": null,
   "metadata": {
    "code_folding": [
     0
    ]
   },
   "outputs": [],
   "source": [
    "#region\n",
    "figX = plt.figure(figsize=(22,12))\n",
    "for i in range(matrix_size):\n",
    "    plt.plot(time_block[i], reference_block[i])\n",
    "    pass\n",
    "for i in range(matrix_size):\n",
    "    if i%6 == 5:\n",
    "        plt.axvline(time_block[i][-1], color='b', label=f'end_{round((1.5+0.3*int(i/6)),2)}sec')"
   ]
  },
  {
   "cell_type": "code",
   "execution_count": null,
   "metadata": {},
   "outputs": [],
   "source": []
  },
  {
   "cell_type": "code",
   "execution_count": null,
   "metadata": {},
   "outputs": [],
   "source": []
  },
  {
   "cell_type": "code",
   "execution_count": null,
   "metadata": {},
   "outputs": [],
   "source": [
    "cut_place = [2.5, 3.0, 3.5, 3.9, 4.33, 4.8]"
   ]
  },
  {
   "cell_type": "code",
   "execution_count": null,
   "metadata": {
    "scrolled": true
   },
   "outputs": [],
   "source": [
    "i = 35\n",
    "for j in range(99):\n",
    "    if error_position[i][j] != False:\n",
    "        hoge = (time_block[i][block_initials[i][j]:block_initials[i][j+1]])-time_block[i][block_initials[i][j]]\n",
    "        place = min(np.where(hoge >= cut_place[i%6])[0])\n",
    "        plt.plot(((time_block[i][block_initials[i][j]:block_initials[i][j] + place])[::plot_slice])[:-1]-time_block[i][block_initials[i][j]],\n",
    "                        np.diff((lincount_block[i][block_initials[i][j]:block_initials[i][j] + place])[::plot_slice]), label=f'num_{j}')\n",
    "    #plt.legend(fontsize=20)"
   ]
  },
  {
   "cell_type": "code",
   "execution_count": null,
   "metadata": {},
   "outputs": [],
   "source": [
    "ref_threshold = 1000\n",
    "\n",
    "cut_sum = []\n",
    "for j in range(99):\n",
    "    hoge = np.where(np.diff((lincount_block[i][block_initials[i][j]:block_initials[i][j] + place])[::plot_slice]) > ref_threshold)[0]\n",
    "    if hoge:\n",
    "        cut_sum.append(j)\n",
    "        pass\n",
    "cut_sum\n",
    "                "
   ]
  },
  {
   "cell_type": "code",
   "execution_count": null,
   "metadata": {
    "scrolled": false
   },
   "outputs": [],
   "source": [
    "fig10, axarr10 = plt.subplots(6,6,figsize=(24,24))\n",
    "ax10 = axarr10.ravel()\n",
    "\n",
    "for i in range(matrix_size):\n",
    "    for j in range(iteration-1):\n",
    "        if error_position[i][j] != False:\n",
    "            hoge = (time_block[i][block_initials[i][j]:block_initials[i][j+1]])-time_block[i][block_initials[i][j]]\n",
    "            place = min(np.where(hoge >= cut_place[i%6])[0])\n",
    "            ax10[i].plot(((time_block[i][block_initials[i][j]:block_initials[i][j] + place])[::plot_slice])[:-1]-time_block[i][block_initials[i][j]],\n",
    "                        np.diff((lincount_block[i][block_initials[i][j]:block_initials[i][j] + place])[::plot_slice]))\n",
    "            ax10[i].set_title(f'{round((1.5+0.3*int(i/6)),2)}A_{0.5*(1+i%6)}sec')\n",
    "        "
   ]
  },
  {
   "cell_type": "code",
   "execution_count": null,
   "metadata": {},
   "outputs": [],
   "source": [
    "fig10.savefig(storepath + storename +'_speed1-avoidERROR.png', facecolor='white')"
   ]
  },
  {
   "cell_type": "code",
   "execution_count": null,
   "metadata": {},
   "outputs": [],
   "source": [
    "i = 14\n",
    "j = 20\n",
    "plt.plot(((time_block[i][block_initials[i][j]:block_initials[i][j+1]])[::plot_slice])[:-1]-time_block[i][block_initials[i][j]],\n",
    "        np.diff((lincount_block[i][block_initials[i][j]:block_initials[i][j+1]])[::plot_slice]))"
   ]
  },
  {
   "cell_type": "code",
   "execution_count": null,
   "metadata": {},
   "outputs": [],
   "source": [
    "i = 19\n",
    "j = 20\n",
    "\n",
    "hoge = np.diff((lincount_block[i][block_initials[i][j]:block_initials[i][j+1]])[::plot_slice]) > 0\n",
    "fuga = np.where(~hoge[:-1] & hoge[1:])\n",
    "piyo = ((time_block[i][block_initials[i][j]:block_initials[i][j+1]])[::plot_slice])[1:]\n",
    "kue = (((time_block[i][block_initials[i][j]:block_initials[i][j+1]])[::plot_slice])[1:])[fuga]\n",
    "\n",
    "figY = plt.figure(figsize=(10,7))\n",
    "\n",
    "plt.plot(piyo-kue, np.diff((lincount_block[i][block_initials[i][j]:block_initials[i][j+1]])[::plot_slice]), color='k', label='new black belt')\n",
    "plt.axvline(0.95)\n",
    "plt.axvline(1.15)\n",
    "plt.xlabel('time[sec]')\n",
    "plt.ylabel('difference of counts (~speed)')\n",
    "plt.xlim([-0.5,2.])\n",
    "plt.ylim([-20,330])\n",
    "plt.legend(loc='upper left', fontsize=15)"
   ]
  },
  {
   "cell_type": "code",
   "execution_count": null,
   "metadata": {},
   "outputs": [],
   "source": [
    "proceeded_degrees[i][j]"
   ]
  },
  {
   "cell_type": "code",
   "execution_count": null,
   "metadata": {},
   "outputs": [],
   "source": []
  },
  {
   "cell_type": "code",
   "execution_count": null,
   "metadata": {},
   "outputs": [],
   "source": [
    "figY.savefig(storepath + storename + '_form_21e-1A-1sec_num20.png', transparent=True)"
   ]
  },
  {
   "cell_type": "code",
   "execution_count": null,
   "metadata": {},
   "outputs": [],
   "source": [
    "i = 19\n",
    "j = 20\n",
    "\n",
    "toki = np.diff(((time_block[i][block_initials[i][j]:block_initials[i][j+1]])[::plot_slice]))\n",
    "basho = np.diff((lincount_block[i][block_initials[i][j]:block_initials[i][j+1]])[::plot_slice])\n",
    "\n",
    "hoge = np.diff((lincount_block[i][block_initials[i][j]:block_initials[i][j+1]])[::plot_slice]) > 0\n",
    "fuga = np.where(~hoge[:-1] & hoge[1:])\n",
    "piyo = ((time_block[i][block_initials[i][j]:block_initials[i][j+1]])[::plot_slice])[:-1]\n",
    "kue = (((time_block[i][block_initials[i][j]:block_initials[i][j+1]])[::plot_slice])[:-1])[fuga]\n",
    "saku = basho/toki\n",
    "\n",
    "figY = plt.figure(figsize=(10,7))\n",
    "\n",
    "plt.plot((piyo-kue)[1:], np.diff(saku)/np.diff(toki), color='k', label='new black belt')\n",
    "plt.axvline(0)\n",
    "plt.xlabel('time[sec]')\n",
    "plt.ylabel('acceleration')\n",
    "plt.xlim([0.95,1.15])\n",
    "plt.ylim([-20,1e9])\n",
    "plt.legend(loc='upper left', fontsize=15)"
   ]
  },
  {
   "cell_type": "markdown",
   "metadata": {},
   "source": [
    "* <span style=\"font-size: 200%; color: red;\">Here is a check point of analysis.</span>"
   ]
  },
  {
   "cell_type": "code",
   "execution_count": null,
   "metadata": {},
   "outputs": [],
   "source": []
  },
  {
   "cell_type": "code",
   "execution_count": null,
   "metadata": {},
   "outputs": [],
   "source": []
  },
  {
   "cell_type": "code",
   "execution_count": null,
   "metadata": {},
   "outputs": [],
   "source": []
  },
  {
   "cell_type": "code",
   "execution_count": null,
   "metadata": {},
   "outputs": [],
   "source": []
  },
  {
   "cell_type": "code",
   "execution_count": null,
   "metadata": {},
   "outputs": [],
   "source": []
  },
  {
   "cell_type": "code",
   "execution_count": null,
   "metadata": {
    "scrolled": true
   },
   "outputs": [],
   "source": [
    "fig11, axarr11 = plt.subplots(6,6,figsize=(24,24))\n",
    "ax11 = axarr11.ravel()\n",
    "\n",
    "for i in range(matrix_size):\n",
    "    ax11[i].scatter(np.array(linCount_woErr[i])%52000*Deg,proDeg_woErr[i])\n",
    "    ax11[i].set_title(f'{round((1.5+0.3*int(i/6)),2)}A_{round(0.4 + 0.4*i%6,2)}sec')"
   ]
  },
  {
   "cell_type": "code",
   "execution_count": null,
   "metadata": {},
   "outputs": [],
   "source": [
    "fig11.savefig(storepath + storename + '_POSvsDEG-avoidERROR.png',facecolor='white')"
   ]
  },
  {
   "cell_type": "code",
   "execution_count": null,
   "metadata": {
    "scrolled": true
   },
   "outputs": [],
   "source": [
    "fig12, axarr12 = plt.subplots(6,6,figsize=(24,24))\n",
    "ax12 = axarr12.ravel()\n",
    "\n",
    "for i in range(matrix_size):\n",
    "    ax12[i].hist(proDeg_woErr[i])\n",
    "    ax12[i].set_title(f'{round((1.5+0.3*int(i/6)),2)}A_{round(0.4 + 0.4*i%6,2)}sec')"
   ]
  },
  {
   "cell_type": "code",
   "execution_count": null,
   "metadata": {},
   "outputs": [],
   "source": [
    "fig12.savefig(storepath + storename + '_histDEG-avoidERROR.png', facecolor='white')"
   ]
  },
  {
   "cell_type": "code",
   "execution_count": null,
   "metadata": {},
   "outputs": [],
   "source": [
    "proDeg_mean = []\n",
    "proDeg_stdv = []\n",
    "\n",
    "for i in range(6):\n",
    "    proDeg_mean.append([])  \n",
    "    proDeg_stdv.append([])\n",
    "for i in range(matrix_size):\n",
    "    proDeg_mean[int(i/6)].append(np.mean(proDeg_woErr[i]))\n",
    "    proDeg_stdv[int(i/6)].append(np.std(proDeg_woErr[i]))\n",
    "    pass"
   ]
  },
  {
   "cell_type": "code",
   "execution_count": null,
   "metadata": {},
   "outputs": [],
   "source": [
    "figXX = plt.figure(figsize=(10,7))\n",
    "plt.rcParams[\"font.size\"] = 20\n",
    "for i in range(6):\n",
    "    plt.plot(proDeg_mean[i], proDeg_stdv[i], label=f'{round(1.5+i*0.3,2)}A')\n",
    "    plt.scatter(proDeg_mean[i], proDeg_stdv[i])\n",
    "    pass\n",
    "plt.xlabel('respective mean of proceeded degrees[degree]')\n",
    "plt.ylabel('standard deviation[degree]')\n",
    "plt.xlim([-30,360])\n",
    "plt.ylim([0,10.5])\n",
    "# plt.axvline(360)\n",
    "plt.legend(loc='lower right', fontsize=20)"
   ]
  },
  {
   "cell_type": "code",
   "execution_count": null,
   "metadata": {},
   "outputs": [],
   "source": [
    "figXX.savefig(storepath + storename + '_DEGvsSTD.png', transparent=True)"
   ]
  },
  {
   "cell_type": "code",
   "execution_count": null,
   "metadata": {},
   "outputs": [],
   "source": []
  },
  {
   "cell_type": "code",
   "execution_count": null,
   "metadata": {},
   "outputs": [],
   "source": []
  },
  {
   "cell_type": "code",
   "execution_count": null,
   "metadata": {},
   "outputs": [],
   "source": []
  },
  {
   "cell_type": "code",
   "execution_count": null,
   "metadata": {},
   "outputs": [],
   "source": [
    "print(\"{}{: >25}{}{: >10}{}\".format('|','Variable Name','|','Memory','|'))\n",
    "print(\" ------------------------------------ \")\n",
    "for var_name in dir():\n",
    "    if not var_name.startswith(\"_\") and sys.getsizeof(eval(var_name)) > 1000: #ここだけアレンジ\n",
    "        print(\"{}{: >25}{}{: >10}{}\".format('|',var_name,'|',sys.getsizeof(eval(var_name)),'|'))"
   ]
  },
  {
   "cell_type": "code",
   "execution_count": null,
   "metadata": {},
   "outputs": [],
   "source": [
    "#del df, initial_lines, time, rep, hoge"
   ]
  },
  {
   "cell_type": "code",
   "execution_count": null,
   "metadata": {},
   "outputs": [],
   "source": []
  },
  {
   "cell_type": "code",
   "execution_count": null,
   "metadata": {},
   "outputs": [],
   "source": []
  },
  {
   "cell_type": "code",
   "execution_count": null,
   "metadata": {},
   "outputs": [],
   "source": []
  },
  {
   "cell_type": "markdown",
   "metadata": {
    "heading_collapsed": true
   },
   "source": [
    "# Plots"
   ]
  },
  {
   "cell_type": "code",
   "execution_count": null,
   "metadata": {
    "hidden": true,
    "scrolled": true
   },
   "outputs": [],
   "source": [
    "fig10 ,axarr10 = plt.subplots(6,6,figsize=(26,28))\n",
    "ax10 = axarr10.ravel()\n",
    "\n",
    "for i in range(matrix_size):\n",
    "    for j in range(min(len(edge_initial[i]),len(edge_final[i]))):\n",
    "        #if error_position[i][j] != False:\n",
    "        ax10[i].plot((linTime[i][:-1])[int(edge_initial[i][j]):int(edge_final[i][j])]-(linTime[i][:-1])[int(edge_initial[i][j])],\n",
    "                    (np.diff(linRef[i]))[int(edge_initial[i][j]):int(edge_final[i][j])])\n",
    "        ax10[i].set_title(f'{round((1.2+0.3*int(i/6)),2)}A_{0.5*(1+i%6)}sec')\n",
    "        #ax10[i].xaxis.set_major_locator(tik.MultipleLocator(0.5))"
   ]
  },
  {
   "cell_type": "code",
   "execution_count": null,
   "metadata": {
    "hidden": true
   },
   "outputs": [],
   "source": [
    "#fig10.savefig(storepath + storename +'_speed1.png', facecolor='white')"
   ]
  },
  {
   "cell_type": "code",
   "execution_count": null,
   "metadata": {
    "hidden": true
   },
   "outputs": [],
   "source": [
    "i = 0\n",
    "\n",
    "fig = plt.figure(figsize=(10,7))\n",
    "#for j in range(min(len(edge_initial[i]),len(edge_final[i]))):\n",
    "for j in range(0,10):\n",
    "    #if error_position[i][j] != False:\n",
    "    plt.plot((linTime[i][:-1])[int(edge_initial[i][j]):int(edge_final[i][j])]-(linTime[i][:-1])[int(edge_initial[i][j])],\n",
    "                (np.diff(linRef[i]))[int(edge_initial[i][j]):int(edge_final[i][j])])\n",
    "    plt.title(f'{round((1.2+0.3*int(i/6)),2)}A_{0.5*(1+i%6)}sec')"
   ]
  },
  {
   "cell_type": "code",
   "execution_count": null,
   "metadata": {
    "hidden": true
   },
   "outputs": [],
   "source": []
  },
  {
   "cell_type": "code",
   "execution_count": null,
   "metadata": {
    "hidden": true
   },
   "outputs": [],
   "source": []
  },
  {
   "cell_type": "code",
   "execution_count": null,
   "metadata": {
    "hidden": true
   },
   "outputs": [],
   "source": [
    "fig11 ,axarr11 = plt.subplots(6,6,figsize=(24,22))\n",
    "ax11 = axarr11.ravel()\n",
    "\n",
    "for i in range(matrix_size):\n",
    "    ax11[i].scatter(linInitRef_woErr[i],proDeg_woErr[i], s=20)\n",
    "    ax11[i].set_title(f'{round((1.2+0.3*int(i/6)),2)}A_{0.5*(1+i%6)}sec')\n",
    "    pass"
   ]
  },
  {
   "cell_type": "code",
   "execution_count": null,
   "metadata": {
    "hidden": true
   },
   "outputs": [],
   "source": [
    "#fig11.savefig(storepath + storename + '_TvsDEG.png', facecolor='white')"
   ]
  },
  {
   "cell_type": "code",
   "execution_count": null,
   "metadata": {
    "hidden": true,
    "scrolled": false
   },
   "outputs": [],
   "source": [
    "fig12 = plt.figure(figsize=(10,7))\n",
    "for i in range(matrix_size):\n",
    "    plt.scatter(linInitRef_woErr[i], proDeg_woErr[i])\n",
    "    pass\n",
    "plt.title('2.1A 0.55sec position VS degrees')\n",
    "plt.xlabel('position[deg]')\n",
    "plt.ylabel('proceeded degrees[deg]')"
   ]
  },
  {
   "cell_type": "code",
   "execution_count": null,
   "metadata": {
    "hidden": true
   },
   "outputs": [],
   "source": [
    "int(len(linInitRef_woErr[0])/16)"
   ]
  },
  {
   "cell_type": "code",
   "execution_count": null,
   "metadata": {
    "hidden": true
   },
   "outputs": [],
   "source": [
    "hoge = []\n",
    "for i in range(int(len(linInitRef_woErr[0])/16)):\n",
    "    hoge.append(linInitRef_woErr[0][16*i:16*(i+1)])\n",
    "    pass\n",
    "#hoge"
   ]
  },
  {
   "cell_type": "code",
   "execution_count": null,
   "metadata": {
    "hidden": true
   },
   "outputs": [],
   "source": [
    "360/23"
   ]
  },
  {
   "cell_type": "code",
   "execution_count": null,
   "metadata": {
    "hidden": true
   },
   "outputs": [],
   "source": [
    "plt.hist(linInitRef_woErr[0],range=[0,360],bins=15)"
   ]
  },
  {
   "cell_type": "code",
   "execution_count": null,
   "metadata": {
    "hidden": true
   },
   "outputs": [],
   "source": [
    "hist_color = ['bisque', 'lightgreen', 'skyblue']\n",
    "fuga = []\n",
    "for i in range(int(len(linInitRef_woErr[0])/16)):\n",
    "    fuga.append(hist_color[i%3])"
   ]
  },
  {
   "cell_type": "code",
   "execution_count": null,
   "metadata": {
    "hidden": true,
    "scrolled": true
   },
   "outputs": [],
   "source": [
    "fig = plt.figure(figsize=(10,7))\n",
    "plt.hist(hoge,range=[0,360],bins=15,stacked=True,color=fuga)"
   ]
  },
  {
   "cell_type": "code",
   "execution_count": null,
   "metadata": {
    "hidden": true
   },
   "outputs": [],
   "source": []
  },
  {
   "cell_type": "code",
   "execution_count": null,
   "metadata": {
    "hidden": true
   },
   "outputs": [],
   "source": [
    "#fig12.savefig(storepath + storename + '_POSvsDEG.png', facecolor='white')"
   ]
  },
  {
   "cell_type": "code",
   "execution_count": null,
   "metadata": {
    "hidden": true
   },
   "outputs": [],
   "source": [
    "fig13 = plt.figure()\n",
    "for i in range(matrix_size):\n",
    "    plt.hist(proDeg_woErr[i], bins=15)\n",
    "    pass\n",
    "plt.title('2.1A 0.55sec proceeded degrees hist')\n",
    "plt.xlabel('proceeded degrees[deg]')\n",
    "plt.ylabel('number of events')"
   ]
  },
  {
   "cell_type": "code",
   "execution_count": null,
   "metadata": {
    "hidden": true
   },
   "outputs": [],
   "source": [
    "#fig13.savefig(storepath + storename + '_histDEG.png', facecolor='white')"
   ]
  },
  {
   "cell_type": "code",
   "execution_count": null,
   "metadata": {
    "code_folding": [],
    "hidden": true,
    "scrolled": false
   },
   "outputs": [],
   "source": [
    "#Fitting histogram\n",
    "fig14 = plt.figure(figsize=(10,7))\n",
    "mu, std = norm.fit(proDeg_woErr)\n",
    "\n",
    "# Plot the histogram.\n",
    "plt.hist(proDeg_woErr, bins=15, density=True, alpha=0.3, color='g', label='2.1A 0.55sec')\n",
    "plt.legend(fontsize=15,loc='upper right')\n",
    "\n",
    "# Plot the PDF.\n",
    "xmin, xmax = plt.xlim([0,40])\n",
    "plt.ylim([0.,0.18])\n",
    "x = np.linspace(xmin, xmax, 100)\n",
    "p = norm.pdf(x, mu, std)\n",
    "plt.plot(x, p, 'k', linewidth=2)\n",
    "plt.title(f'Fit Result: mu={round(mu,2)}, std={round(std,2)}')\n",
    "plt.xlabel('proceeded degrees[deg]')\n",
    "plt.ylabel('number of events')"
   ]
  },
  {
   "cell_type": "code",
   "execution_count": null,
   "metadata": {
    "hidden": true
   },
   "outputs": [],
   "source": [
    "#fig14.savefig(storepath + storename + '_histDEG_FIT0.png', facecolor='white')"
   ]
  },
  {
   "cell_type": "code",
   "execution_count": null,
   "metadata": {
    "hidden": true
   },
   "outputs": [],
   "source": []
  },
  {
   "cell_type": "code",
   "execution_count": null,
   "metadata": {
    "hidden": true
   },
   "outputs": [],
   "source": []
  },
  {
   "cell_type": "code",
   "execution_count": null,
   "metadata": {
    "hidden": true
   },
   "outputs": [],
   "source": []
  },
  {
   "cell_type": "code",
   "execution_count": null,
   "metadata": {
    "hidden": true
   },
   "outputs": [],
   "source": []
  },
  {
   "cell_type": "markdown",
   "metadata": {},
   "source": [
    "# Others"
   ]
  },
  {
   "cell_type": "code",
   "execution_count": null,
   "metadata": {},
   "outputs": [],
   "source": []
  }
 ],
 "metadata": {
  "kernelspec": {
   "display_name": "Python 3",
   "language": "python",
   "name": "python3"
  },
  "language_info": {
   "codemirror_mode": {
    "name": "ipython",
    "version": 3
   },
   "file_extension": ".py",
   "mimetype": "text/x-python",
   "name": "python",
   "nbconvert_exporter": "python",
   "pygments_lexer": "ipython3",
   "version": "3.7.7"
  }
 },
 "nbformat": 4,
 "nbformat_minor": 4
}
