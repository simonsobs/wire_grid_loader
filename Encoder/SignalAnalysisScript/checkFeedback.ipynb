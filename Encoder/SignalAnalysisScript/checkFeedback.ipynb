{
 "cells": [
  {
   "cell_type": "code",
   "execution_count": null,
   "metadata": {},
   "outputs": [],
   "source": [
    "import sys\n",
    "import numpy as np\n",
    "import matplotlib.pyplot as plt\n",
    "import matplotlib.ticker as tik\n",
    "import pandas as pd\n",
    "from datetime import datetime, timezone, timedelta\n",
    "\n",
    "from scipy.stats import norm\n",
    "import matplotlib.mlab as mlab\n",
    "\n",
    "from operator import add\n",
    "\n",
    "#from matplotlib import gridspec\n",
    "from scipy.optimize import curve_fit"
   ]
  },
  {
   "cell_type": "markdown",
   "metadata": {},
   "source": [
    "# Input data and log"
   ]
  },
  {
   "cell_type": "code",
   "execution_count": null,
   "metadata": {},
   "outputs": [],
   "source": [
    "#file path and name\n",
    "filepath = './rawdata/'\n",
    "filename = 'Feb16_checkEther1.dat'\n",
    "\n",
    "time_category, error, direction, timercount, reference = np.loadtxt(filepath + filename, comments='#', unpack=True)"
   ]
  },
  {
   "cell_type": "code",
   "execution_count": null,
   "metadata": {},
   "outputs": [],
   "source": [
    "logpath = './log/'\n",
    "logfilename = 'PMX_2021-02-16.dat'\n",
    "\n",
    "df = pd.read_csv(logpath + logfilename, delim_whitespace=True, comment='#', skiprows=3322)"
   ]
  },
  {
   "cell_type": "code",
   "execution_count": null,
   "metadata": {},
   "outputs": [],
   "source": [
    "df"
   ]
  },
  {
   "cell_type": "code",
   "execution_count": null,
   "metadata": {},
   "outputs": [],
   "source": [
    "position_log = (df.iloc[:,9][df.iloc[:,9] != \"--------\"])[(df.iloc[:,9][df.iloc[:,9] != \"--------\"]) != \"0.000\"].astype(float).to_numpy()\n",
    "position_log"
   ]
  },
  {
   "cell_type": "code",
   "execution_count": null,
   "metadata": {},
   "outputs": [],
   "source": [
    "iteration = 224\n",
    "\n",
    "list_amp = [3.0]\n",
    "list_intv = ['0.401']\n",
    "\n",
    "matrix_size = 1\n",
    "\n",
    "pack_size = 1"
   ]
  },
  {
   "cell_type": "code",
   "execution_count": null,
   "metadata": {},
   "outputs": [],
   "source": [
    "min(error)"
   ]
  },
  {
   "cell_type": "code",
   "execution_count": null,
   "metadata": {},
   "outputs": [],
   "source": [
    "storepath = './plots/'\n",
    "storename = 'Feb16_checkEther'"
   ]
  },
  {
   "cell_type": "markdown",
   "metadata": {},
   "source": [
    "## Set variables2"
   ]
  },
  {
   "cell_type": "code",
   "execution_count": null,
   "metadata": {},
   "outputs": [],
   "source": [
    "time = timercount/200e6\n",
    "\n",
    "plot_slice = 30\n",
    "capture_slice = 1000\n",
    "\n",
    "pos_roll = 3\n",
    "\n",
    "casp_threshold = -100\n",
    "\n",
    "error_UnixTime = np.array(time_category[np.where((np.diff(timercount) > 110000) | (np.diff(timercount) < 90000))[0]], dtype=int)\n",
    "error_Time = time[np.where((np.diff(timercount) > 110000) | (np.diff(timercount) < 90000))[0]]\n",
    "\n",
    "Deg = 360/52000\n",
    "invDeg = 52000/360"
   ]
  },
  {
   "cell_type": "code",
   "execution_count": null,
   "metadata": {
    "scrolled": true
   },
   "outputs": [],
   "source": [
    "error_UnixTime"
   ]
  },
  {
   "cell_type": "code",
   "execution_count": null,
   "metadata": {},
   "outputs": [],
   "source": [
    "len(error_UnixTime)"
   ]
  },
  {
   "cell_type": "code",
   "execution_count": null,
   "metadata": {
    "code_folding": []
   },
   "outputs": [],
   "source": [
    "#first scketch of the rawdata\n",
    "fig01, axarr01 = plt.subplots(1,2,figsize=(14,7))\n",
    "ax01 = axarr01.ravel()\n",
    "\n",
    "ax01[0].plot(time[::100], reference[::100])\n",
    "ax01[0].set_xlabel('time[sec]')\n",
    "ax01[0].set_ylabel('reference count')\n",
    "\n",
    "ax01[1].scatter(np.diff(timercount), np.diff(reference))\n",
    "ax01[1].set_xlabel('difference time of lines')\n",
    "ax01[1].set_ylabel('difference counts of lines')"
   ]
  },
  {
   "cell_type": "code",
   "execution_count": null,
   "metadata": {},
   "outputs": [],
   "source": [
    "hoge = np.where((np.diff(timercount) > 101000) | (np.diff(timercount) < 99000))[0]\n",
    "len(hoge)"
   ]
  },
  {
   "cell_type": "code",
   "execution_count": null,
   "metadata": {},
   "outputs": [],
   "source": [
    "#fig01.savefig(storepath + storename + '_RawAndCorr.png')"
   ]
  },
  {
   "cell_type": "code",
   "execution_count": null,
   "metadata": {},
   "outputs": [],
   "source": []
  },
  {
   "cell_type": "code",
   "execution_count": null,
   "metadata": {
    "code_folding": [
     0
    ]
   },
   "outputs": [],
   "source": [
    "def packet_capture(dataframe, list_ampere, list_interval, UnixTime_Data):\n",
    "    JST = timezone(timedelta(hours=+9), 'JST')\n",
    "    initial_UnixTime = []\n",
    "    switching_UnixTime = []\n",
    "    start_UnixTime = []\n",
    "\n",
    "    for i in range(iteration):\n",
    "        start_UnixTime.append([])\n",
    "\n",
    "    for i in list_ampere:\n",
    "        for j in list_interval:\n",
    "            list_datetime = ((dataframe[dataframe.iloc[:,5] == i])[(dataframe[dataframe.iloc[:,5] == i]).iloc[:,8] == j]).iloc[:,0:2].to_numpy()\n",
    "            for k in range(iteration):\n",
    "                if k%pack_size == 0:\n",
    "                    start_UnixTime[int(k/pack_size)] = (((datetime.strptime(list_datetime[k][0]+' '+list_datetime[k][1],\"%Y-%m-%d %H:%M:%S-%Z\")).replace(tzinfo=timezone.utc)).astimezone(JST)).timestamp()\n",
    "                    initial_UnixTime = np.append(initial_UnixTime, start_UnixTime[int(k/pack_size)])\n",
    "                    pass\n",
    "                pass\n",
    "            switching_UnixTime.append(min(start_UnixTime))\n",
    "            pass\n",
    "        pass\n",
    "\n",
    "    stop_UnixTime = dataframe[dataframe.iloc[:,2] == 'OFF'].iloc[-1,:]\n",
    "    end_UnixTime = (((datetime.strptime(stop_UnixTime[0]+' '+stop_UnixTime[1],\"%Y-%m-%d %H:%M:%S-%Z\")).replace(tzinfo=timezone.utc)).astimezone(JST)).timestamp()\n",
    "\n",
    "    print(((datetime.strptime(stop_UnixTime[0]+' '+stop_UnixTime[1],\"%Y-%m-%d %H:%M:%S-%Z\")).replace(tzinfo=timezone.utc)))\n",
    "    \n",
    "    captured_initials = []\n",
    "    captured_switching = []\n",
    "    \n",
    "    for i in range(len(switching_UnixTime)):\n",
    "        captured_switching.append(max(np.where(time_category[::capture_slice] <= switching_UnixTime[i])[0]))\n",
    "        pass\n",
    "    \n",
    "    for i in range(len(initial_UnixTime)):\n",
    "        captured_initials.append(max(np.where(time_category[::capture_slice] <= initial_UnixTime[i])[0]))\n",
    "        pass\n",
    "    \n",
    "    print(f'{end_UnixTime + pos_roll}, {time_category[::capture_slice][-1]}')\n",
    "    captured_end = min(np.where(end_UnixTime + pos_roll <= time_category[::capture_slice])[0])\n",
    "    \n",
    "    return captured_switching, captured_initials, captured_end"
   ]
  },
  {
   "cell_type": "code",
   "execution_count": null,
   "metadata": {},
   "outputs": [],
   "source": [
    "time_category[-1]-time_category[0]"
   ]
  },
  {
   "cell_type": "code",
   "execution_count": null,
   "metadata": {},
   "outputs": [],
   "source": [
    "reference1 = reference\n",
    "\n",
    "hoge = np.where(reference > 52000)[0]\n",
    "\n",
    "for i in hoge:\n",
    "    reference1[i] = reference[i]-62000"
   ]
  },
  {
   "cell_type": "code",
   "execution_count": null,
   "metadata": {},
   "outputs": [],
   "source": [
    "reference1"
   ]
  },
  {
   "cell_type": "code",
   "execution_count": null,
   "metadata": {},
   "outputs": [],
   "source": []
  },
  {
   "cell_type": "code",
   "execution_count": null,
   "metadata": {
    "code_folding": [
     0
    ]
   },
   "outputs": [],
   "source": [
    "#block\n",
    "time_block = []\n",
    "reference_block = []\n",
    "\n",
    "for i in range(len(swt)-1):\n",
    "    time_block.append(time[int(np.where(time == (time[::capture_slice])[swt[i]-pos_roll])[0]):int(np.where(time == (time[::capture_slice])[swt[i+1]-pos_roll])[0])])\n",
    "    reference_block.append(reference1[int(np.where(time == (time[::capture_slice])[swt[i]-pos_roll])[0]):int(np.where(time == (time[::capture_slice])[swt[i+1]-pos_roll])[0])])\n",
    "    pass\n",
    "time_block.append(time[int(np.where(time == (time[::capture_slice])[swt[-1]-pos_roll])[0]):int(np.where(time == (time[::capture_slice])[end+pos_roll])[0])])\n",
    "reference_block.append(reference1[int(np.where(time == (time[::capture_slice])[swt[-1]-pos_roll])[0]):int(np.where(time == (time[::capture_slice])[end+pos_roll])[0])])\n",
    "\n",
    "lincount_block = []\n",
    "block_initials = []\n",
    "onecycle_time = []\n",
    "proceeded_degrees = []\n",
    "\n",
    "for i in range(matrix_size):\n",
    "    lincount_block.append([])\n",
    "    lincount_block[i] = np.array(np.zeros(len(reference_block[i])))\n",
    "    \n",
    "    count_offset = 0\n",
    "    casp_flag = 0\n",
    "    casp = np.where(np.diff(reference_block[i]) <= casp_threshold)[0].tolist()\n",
    "\n",
    "    for j in range(len(reference_block[i])):\n",
    "        lincount_block[i][j] = reference_block[i][j]+count_offset\n",
    "        if casp:\n",
    "            if j == casp[casp_flag]:\n",
    "                count_offset += reference_block[i][casp[casp_flag]]\n",
    "                if len(casp) > casp_flag+1:\n",
    "                    casp_flag += 1\n",
    "                    pass\n",
    "                pass\n",
    "            pass\n",
    "        pass\n",
    "    \n",
    "    block_initials.append([])\n",
    "    for j in range(len(inits)):\n",
    "        block_initials[i].append(int(np.where(time_block[i] == (time[::capture_slice])[(inits[i*iteration:(i+1)*iteration])[j]-pos_roll])[0]))\n",
    "        pass\n",
    "    \n",
    "    onecycle_time.append([])\n",
    "    proceeded_degrees.append([])\n",
    "    for j in range(len(inits) - 1):\n",
    "        if j != len(inits) - 1:\n",
    "            onecycle_time[i].append(time_block[i][block_initials[i][j+1]]-time_block[i][block_initials[i][j]])\n",
    "            proceeded_degrees[i].append((lincount_block[i][block_initials[i][j+1]]-lincount_block[i][block_initials[i][j]])*Deg)\n",
    "            pass\n",
    "        else:\n",
    "            onecycle_time[i].append(time_block[i][-1]-time_block[i][block_initials[i][j]])\n",
    "            proceeded_degrees[i].append((lincount_block[i][-1]-lincount_block[i][block_initials[i][j]])*Deg)\n",
    "        pass\n",
    "    pass"
   ]
  },
  {
   "cell_type": "code",
   "execution_count": null,
   "metadata": {},
   "outputs": [],
   "source": []
  },
  {
   "cell_type": "code",
   "execution_count": null,
   "metadata": {},
   "outputs": [],
   "source": []
  },
  {
   "cell_type": "code",
   "execution_count": null,
   "metadata": {
    "scrolled": true
   },
   "outputs": [],
   "source": [
    "error_pack = [[0]]\n",
    "error_flag = 1\n",
    "UnixInitials = np.array(time_category[::capture_slice][inits], dtype=int)\n",
    "for i in range(len(inits)):\n",
    "    #print(f'{error_flag} {error_UnixTime[error_flag]} {UnixInitials[i]}')\n",
    "    if (i < len(inits)-1) and (error_flag < len(error_UnixTime)-1):\n",
    "        if (UnixInitials[i] <= error_UnixTime[error_flag]) and (error_UnixTime[error_flag] < UnixInitials[i+1]):\n",
    "            error_pack[0].append(i)\n",
    "            #print(f'{error_flag} {error_UnixTime[error_flag]}')\n",
    "            error_flag += 1\n",
    "            if (UnixInitials[i] <= error_UnixTime[error_flag]) and (error_UnixTime[error_flag] < UnixInitials[i+1]):\n",
    "                error_flag += 1\n",
    "                pass\n",
    "            pass\n",
    "        pass\n",
    "    else:\n",
    "        if (UnixInitials[i] <= error_UnixTime[error_flag]) and (error_UnixTime[error_flag] < UnixInitials[i]+min(np.diff(UnixInitials))):\n",
    "            error_pack[0].append(i)\n",
    "    pass"
   ]
  },
  {
   "cell_type": "code",
   "execution_count": null,
   "metadata": {},
   "outputs": [],
   "source": [
    "len(error_pack[0])"
   ]
  },
  {
   "cell_type": "code",
   "execution_count": null,
   "metadata": {},
   "outputs": [],
   "source": [
    "for i in paku:\n",
    "    error_pack[0].append(i)"
   ]
  },
  {
   "cell_type": "code",
   "execution_count": null,
   "metadata": {},
   "outputs": [],
   "source": [
    "paku = []"
   ]
  },
  {
   "cell_type": "code",
   "execution_count": null,
   "metadata": {
    "scrolled": true
   },
   "outputs": [],
   "source": [
    "error_sort = []\n",
    "error_sort.append([error_pack[0][0]])\n",
    "for i in sorted(error_pack[0][1:]):\n",
    "    error_sort[0].append(i)\n",
    "#error_sort"
   ]
  },
  {
   "cell_type": "code",
   "execution_count": null,
   "metadata": {},
   "outputs": [],
   "source": [
    "len(error_sort[0])"
   ]
  },
  {
   "cell_type": "code",
   "execution_count": null,
   "metadata": {
    "code_folding": [
     0
    ]
   },
   "outputs": [],
   "source": [
    "#avoid error\n",
    "error_position = []\n",
    "error_flag0 = 0\n",
    "\n",
    "error_flag2 = 0\n",
    "\n",
    "for i in range(matrix_size):\n",
    "    error_flag1 = 1\n",
    "    error_position.append([])\n",
    "    for j in range(len(inits)):\n",
    "        if i == error_sort[error_flag0][0]:\n",
    "            if error_flag1 <= len(error_sort[error_flag0])-1:\n",
    "                if j == error_sort[error_flag0][error_flag1]:\n",
    "                    #print(f'{error_sort[error_flag0][0]} {error_sort[error_flag0][error_flag1]}')\n",
    "                    error_position[i].append([])\n",
    "                    error_position[i][j] = False\n",
    "                    error_flag1 += 1\n",
    "                    error_flag2 = 1\n",
    "                    pass\n",
    "                else:\n",
    "                    error_position[i].append([])\n",
    "                    error_position[i][j] = True\n",
    "                    pass\n",
    "                pass\n",
    "            else:\n",
    "                error_position[i].append([])\n",
    "                error_position[i][j] = True\n",
    "                pass\n",
    "            pass\n",
    "        else:\n",
    "            error_position[i].append([])\n",
    "            error_position[i][j] = True\n",
    "            pass\n",
    "        pass\n",
    "    if error_flag2 == 1:\n",
    "        if error_flag0 != len(error_sort)-1:\n",
    "            error_flag0 += 1\n",
    "            error_flag2 = 0\n",
    "            pass\n",
    "        pass\n",
    "    pass"
   ]
  },
  {
   "cell_type": "code",
   "execution_count": null,
   "metadata": {},
   "outputs": [],
   "source": [
    "print(\"{}{: >25}{}{: >10}{}\".format('|','Variable Name','|','Memory','|'))\n",
    "print(\" ------------------------------------ \")\n",
    "for var_name in dir():\n",
    "    if not var_name.startswith(\"_\") and sys.getsizeof(eval(var_name)) > 1000: #ここだけアレンジ\n",
    "        print(\"{}{: >25}{}{: >10}{}\".format('|',var_name,'|',sys.getsizeof(eval(var_name)),'|'))"
   ]
  },
  {
   "cell_type": "code",
   "execution_count": null,
   "metadata": {},
   "outputs": [],
   "source": [
    "#del df"
   ]
  },
  {
   "cell_type": "code",
   "execution_count": null,
   "metadata": {},
   "outputs": [],
   "source": []
  },
  {
   "cell_type": "code",
   "execution_count": null,
   "metadata": {},
   "outputs": [],
   "source": [
    "fig10 = plt.figure(figsize=(10,7))\n",
    "\n",
    "fuga = []\n",
    "\n",
    "for i in range(matrix_size):\n",
    "    fuga.append([])\n",
    "    for j in range(len(inits)-5):\n",
    "        fuga[i].append([])\n",
    "        if error_position[i][j] != False:\n",
    "            hoge = ((time_block[i][block_initials[i][j]:block_initials[i][j+1]])[::plot_slice])[:-1]-time_block[i][block_initials[i][j]]\n",
    "            fuga[i][j] = min(np.where(hoge >= 10)[0])\n",
    "            plt.axvline(hoge[fuga[i][j]])\n",
    "            plt.plot(((time_block[i][block_initials[i][j]:block_initials[i][j+1]])[::plot_slice])[:-1]-time_block[i][block_initials[i][j]],\n",
    "                        np.diff((reference_block[i][block_initials[i][j]:block_initials[i][j+1]])[::plot_slice])*Deg,label=f'num_{j}')\n",
    "            pass\n",
    "        pass\n",
    "    pass\n",
    "plt.ylim([-1,4])"
   ]
  },
  {
   "cell_type": "code",
   "execution_count": null,
   "metadata": {},
   "outputs": [],
   "source": [
    "fig11, ax11 = plt.subplots(1,1,figsize=(300,7))\n",
    "\n",
    "for i in range(matrix_size):\n",
    "    for j in range(len(inits)-1):\n",
    "        #if error_position[i][j] != False:\n",
    "        ax11.plot(((time_block[i][block_initials[i][j]:block_initials[i][j+1]])[::plot_slice])[:-1],\n",
    "                        np.diff((lincount_block[i][block_initials[i][j]:block_initials[i][j+1]])[::plot_slice]),label=f'num_{j}')\n",
    "            #pass\n",
    "        pass\n",
    "    pass\n",
    "\n",
    "for i in range(len(error_Time)):\n",
    "    ax11.axvline(error_Time[i], ls=':', lw=3)\n",
    "    pass\n",
    "\n",
    "fuga = reference > 60000\n",
    "ax11.scatter((time[:-1])[~fuga[1:] & fuga[:-1]]-10, np.ones(len((time[:-1])[~fuga[1:] & fuga[:-1]]))*100)\n",
    "\n",
    "ax11.set_ylim([-1,200])\n",
    "#ax11.xlim([700,770])\n",
    "\n",
    "ax11.xaxis.set_major_locator(tik.MultipleLocator(100))\n",
    "\n",
    "ax11.set_title(f'Jan13_absolute_feedback_5times')\n",
    "ax11.set_xlabel('time[sec]')\n",
    "ax11.set_ylabel('difference of counts')"
   ]
  },
  {
   "cell_type": "code",
   "execution_count": null,
   "metadata": {},
   "outputs": [],
   "source": [
    "fig11.savefig(storepath + storename + '_DiffPlots.png')"
   ]
  },
  {
   "cell_type": "code",
   "execution_count": null,
   "metadata": {},
   "outputs": [],
   "source": []
  },
  {
   "cell_type": "code",
   "execution_count": null,
   "metadata": {},
   "outputs": [],
   "source": [
    "cp0 = reference > 60000\n",
    "cp1 = time[:-1][~cp0[1:] & cp0[:-1]]-10\n",
    "over_flag = 0\n",
    "\n",
    "paku = []\n",
    "\n",
    "for i in range(matrix_size):\n",
    "    for j in range(len(inits)-1):\n",
    "        if error_position[i][j] != False:\n",
    "            cp2 = ((time_block[i][block_initials[i][j]:block_initials[i][j+1]])[::plot_slice])[:-1]\n",
    "            #print(f'{over_flag} {round(cp1[over_flag],2)} {round(cp2[0],2)} {round(cp2[-1],2)} {round(cp2[0],2) <=  round(cp1[over_flag],2)} {round(cp1[over_flag],2) < round(cp2[-1],2)}')\n",
    "            if not (cp2[0] <=  cp1[over_flag]) and (cp1[over_flag] <= cp2[-1]):\n",
    "                if over_flag < len(cp1)-1:\n",
    "                    over_flag += 1\n",
    "                    pass\n",
    "            if (cp2[0] <=  cp1[over_flag]) and (cp1[over_flag] <= cp2[-1]):\n",
    "                paku.append(j)\n",
    "                if over_flag < len(cp1)-1:\n",
    "                    over_flag += 1\n",
    "                    pass\n",
    "                pass\n",
    "            pass\n",
    "        pass\n",
    "    pass"
   ]
  },
  {
   "cell_type": "code",
   "execution_count": null,
   "metadata": {},
   "outputs": [],
   "source": [
    "paku"
   ]
  },
  {
   "cell_type": "code",
   "execution_count": null,
   "metadata": {},
   "outputs": [],
   "source": []
  },
  {
   "cell_type": "code",
   "execution_count": null,
   "metadata": {},
   "outputs": [],
   "source": []
  },
  {
   "cell_type": "code",
   "execution_count": null,
   "metadata": {},
   "outputs": [],
   "source": [
    "for i in range(matrix_size):\n",
    "    for j in paku:\n",
    "        if error_position[i][j] != False:\n",
    "            plt.plot(((time_block[i][block_initials[i][j]:block_initials[i][j+1]])[::plot_slice])[:-1],\n",
    "                        np.diff((lincount_block[i][block_initials[i][j]:block_initials[i][j+1]])[::plot_slice]),label=f'num_{j}')\n",
    "            pass\n",
    "        pass\n",
    "    pass"
   ]
  },
  {
   "cell_type": "code",
   "execution_count": null,
   "metadata": {},
   "outputs": [],
   "source": [
    "fig15 = plt.figure(figsize=(30,7))\n",
    "\n",
    "for i in range(matrix_size):\n",
    "    for j in range(450,459):\n",
    "        if error_position[i][j] != False:\n",
    "            plt.plot(((time_block[i][block_initials[i][j]:block_initials[i][j+1]])[::plot_slice])[:-1],\n",
    "                        np.diff((lincount_block[i][block_initials[i][j]:block_initials[i][j+1]])[::plot_slice]),label=f'num_{j}')\n",
    "            pass\n",
    "        pass\n",
    "    pass\n",
    "\n",
    "for i in range(60,70):\n",
    "    plt.axvline(error_Time[i], ls=':', lw=3)\n",
    "    pass\n",
    "\n",
    "fuga = reference > 60000\n",
    "peke = (time[:-1])[~fuga[1:] & fuga[:-1]]\n",
    "plt.scatter(peke-10, np.ones(len(peke))*100)\n",
    "\n",
    "plt.xlim([11700,12300])\n",
    "plt.ylim([-30,200])\n",
    "plt.legend()"
   ]
  },
  {
   "cell_type": "code",
   "execution_count": null,
   "metadata": {},
   "outputs": [],
   "source": []
  },
  {
   "cell_type": "code",
   "execution_count": null,
   "metadata": {},
   "outputs": [],
   "source": []
  },
  {
   "cell_type": "code",
   "execution_count": null,
   "metadata": {},
   "outputs": [],
   "source": []
  },
  {
   "cell_type": "code",
   "execution_count": null,
   "metadata": {
    "scrolled": false
   },
   "outputs": [],
   "source": [
    "moved_angle = []\n",
    "end_position = []\n",
    "\n",
    "fig20, ax = plt.subplots(figsize=(13,8))\n",
    "#ax = axarr.ravel()\n",
    "\n",
    "for i in range(matrix_size):\n",
    "    moved_angle.append([])\n",
    "    end_position.append([])\n",
    "    for j in range(iteration-1):\n",
    "        if error_position[i][j] != False:\n",
    "            hoge = (time_block[i][block_initials[i][j]:block_initials[i][j+1]])-time_block[i][block_initials[i][j]]\n",
    "            place = min(np.where(hoge >= 20)[0])\n",
    "            moved_angle[i].append((reference_block[i][block_initials[i][j] + place]-reference_block[i][block_initials[i][j]])*Deg)\n",
    "            end_position[i].append(reference_block[i][block_initials[i][j] + place]%52000*Deg)\n",
    "        pass\n",
    "        pass\n",
    "    ax.scatter(end_position[i], moved_angle[i], color='b')\n",
    "    pass\n",
    "\n",
    "for i in range(len(np.arange(0,382.5,22.5))):\n",
    "    ax.axvline(np.arange(0,382.5,22.5)[i], ls=':', color='r')\n",
    "    pass\n",
    "\n",
    "#plt.ylim([0,50])\n",
    "\n",
    "ax.xaxis.set_major_locator(tik.MultipleLocator(22.5))\n",
    "\n",
    "ax.set_title(f'Jan18_absolute_feedback_8times')\n",
    "ax.set_xlabel('position[deg]')\n",
    "ax.set_ylabel('proceeded degree')"
   ]
  },
  {
   "cell_type": "code",
   "execution_count": null,
   "metadata": {},
   "outputs": [],
   "source": [
    "fig20.savefig(storepath + storename + '_POSvsDeg.png', facecolor='white')"
   ]
  },
  {
   "cell_type": "code",
   "execution_count": null,
   "metadata": {},
   "outputs": [],
   "source": [
    "moved_angle = []\n",
    "end_position = []\n",
    "\n",
    "fig21, ax = plt.subplots(figsize=(13,8))\n",
    "#ax = axarr.ravel()\n",
    "\n",
    "for i in range(matrix_size):\n",
    "    moved_angle.append([])\n",
    "    end_position.append([])\n",
    "    for j in range(iteration-1):\n",
    "        #if error_position[i][j] != False:\n",
    "        hoge = (time_block[i][block_initials[i][j]:block_initials[i][j+1]])-time_block[i][block_initials[i][j]]\n",
    "        place = min(np.where(hoge >= 10)[0])\n",
    "        moved_angle[i].append((lincount_block[i][block_initials[i][j] + place]-lincount_block[i][block_initials[i][j]])*Deg)\n",
    "        end_position[i].append(lincount_block[i][block_initials[i][j] + place]%52000*Deg)\n",
    "        #pass\n",
    "        pass\n",
    "    ax.scatter(end_position[i], moved_angle[i], color='b')\n",
    "    pass\n",
    "\n",
    "for i in range(len(np.arange(0,382.5,22.5))):\n",
    "    ax.axvline(np.arange(0,382.5,22.5)[i], ls=':', color='r')\n",
    "    pass\n",
    "\n",
    "#plt.ylim([10,30])\n",
    "\n",
    "#ax.xaxis.set_major_locator(tik.MultipleLocator(22.5))\n",
    "\n",
    "ax.set_title(f'Feb16_checkEthe_feedback_5times')\n",
    "ax.set_xlabel('position[deg]')\n",
    "ax.set_ylabel('proceeded degree')"
   ]
  },
  {
   "cell_type": "code",
   "execution_count": null,
   "metadata": {},
   "outputs": [],
   "source": [
    "fig21.savefig(storepath + storename + '_POSvsDeg.png', facecolor='white')"
   ]
  },
  {
   "cell_type": "code",
   "execution_count": null,
   "metadata": {},
   "outputs": [],
   "source": [
    "x1 = np.arange(0,360,22.5)\n",
    "x2 = np.roll(x1, 9)\n",
    "x3 = np.tile(x2, 14)\n",
    "x2"
   ]
  },
  {
   "cell_type": "code",
   "execution_count": null,
   "metadata": {},
   "outputs": [],
   "source": [
    "goal = end_position[0]\n",
    "\n",
    "hoge = np.where(np.array(end_position[0]) > 350)[0]\n",
    "\n",
    "for i in hoge:\n",
    "    x3[i] = 360"
   ]
  },
  {
   "cell_type": "code",
   "execution_count": null,
   "metadata": {},
   "outputs": [],
   "source": [
    "len(goal)"
   ]
  },
  {
   "cell_type": "code",
   "execution_count": null,
   "metadata": {},
   "outputs": [],
   "source": [
    "len(x3[:-1])"
   ]
  },
  {
   "cell_type": "code",
   "execution_count": null,
   "metadata": {},
   "outputs": [],
   "source": [
    "plt.scatter(x3[:-1], goal)"
   ]
  },
  {
   "cell_type": "code",
   "execution_count": null,
   "metadata": {},
   "outputs": [],
   "source": [
    "def linear_func(x,a,b):\n",
    "    return a*x+b"
   ]
  },
  {
   "cell_type": "code",
   "execution_count": null,
   "metadata": {},
   "outputs": [],
   "source": [
    "popt, pcov = curve_fit(linear_func, goal, x3[:-1])\n",
    "popt"
   ]
  },
  {
   "cell_type": "code",
   "execution_count": null,
   "metadata": {},
   "outputs": [],
   "source": [
    "figX, axarr = plt.subplots(2,1,figsize=(12,16), gridspec_kw={'height_ratios':[3,1]})\n",
    "plt.rcParams[\"font.size\"] = 25\n",
    "ax = axarr.ravel()\n",
    "plt.subplots_adjust(hspace=0.)\n",
    "\n",
    "piyo = np.linspace(0,360,len(x3[:-1]))\n",
    "\n",
    "ax[0].scatter(goal, x3[:-1])\n",
    "ax[0].plot(piyo, linear_func(piyo, popt[0], popt[1]),color='r', lw=1)\n",
    "\n",
    "hoge = np.arange(0,382.5,22.5)\n",
    "for i in range(len(hoge)):\n",
    "    ax[0].axvline(hoge[i], ls=':', color='g')\n",
    "    ax[0].axhline(hoge[i], ls=':', color='y')\n",
    "\n",
    "#ax[0].set_xlabel('goal_position[deg]', fontsize=15)\n",
    "ax[0].set_ylabel('goal position[deg]')\n",
    "ax[0].yaxis.set_major_locator(tik.MultipleLocator(45))\n",
    "ax[0].legend(loc='upper left', title=f'gradient a={round(popt[0],5)}\\nintercept b={round(popt[1],5)}')\n",
    "\n",
    "ax[1].hist(goal, bins=360)\n",
    "ax[1].set_xlabel('stopped position[deg]')\n",
    "ax[1].set_ylabel('number of events')\n",
    "ax[1].xaxis.set_major_locator(tik.MultipleLocator(45))"
   ]
  },
  {
   "cell_type": "code",
   "execution_count": null,
   "metadata": {},
   "outputs": [],
   "source": [
    "figX.savefig(storepath + storename + '_PosAccuracy0.png', facecolor='white')"
   ]
  },
  {
   "cell_type": "code",
   "execution_count": null,
   "metadata": {},
   "outputs": [],
   "source": [
    "figX1, axarr = plt.subplots(2,1,figsize=(12,16), gridspec_kw={'height_ratios':[3,1]})\n",
    "plt.rcParams[\"font.size\"] = 30\n",
    "ax = axarr.ravel()\n",
    "plt.subplots_adjust(hspace=0.,left=0.2)\n",
    "\n",
    "piyo = np.linspace(0,360,len(x3[:-1]))\n",
    "\n",
    "ax[0].scatter(x3[:-1], goal)\n",
    "ax[0].plot(piyo, linear_func(piyo, popt[0], popt[1]),color='r', lw=1)\n",
    "\n",
    "hoge = np.arange(0,382.5,22.5)\n",
    "for i in range(len(hoge)):\n",
    "    ax[0].axvline(hoge[i], ls=':', color='g')\n",
    "    ax[0].axhline(hoge[i], ls=':', color='y')\n",
    "\n",
    "# ax[0].set_xlabel('goal_position[deg]', fontsize=15)\n",
    "ax[0].set_ylabel('commanded position[deg]',fontsize=30)\n",
    "ax[0].yaxis.set_major_locator(tik.MultipleLocator(45))\n",
    "ax[0].legend(loc='upper left', title=f'gradient a={round(popt[0],5)}\\nintercept b={round(popt[1],5)}')\n",
    "\n",
    "ax[1].scatter(x3[:-1], goal-x3[:-1], s=15)\n",
    "ax[1].set_xlabel('controlled position[deg]',fontsize=30)\n",
    "ax[1].set_ylabel('$\\Delta x$',fontsize=30)\n",
    "ax[1].xaxis.set_major_locator(tik.MultipleLocator(45))\n",
    "ax[1].set_ylim([-4,4])"
   ]
  },
  {
   "cell_type": "code",
   "execution_count": null,
   "metadata": {},
   "outputs": [],
   "source": [
    "figX1.savefig(storepath + storename + '_PosAccuracy1.png', facecolor='white')"
   ]
  },
  {
   "cell_type": "code",
   "execution_count": null,
   "metadata": {},
   "outputs": [],
   "source": [
    "figX3 = plt.figure(figsize=(10,7))\n",
    "plt.hist(goal-x3[:-1],bins=18,density=True)\n",
    "plt.xlim([-8,8])"
   ]
  },
  {
   "cell_type": "code",
   "execution_count": null,
   "metadata": {},
   "outputs": [],
   "source": [
    "figX3.savefig(storepath + storename + '_diffhist.png', facecolor='white')"
   ]
  },
  {
   "cell_type": "code",
   "execution_count": null,
   "metadata": {},
   "outputs": [],
   "source": [
    "figX2, axarr = plt.subplots(2,2,figsize=(16,16),gridspec_kw={'height_ratios':[3,1], 'width_ratios':[3,1]})\n",
    "ax = axarr.ravel()\n",
    "plt.subplots_adjust(hspace=0.,wspace=0.)\n",
    "# ax0 = figX2.add_subplot(2,2,1)\n",
    "\n",
    "ax[0].tick_params(labelbottom=False)\n",
    "ax[1].tick_params(labelleft=False,labelbottom=False)\n",
    "ax[3].tick_params(labelleft=False)\n",
    "\n",
    "piyo = np.linspace(0,360,len(x3[:-1]))\n",
    "\n",
    "ax[0].scatter(x3[:-1], goal)\n",
    "ax[0].plot(piyo, linear_func(piyo, popt[0], popt[1]),color='r', lw=1)\n",
    "\n",
    "hoge = np.arange(0,382.5,22.5)\n",
    "for i in range(len(hoge)):\n",
    "    ax[0].axvline(hoge[i], ls=':', color='g')\n",
    "    ax[0].axhline(hoge[i], ls=':', color='y')\n",
    "\n",
    "# ax[0].set_xlabel('goal_position[deg]', fontsize=15)\n",
    "# ax[0].set_ylabel('goal position[deg]')\n",
    "ax[0].yaxis.set_major_locator(tik.MultipleLocator(45))\n",
    "ax[0].legend(loc='upper left', title=f'gradient a={round(popt[0],5)}\\nintercept b={round(popt[1],5)}')\n",
    "\n",
    "# ax1 = figX2.add_subplot(2,2,3)\n",
    "\n",
    "ax[2].scatter(x3[:-1], goal-x3[:-1], s=15)\n",
    "# ax[1].set_xlabel('stopped position[deg]')\n",
    "# ax[1].set_ylabel('number of events')\n",
    "ax[2].xaxis.set_major_locator(tik.MultipleLocator(45))\n",
    "ax[2].set_ylim([-4,4])\n",
    "\n",
    "ax[3].hist(goal-x3[:-1],bins=15,orientation=\"horizontal\",density=True)\n",
    "ax[3].set_ylim([-4,4])\n",
    "ax[3].xaxis.set_major_locator(tik.FixedLocator([0.1,0.3,0.5,0.7]))\n",
    "#ax[3].invert_yaxis()"
   ]
  },
  {
   "cell_type": "code",
   "execution_count": null,
   "metadata": {},
   "outputs": [],
   "source": [
    "figX2.savefig(storepath + storename + '_PosAccuracy1_1.png', facecolor='white')"
   ]
  },
  {
   "cell_type": "code",
   "execution_count": null,
   "metadata": {},
   "outputs": [],
   "source": []
  },
  {
   "cell_type": "code",
   "execution_count": null,
   "metadata": {},
   "outputs": [],
   "source": [
    "figXX, axarr = plt.subplots(figsize=(10,10))\n",
    "\n",
    "piyo = np.linspace(0,360,len(x3[:-1]))\n",
    "\n",
    "plt.scatter(x3[:-1], goal)\n",
    "plt.plot(piyo, linear_func(piyo, popt[0], popt[1]),color='r')\n",
    "\n",
    "plt.xlabel('goal_position[deg]')\n",
    "plt.ylabel('end_position[deg]')\n",
    "\n",
    "plt.legend(loc='upper left',fontsize=10,title=f'gradient a={round(popt[0],5)}\\nintercept b={round(popt[1],5)}')"
   ]
  },
  {
   "cell_type": "code",
   "execution_count": null,
   "metadata": {},
   "outputs": [],
   "source": [
    "figY, ax = plt.subplots(figsize=(16,8))\n",
    "plt.rcParams[\"font.size\"] = 18\n",
    "ax.xaxis.set_major_locator(tik.MultipleLocator(45))\n",
    "\n",
    "plt.scatter(x3[:-1], goal-x3[:-1], s=15)\n",
    "plt.ylim([-8,8])\n",
    "plt.xlabel('goal position[deg]')\n",
    "plt.ylabel('difference between goal and end position[deg]', fontsize=15)"
   ]
  },
  {
   "cell_type": "code",
   "execution_count": null,
   "metadata": {},
   "outputs": [],
   "source": [
    "figY.savefig(storepath + storename + '_PosAccuracy2.png', facecolor='white')"
   ]
  },
  {
   "cell_type": "code",
   "execution_count": null,
   "metadata": {},
   "outputs": [],
   "source": [
    "figYY, axarr = plt.subplots(2,2,figsize=(20,14))\n",
    "ax = axarr.ravel()\n",
    "\n",
    "d0 = 4\n",
    "piko = int(iteration/d0)\n",
    "\n",
    "for i in range(d0):\n",
    "    ax[i].scatter((x3[:-1])[piko*i:piko*(i+1)], (goal-x3[:-1])[piko*i:piko*(i+1)],s=15)\n",
    "    pass"
   ]
  },
  {
   "cell_type": "code",
   "execution_count": null,
   "metadata": {},
   "outputs": [],
   "source": []
  },
  {
   "cell_type": "code",
   "execution_count": null,
   "metadata": {},
   "outputs": [],
   "source": [
    "figYY.savefig(storepath + storename + '_PosAccuracy3.png', facecolor='white')"
   ]
  },
  {
   "cell_type": "code",
   "execution_count": null,
   "metadata": {},
   "outputs": [],
   "source": []
  },
  {
   "cell_type": "code",
   "execution_count": null,
   "metadata": {},
   "outputs": [],
   "source": [
    "iteration/16"
   ]
  },
  {
   "cell_type": "code",
   "execution_count": null,
   "metadata": {},
   "outputs": [],
   "source": []
  },
  {
   "cell_type": "code",
   "execution_count": null,
   "metadata": {},
   "outputs": [],
   "source": [
    "moved_angle = []\n",
    "end_position = []\n",
    "peko = []\n",
    "\n",
    "fig21, ax = plt.subplots(figsize=(13,8))\n",
    "#ax = axarr.ravel()\n",
    "\n",
    "for i in range(matrix_size):\n",
    "    moved_angle.append([])\n",
    "    end_position.append([])\n",
    "    for j in range(210,220):\n",
    "        if error_position[i][j] != False:\n",
    "            hoge = (time_block[i][block_initials[i][j]:block_initials[i][j+1]])-time_block[i][block_initials[i][j]]\n",
    "            place = min(np.where(hoge >= 18)[0])\n",
    "            moved_angle[i].append((lincount_block[i][block_initials[i][j] + place]-lincount_block[i][block_initials[i][j]])*Deg)\n",
    "            end_position[i].append(lincount_block[i][block_initials[i][j] + place]%52000*Deg)\n",
    "            peko.append(j)\n",
    "            pass\n",
    "        pass\n",
    "    ax.scatter(end_position[i], moved_angle[i], color='b')\n",
    "    for l, txt in enumerate(peko):\n",
    "        ax.annotate(txt, (end_position[i][l], moved_angle[i][l]))\n",
    "    pass\n",
    "\n",
    "for i in range(len(np.arange(0,382.5,22.5))):\n",
    "    ax.axvline(np.arange(0,382.5,22.5)[i], ls=':', color='r')\n",
    "    pass\n",
    "\n",
    "#plt.ylim([10,30])\n",
    "\n",
    "ax.xaxis.set_major_locator(tik.MultipleLocator(30))\n",
    "\n",
    "ax.set_title(f'Jan19_absolute_feedback_8times')\n",
    "ax.set_xlabel('position[deg]')\n",
    "ax.set_ylabel('proceeded degree')"
   ]
  },
  {
   "cell_type": "code",
   "execution_count": null,
   "metadata": {
    "scrolled": false
   },
   "outputs": [],
   "source": [
    "moved_angle = []\n",
    "end_position = []\n",
    "peko = []\n",
    "\n",
    "p1 = 0\n",
    "p2 = 518\n",
    "\n",
    "fig21, ax = plt.subplots(figsize=(13,8))\n",
    "#ax = axarr.ravel()\n",
    "\n",
    "for i in range(matrix_size):\n",
    "    moved_angle.append([])\n",
    "    end_position.append([])\n",
    "    for j in range(p1,p2):\n",
    "        #if error_position[i][j] != False:\n",
    "        hoge = (time_block[i][block_initials[i][j]:block_initials[i][j+1]])-time_block[i][block_initials[i][j]]\n",
    "        place = min(np.where(hoge >= 23.5)[0])\n",
    "        moved_angle[i].append((lincount_block[i][block_initials[i][j] + place]-lincount_block[i][block_initials[i][j]])*Deg)\n",
    "        end_position[i].append(lincount_block[i][block_initials[i][j] + place]%52000*Deg)\n",
    "        peko.append(j)\n",
    "        #pass\n",
    "        pass\n",
    "    ax.scatter(end_position[i], moved_angle[i], color='b')\n",
    "#     for l, txt in enumerate(peko):\n",
    "#         ax.annotate(txt, (end_position[i][l], moved_angle[i][l]))\n",
    "    pass\n",
    "\n",
    "ax.set_ylim([0,30])\n",
    "\n",
    "for i in range(len(np.arange(0,382.5,22.5))):\n",
    "    ax.axvline(np.arange(0,382.5,22.5)[i], ls=':', color='r')\n",
    "    pass\n",
    "\n",
    "ax.xaxis.set_major_locator(tik.MultipleLocator(30))\n",
    "\n",
    "ax.set_title(f'Jan14_absolute_feedback_8times')\n",
    "ax.set_xlabel('position[deg]')\n",
    "ax.set_ylabel('proceeded degree')"
   ]
  },
  {
   "cell_type": "code",
   "execution_count": null,
   "metadata": {},
   "outputs": [],
   "source": [
    "fig30 = plt.figure(figsize=(10,7))\n",
    "\n",
    "for i in range(matrix_size):\n",
    "    plt.hist(moved_angle[i], bins=15)\n",
    "    pass\n",
    "plt.title(f'Jan13_absolute_feedback_5times')\n",
    "plt.xlabel('proceeded degree')    "
   ]
  },
  {
   "cell_type": "code",
   "execution_count": null,
   "metadata": {},
   "outputs": [],
   "source": [
    "fig30.savefig(storepath + storename + '_histDeg.png', facecolor='white')"
   ]
  },
  {
   "cell_type": "code",
   "execution_count": null,
   "metadata": {},
   "outputs": [],
   "source": [
    "movDeg_mean = []\n",
    "movDeg_stdv = []\n",
    "\n",
    "for i in range(matrix_size):\n",
    "    movDeg_mean.append(np.mean(moved_angle[i]))\n",
    "    movDeg_stdv.append(np.std(moved_angle[i]))\n",
    "    pass"
   ]
  },
  {
   "cell_type": "code",
   "execution_count": null,
   "metadata": {
    "scrolled": false
   },
   "outputs": [],
   "source": [
    "fig40 = plt.figure(figsize=(10,7))\n",
    "plt.rcParams[\"font.size\"] = 18\n",
    "mu, std = norm.fit(moved_angle)\n",
    "\n",
    "# Plot the histogram.\n",
    "plt.hist(moved_angle, bins=30, density=True, alpha=0.3, color='g', label=f'feedback_8times')\n",
    "plt.legend(fontsize=15,loc='upper right')\n",
    "\n",
    "# Plot the PDF.\n",
    "xmin, xmax = plt.xlim([10,35])\n",
    "plt.ylim([0.,0.7])\n",
    "x = np.linspace(xmin, xmax, 100)\n",
    "p = norm.pdf(x, mu, std)\n",
    "plt.plot(x, p, 'g', linewidth=2)\n",
    "plt.title(f'Fit Result: mu={round(mu,2)}, std={round(std,2)}')\n",
    "plt.xlabel('proceeded degrees[deg]')\n",
    "plt.ylabel('ratio')"
   ]
  },
  {
   "cell_type": "code",
   "execution_count": null,
   "metadata": {},
   "outputs": [],
   "source": [
    "fig40.savefig(storepath + storename + '_histDEG_FIT0.png', facecolor='white')"
   ]
  },
  {
   "cell_type": "code",
   "execution_count": null,
   "metadata": {},
   "outputs": [],
   "source": [
    "plt.hist(moved_angle, bins=15, density=True, alpha=0.3, color='g', label=f'feedback_5times')"
   ]
  },
  {
   "cell_type": "code",
   "execution_count": null,
   "metadata": {},
   "outputs": [],
   "source": []
  },
  {
   "cell_type": "code",
   "execution_count": null,
   "metadata": {},
   "outputs": [],
   "source": []
  },
  {
   "cell_type": "code",
   "execution_count": null,
   "metadata": {},
   "outputs": [],
   "source": [
    "figXX.savefig(storepath + storename + '_DEGvsSTD.png', facecolor='white')"
   ]
  },
  {
   "cell_type": "code",
   "execution_count": null,
   "metadata": {},
   "outputs": [],
   "source": []
  },
  {
   "cell_type": "code",
   "execution_count": null,
   "metadata": {},
   "outputs": [],
   "source": [
    "kue = np.arange(0,360,22.5)\n",
    "kue"
   ]
  },
  {
   "cell_type": "code",
   "execution_count": null,
   "metadata": {},
   "outputs": [],
   "source": [
    "len(kue)"
   ]
  },
  {
   "cell_type": "code",
   "execution_count": null,
   "metadata": {},
   "outputs": [],
   "source": [
    "len(lincount_block[0])"
   ]
  },
  {
   "cell_type": "code",
   "execution_count": null,
   "metadata": {},
   "outputs": [],
   "source": []
  },
  {
   "cell_type": "code",
   "execution_count": null,
   "metadata": {},
   "outputs": [],
   "source": []
  },
  {
   "cell_type": "code",
   "execution_count": null,
   "metadata": {},
   "outputs": [],
   "source": [
    "fig10.savefig(storepath + storename +'_speed1-avoidERROR.png', facecolor='white')"
   ]
  },
  {
   "cell_type": "code",
   "execution_count": null,
   "metadata": {},
   "outputs": [],
   "source": [
    "i = 14\n",
    "for j in range(32,34):\n",
    "    #if error_position[i][j] != False:\n",
    "    plt.plot(((time_block[i][block_initials[i][j]:block_initials[i][j+1]])[::plot_slice])[:-1]-time_block[i][block_initials[i][j]],\n",
    "                np.diff((lincount_block[i][block_initials[i][j]:block_initials[i][j+1]])[::plot_slice]), label=f'num_{j}')\n",
    "    plt.legend()"
   ]
  },
  {
   "cell_type": "code",
   "execution_count": null,
   "metadata": {},
   "outputs": [],
   "source": [
    "i = 14\n",
    "j = 20\n",
    "plt.plot(((time_block[i][block_initials[i][j]:block_initials[i][j+1]])[::plot_slice])[:-1]-time_block[i][block_initials[i][j]],\n",
    "        np.diff((lincount_block[i][block_initials[i][j]:block_initials[i][j+1]])[::plot_slice]))"
   ]
  },
  {
   "cell_type": "code",
   "execution_count": null,
   "metadata": {},
   "outputs": [],
   "source": [
    "i = 19\n",
    "j = 20\n",
    "\n",
    "hoge = np.diff((lincount_block[i][block_initials[i][j]:block_initials[i][j+1]])[::plot_slice]) > 0\n",
    "fuga = np.where(~hoge[:-1] & hoge[1:])\n",
    "piyo = ((time_block[i][block_initials[i][j]:block_initials[i][j+1]])[::plot_slice])[1:]\n",
    "kue = (((time_block[i][block_initials[i][j]:block_initials[i][j+1]])[::plot_slice])[1:])[fuga]\n",
    "\n",
    "figY = plt.figure(figsize=(10,7))\n",
    "\n",
    "plt.plot(piyo-kue, np.diff((lincount_block[i][block_initials[i][j]:block_initials[i][j+1]])[::plot_slice]), color='k', label='new black belt')\n",
    "plt.axvline(0.95)\n",
    "plt.axvline(1.15)\n",
    "plt.xlabel('time[sec]')\n",
    "plt.ylabel('difference of counts (~speed)')\n",
    "plt.xlim([-0.5,2.])\n",
    "plt.ylim([-20,330])\n",
    "plt.legend(loc='upper left', fontsize=15)"
   ]
  },
  {
   "cell_type": "code",
   "execution_count": null,
   "metadata": {},
   "outputs": [],
   "source": [
    "proceeded_degrees[i][j]"
   ]
  },
  {
   "cell_type": "code",
   "execution_count": null,
   "metadata": {},
   "outputs": [],
   "source": []
  },
  {
   "cell_type": "code",
   "execution_count": null,
   "metadata": {},
   "outputs": [],
   "source": [
    "figY.savefig(storepath + storename + '_form_21e-1A-1sec_num20.png', transparent=True)"
   ]
  },
  {
   "cell_type": "code",
   "execution_count": null,
   "metadata": {},
   "outputs": [],
   "source": [
    "i = 19\n",
    "j = 20\n",
    "\n",
    "toki = np.diff(((time_block[i][block_initials[i][j]:block_initials[i][j+1]])[::plot_slice]))\n",
    "basho = np.diff((lincount_block[i][block_initials[i][j]:block_initials[i][j+1]])[::plot_slice])\n",
    "\n",
    "hoge = np.diff((lincount_block[i][block_initials[i][j]:block_initials[i][j+1]])[::plot_slice]) > 0\n",
    "fuga = np.where(~hoge[:-1] & hoge[1:])\n",
    "piyo = ((time_block[i][block_initials[i][j]:block_initials[i][j+1]])[::plot_slice])[:-1]\n",
    "kue = (((time_block[i][block_initials[i][j]:block_initials[i][j+1]])[::plot_slice])[:-1])[fuga]\n",
    "saku = basho/toki\n",
    "\n",
    "figY = plt.figure(figsize=(10,7))\n",
    "\n",
    "plt.plot((piyo-kue)[1:], np.diff(saku)/np.diff(toki), color='k', label='new black belt')\n",
    "plt.axvline(0)\n",
    "plt.xlabel('time[sec]')\n",
    "plt.ylabel('acceleration')\n",
    "plt.xlim([0.95,1.15])\n",
    "plt.ylim([-20,1e9])\n",
    "plt.legend(loc='upper left', fontsize=15)"
   ]
  },
  {
   "cell_type": "markdown",
   "metadata": {},
   "source": [
    "* <span style=\"font-size: 200%; color: red;\">Here is a check point of analysis.</span>"
   ]
  },
  {
   "cell_type": "code",
   "execution_count": null,
   "metadata": {},
   "outputs": [],
   "source": []
  },
  {
   "cell_type": "code",
   "execution_count": null,
   "metadata": {},
   "outputs": [],
   "source": []
  },
  {
   "cell_type": "code",
   "execution_count": null,
   "metadata": {},
   "outputs": [],
   "source": []
  },
  {
   "cell_type": "code",
   "execution_count": null,
   "metadata": {},
   "outputs": [],
   "source": []
  },
  {
   "cell_type": "code",
   "execution_count": null,
   "metadata": {},
   "outputs": [],
   "source": []
  },
  {
   "cell_type": "code",
   "execution_count": null,
   "metadata": {
    "scrolled": true
   },
   "outputs": [],
   "source": [
    "fig11 = plt.figure(figsize=(10,10))\n",
    "\n",
    "i = 0\n",
    "\n",
    "plt.scatter(np.array(linCount_woErr[i])%52000*Deg,proDeg_woErr[i])\n",
    "plt.title('3.0A_0.69sec')"
   ]
  },
  {
   "cell_type": "code",
   "execution_count": null,
   "metadata": {},
   "outputs": [],
   "source": [
    "fig11.savefig(storepath + storename + '_POSvsDEG-avoidERROR.png',facecolor='white')"
   ]
  },
  {
   "cell_type": "code",
   "execution_count": null,
   "metadata": {
    "scrolled": true
   },
   "outputs": [],
   "source": [
    "fig12 = plt.figure(figsize=(10,10))\n",
    "\n",
    "i = 0\n",
    "\n",
    "plt.hist(proDeg_woErr[i])\n",
    "plt.title('3.0A_0.69sec')"
   ]
  },
  {
   "cell_type": "code",
   "execution_count": null,
   "metadata": {},
   "outputs": [],
   "source": [
    "fig12.savefig(storepath + storename + '_histDEG-avoidERROR.png', facecolor='white')"
   ]
  },
  {
   "cell_type": "code",
   "execution_count": null,
   "metadata": {},
   "outputs": [],
   "source": [
    "proDeg_mean = []\n",
    "proDeg_stdv = []\n",
    "\n",
    "for i in range(6):\n",
    "    proDeg_mean.append([])  \n",
    "    proDeg_stdv.append([])\n",
    "for i in range(matrix_size):\n",
    "    proDeg_mean[int(i/6)].append(np.mean(proDeg_woErr[i]))\n",
    "    proDeg_stdv[int(i/6)].append(np.std(proDeg_woErr[i]))\n",
    "    pass"
   ]
  },
  {
   "cell_type": "code",
   "execution_count": null,
   "metadata": {},
   "outputs": [],
   "source": [
    "fig14 = plt.figure(figsize=(10,7))\n",
    "mu, std = norm.fit(proDeg_woErr)\n",
    "\n",
    "# Plot the histogram.\n",
    "plt.hist(proDeg_woErr, bins=15, density=True, alpha=0.3, color='r', label='new black belt:3.0A 0.69sec')\n",
    "plt.legend(fontsize=15,loc='upper left')\n",
    "\n",
    "# Plot the PDF.\n",
    "xmin, xmax = plt.xlim([12,34])\n",
    "plt.ylim([0.,0.18])\n",
    "x = np.linspace(xmin, xmax, 100)\n",
    "p = norm.pdf(x, mu, std)\n",
    "plt.plot(x, p, 'r', linewidth=2)\n",
    "plt.title(f'Fit Result: mu={round(mu,2)}, std={round(std,2)}')\n",
    "plt.xlabel('proceeded degrees[deg]')\n",
    "plt.ylabel('number of events')"
   ]
  },
  {
   "cell_type": "code",
   "execution_count": null,
   "metadata": {},
   "outputs": [],
   "source": [
    "fig14.savefig(storepath + storename + '_histDEG_FIT1.png', transparent=True)"
   ]
  },
  {
   "cell_type": "code",
   "execution_count": null,
   "metadata": {},
   "outputs": [],
   "source": [
    "i = 0\n",
    "hoge = 10\n",
    "fuga = 500\n",
    "\n",
    "time0 = []\n",
    "time1 = []\n",
    "time2 = []\n",
    "time3 = []\n",
    "\n",
    "for j in range(hoge,fuga):\n",
    "    time0.append([])\n",
    "    time1.append([])\n",
    "    time2.append([])\n",
    "    time3.append([])\n",
    "    time0[j-hoge] = np.diff((lincount_block[i][block_initials[i][j]:block_initials[i][j+1]])[::plot_slice]) > 0\n",
    "    time1[j-hoge] = np.where(~time0[j-hoge][:-1] & time0[j-hoge][1:])\n",
    "    time2[j-hoge] = ((time_block[i][block_initials[i][j]:block_initials[i][j+1]])[::plot_slice])[1:]\n",
    "    time3[j-hoge] = (((time_block[i][block_initials[i][j]:block_initials[i][j+1]])[::plot_slice])[1:])[time1[j-hoge]]\n",
    "\n",
    "figY = plt.figure(figsize=(10,7))\n",
    "\n",
    "for j in range(hoge,fuga):\n",
    "    plt.plot(time2[j-hoge]-time3[j-hoge], np.diff((lincount_block[i][block_initials[i][j]:block_initials[i][j+1]])[::plot_slice]), color='k', label='black belt')\n",
    "    pass\n",
    "\n",
    "plt.axvline(0.65, color='y')\n",
    "plt.axvline(0.78, color='b')\n",
    "plt.axhline(60)\n",
    "plt.xlabel('time[sec]')\n",
    "plt.ylabel('difference of counts (~speed)')\n",
    "plt.xlim([-0.5,2.])\n",
    "plt.ylim([-20,140])\n",
    "#plt.legend(loc='upper right', fontsize=15)"
   ]
  },
  {
   "cell_type": "code",
   "execution_count": null,
   "metadata": {},
   "outputs": [],
   "source": [
    "figY.savefig(storepath + storename + '_form_3A-69e-1sec_num10_slice30.png', transparent=True)"
   ]
  },
  {
   "cell_type": "code",
   "execution_count": null,
   "metadata": {},
   "outputs": [],
   "source": [
    "kue = (lincount_block[i][block_initials[i][j]:block_initials[i][j+1]])[::plot_slice]"
   ]
  },
  {
   "cell_type": "code",
   "execution_count": null,
   "metadata": {},
   "outputs": [],
   "source": [
    "(kue[-1] - kue[0])*Deg"
   ]
  },
  {
   "cell_type": "code",
   "execution_count": null,
   "metadata": {},
   "outputs": [],
   "source": []
  },
  {
   "cell_type": "code",
   "execution_count": null,
   "metadata": {},
   "outputs": [],
   "source": [
    "figXX = plt.figure(figsize=(10,7))\n",
    "for i in range(6):\n",
    "    plt.plot(proDeg_mean[i], proDeg_stdv[i], label=f'{round(1.5+i*0.3,2)}A')\n",
    "    plt.scatter(proDeg_mean[i], proDeg_stdv[i])\n",
    "    pass\n",
    "plt.xlabel('respective mean of proceeded degrees[degree]')\n",
    "plt.ylabel('standard deviation[degree]')\n",
    "# plt.xlim([-30,670])\n",
    "# plt.ylim([0,16])\n",
    "# plt.axvline(360)\n",
    "plt.legend(loc='upper left', fontsize=15)"
   ]
  },
  {
   "cell_type": "code",
   "execution_count": null,
   "metadata": {},
   "outputs": [],
   "source": [
    "figXX.savefig(storepath + storename + '_DEGvsSTD0.png', facecolor='white')"
   ]
  },
  {
   "cell_type": "code",
   "execution_count": null,
   "metadata": {},
   "outputs": [],
   "source": []
  },
  {
   "cell_type": "code",
   "execution_count": null,
   "metadata": {},
   "outputs": [],
   "source": []
  },
  {
   "cell_type": "code",
   "execution_count": null,
   "metadata": {},
   "outputs": [],
   "source": [
    "i = 12\n",
    "plt.plot(time_block[i], lincount_block[i])\n",
    "plt.axvline(time_block[i][block_initials[i][20]])"
   ]
  },
  {
   "cell_type": "code",
   "execution_count": null,
   "metadata": {},
   "outputs": [],
   "source": [
    "linear_refcount = []\n",
    "\n",
    "specific_refcount = reference_block[12]\n",
    "\n",
    "for\n",
    "linear_refcount = np.array(np.zeros(len(specific_refcount)))\n",
    "    \n",
    "count_offset = 0\n",
    "casp_flag = 0\n",
    "casp = np.where(np.diff(specific_refcount) <= casp_threshold)[0].tolist()\n",
    "\n",
    "for i in range(len(specific_refcount)):\n",
    "    linear_refcount[i] = specific_refcount[i]+count_offset\n",
    "    if casp:\n",
    "        if i == casp[casp_flag]:\n",
    "            count_offset += specific_refcount[casp[casp_flag]]\n",
    "            if len(casp) > casp_flag+1:\n",
    "                casp_flag += 1\n",
    "                pass\n",
    "            pass\n",
    "        pass\n",
    "    pass\n"
   ]
  },
  {
   "cell_type": "code",
   "execution_count": null,
   "metadata": {},
   "outputs": [],
   "source": [
    "len(inits[0:100])"
   ]
  },
  {
   "cell_type": "code",
   "execution_count": null,
   "metadata": {},
   "outputs": [],
   "source": [
    "plt.plot(time_block[12], linear_refcount)\n",
    "plt.axvline((time[::capture_slice])[(inits[1200:1300])[90]])"
   ]
  },
  {
   "cell_type": "code",
   "execution_count": null,
   "metadata": {},
   "outputs": [],
   "source": [
    "linear_refcount"
   ]
  },
  {
   "cell_type": "code",
   "execution_count": null,
   "metadata": {},
   "outputs": [],
   "source": [
    "hoge = np.where(time_block[12] == (time[::capture_slice])[(inits[1200:1300])[90]])[0]\n",
    "hoge"
   ]
  },
  {
   "cell_type": "code",
   "execution_count": null,
   "metadata": {},
   "outputs": [],
   "source": [
    "(time_block[12])[hoge]"
   ]
  },
  {
   "cell_type": "code",
   "execution_count": null,
   "metadata": {},
   "outputs": [],
   "source": [
    "i = 3\n",
    "hoge = int(np.where(time_block[i] == (time[::capture_slice])[(inits[i*100:(i+1)*100])[j]])[0])"
   ]
  },
  {
   "cell_type": "code",
   "execution_count": null,
   "metadata": {},
   "outputs": [],
   "source": [
    "hoge"
   ]
  },
  {
   "cell_type": "code",
   "execution_count": null,
   "metadata": {},
   "outputs": [],
   "source": []
  },
  {
   "cell_type": "code",
   "execution_count": null,
   "metadata": {},
   "outputs": [],
   "source": [
    "lines = []\n",
    "for i in range(matrix_size):\n",
    "    lines.append([])\n",
    "    for j in range(iteration):\n",
    "        lines[i].append(int(np.where(time_block[i] == (time[::capture_slice])[(inits[i*100:(i+1)*100])[j]])[0]))"
   ]
  },
  {
   "cell_type": "code",
   "execution_count": null,
   "metadata": {},
   "outputs": [],
   "source": [
    "len(lines)"
   ]
  },
  {
   "cell_type": "code",
   "execution_count": null,
   "metadata": {},
   "outputs": [],
   "source": [
    "lines"
   ]
  },
  {
   "cell_type": "code",
   "execution_count": null,
   "metadata": {},
   "outputs": [],
   "source": [
    "(time_block[0])[lines[0][0]]"
   ]
  },
  {
   "cell_type": "code",
   "execution_count": null,
   "metadata": {},
   "outputs": [],
   "source": [
    "time_block[0][0]"
   ]
  },
  {
   "cell_type": "code",
   "execution_count": null,
   "metadata": {},
   "outputs": [],
   "source": [
    "plt.plot(time_block[0], reference_block[0])\n",
    "plt.axvline((time_block[0])[lines[0][0]])\n",
    "plt.axvline(time_block[0][0])\n",
    "plt.xlim([85,90])"
   ]
  },
  {
   "cell_type": "code",
   "execution_count": null,
   "metadata": {},
   "outputs": [],
   "source": []
  },
  {
   "cell_type": "code",
   "execution_count": null,
   "metadata": {},
   "outputs": [],
   "source": []
  },
  {
   "cell_type": "code",
   "execution_count": null,
   "metadata": {},
   "outputs": [],
   "source": []
  },
  {
   "cell_type": "code",
   "execution_count": null,
   "metadata": {},
   "outputs": [],
   "source": [
    "0.08e-3*2.5e-9*100/10e-9"
   ]
  },
  {
   "cell_type": "code",
   "execution_count": null,
   "metadata": {},
   "outputs": [],
   "source": []
  },
  {
   "cell_type": "code",
   "execution_count": null,
   "metadata": {},
   "outputs": [],
   "source": []
  },
  {
   "cell_type": "code",
   "execution_count": null,
   "metadata": {},
   "outputs": [],
   "source": [
    "for i in range(10):\n",
    "    print(f'{(time[::capture_slice])[swt[i]-1]} {(time[::capture_slice])[swt[i]]} {(time[::capture_slice])[swt[i]+1]}')"
   ]
  },
  {
   "cell_type": "code",
   "execution_count": null,
   "metadata": {},
   "outputs": [],
   "source": [
    "plt.plot(time[::capture_slice], reference[::capture_slice])\n",
    "plt.xlim([80,100])\n",
    "plt.ylim([3000,4000])\n",
    "for i in range(5):\n",
    "    plt.axvline((time[::capture_slice])[swt[i]-1])\n",
    "    plt.axvline((time[::capture_slice])[swt[i]])\n",
    "    plt.axvline((time[::capture_slice])[swt[i]+1])"
   ]
  },
  {
   "cell_type": "code",
   "execution_count": null,
   "metadata": {},
   "outputs": [],
   "source": [
    "plt.plot(time[::capture_slice], reference[::capture_slice])\n",
    "plt.xlim([580,600])\n",
    "plt.ylim([3000,4000])\n",
    "for i in range(5):\n",
    "    plt.axvline((time[::capture_slice])[swt[i]-1])\n",
    "    plt.axvline((time[::capture_slice])[swt[i]])\n",
    "    plt.axvline((time[::capture_slice])[swt[i]+1])"
   ]
  },
  {
   "cell_type": "code",
   "execution_count": null,
   "metadata": {},
   "outputs": [],
   "source": [
    "for i in range(4):\n",
    "    print(f'{int(np.where(time == (time[::capture_slice])[swt[i]-1])[0])}')"
   ]
  },
  {
   "cell_type": "code",
   "execution_count": null,
   "metadata": {},
   "outputs": [],
   "source": [
    "i = 0\n",
    "hoge = time[int(np.where(time == (time[::capture_slice])[swt[i]-1])[0]):int(np.where(time == (time[::capture_slice])[swt[i+1]-1])[0])]\n"
   ]
  },
  {
   "cell_type": "code",
   "execution_count": null,
   "metadata": {},
   "outputs": [],
   "source": [
    "hoge"
   ]
  },
  {
   "cell_type": "code",
   "execution_count": null,
   "metadata": {},
   "outputs": [],
   "source": []
  },
  {
   "cell_type": "code",
   "execution_count": null,
   "metadata": {},
   "outputs": [],
   "source": [
    "len(time_block)"
   ]
  },
  {
   "cell_type": "code",
   "execution_count": null,
   "metadata": {},
   "outputs": [],
   "source": [
    "for i in range(10):\n",
    "    print(f'{len(time_block[i])}')"
   ]
  },
  {
   "cell_type": "code",
   "execution_count": null,
   "metadata": {},
   "outputs": [],
   "source": []
  },
  {
   "cell_type": "code",
   "execution_count": null,
   "metadata": {},
   "outputs": [],
   "source": [
    "linear_refcount = np.array(np.zeros(len(specific_refcount)))\n",
    "    \n",
    "count_offset = 0\n",
    "casp_flag = 0\n",
    "casp = np.where(np.diff(specific_refcount) <= casp_threshold)[0].tolist()\n",
    "\n",
    "for i in range(len(specific_refcount)):\n",
    "    linear_refcount[i] = specific_refcount[i]+count_offset\n",
    "    if casp:\n",
    "        if i == casp[casp_flag]:\n",
    "            count_offset += specific_refcount[casp[casp_flag]]\n",
    "            if len(casp) > casp_flag+1:\n",
    "                casp_flag += 1\n",
    "                pass\n",
    "            pass\n",
    "        pass\n",
    "    pass\n",
    "\n",
    "modLinear = linear_refcount[::skip]\n",
    "modTime = specific_time[::skip]\n",
    "\n",
    "positive = np.diff(modLinear) > 0.\n",
    "edge_initial = np.array([])\n",
    "edge_initial = np.where(positive[1:] & ~positive[:-1])[0]\n",
    "edge_final = np.array([])\n",
    "rep_edge = np.where(~positive[1:] & positive[:-1])[0]\n",
    "for i in rep_edge:\n",
    "    edge_flag = 0\n",
    "    for j in range(edge_coverage):\n",
    "        if (np.diff(modLinear))[i+j] == 0:\n",
    "            edge_flag += 1\n",
    "            if edge_flag == flag_threshold:\n",
    "                edge_final = np.append(edge_final, i+j+flag_threshold)\n",
    "                break\n",
    "                pass\n",
    "            pass\n",
    "        pass"
   ]
  },
  {
   "cell_type": "code",
   "execution_count": null,
   "metadata": {},
   "outputs": [],
   "source": []
  },
  {
   "cell_type": "code",
   "execution_count": null,
   "metadata": {},
   "outputs": [],
   "source": []
  },
  {
   "cell_type": "code",
   "execution_count": null,
   "metadata": {},
   "outputs": [],
   "source": [
    "swt"
   ]
  },
  {
   "cell_type": "code",
   "execution_count": null,
   "metadata": {},
   "outputs": [],
   "source": [
    "inits[-1]"
   ]
  },
  {
   "cell_type": "code",
   "execution_count": null,
   "metadata": {},
   "outputs": [],
   "source": [
    "end"
   ]
  },
  {
   "cell_type": "code",
   "execution_count": null,
   "metadata": {},
   "outputs": [],
   "source": []
  },
  {
   "cell_type": "code",
   "execution_count": null,
   "metadata": {},
   "outputs": [],
   "source": []
  },
  {
   "cell_type": "code",
   "execution_count": null,
   "metadata": {
    "scrolled": true
   },
   "outputs": [],
   "source": [
    "fig = plt.figure(figsize=(10,7))\n",
    "plt.plot(time, reference, label='non')\n",
    "#plt.plot(time[::100], reference[::100]+100, label='skip100')\n",
    "plt.plot(time[::1000], reference[::1000]+200, label='skip1000')\n",
    "#plt.plot(time[::10000], reference[::10000]+300, label='skip10000')\n",
    "plt.xlim([22700,22750])\n",
    "#plt.ylim([0,52000])\n",
    "for i in range(30):\n",
    "    plt.axvline((time[::1000])[inits[-i]])\n",
    "    pass\n",
    "plt.axvline((time[::1000])[end])\n",
    "plt.legend(loc='upper left')"
   ]
  },
  {
   "cell_type": "code",
   "execution_count": null,
   "metadata": {},
   "outputs": [],
   "source": [
    "len(swt)"
   ]
  },
  {
   "cell_type": "code",
   "execution_count": null,
   "metadata": {
    "scrolled": true
   },
   "outputs": [],
   "source": [
    "swt"
   ]
  },
  {
   "cell_type": "code",
   "execution_count": null,
   "metadata": {},
   "outputs": [],
   "source": []
  },
  {
   "cell_type": "code",
   "execution_count": null,
   "metadata": {},
   "outputs": [],
   "source": []
  },
  {
   "cell_type": "code",
   "execution_count": null,
   "metadata": {},
   "outputs": [],
   "source": [
    "time_block = []\n",
    "reference_block = []\n",
    "\n",
    "for i in range(len(swt)-1):\n",
    "    time_block.append((time[::capture_slice])[swt[i]:swt[i+1]])\n",
    "    reference_block.append((reference[::capture_slice])[swt[i]:swt[i+1]])\n",
    "    pass\n",
    "time_block.append((time[::capture_slice])[swt[-1]:end])\n",
    "reference_block.append((reference[::capture_slice])[swt[-1]:end])"
   ]
  },
  {
   "cell_type": "code",
   "execution_count": null,
   "metadata": {},
   "outputs": [],
   "source": [
    "len(time_block)"
   ]
  },
  {
   "cell_type": "code",
   "execution_count": null,
   "metadata": {},
   "outputs": [],
   "source": [
    "len(reference_block)"
   ]
  },
  {
   "cell_type": "code",
   "execution_count": null,
   "metadata": {},
   "outputs": [],
   "source": []
  },
  {
   "cell_type": "code",
   "execution_count": null,
   "metadata": {},
   "outputs": [],
   "source": []
  },
  {
   "cell_type": "code",
   "execution_count": null,
   "metadata": {},
   "outputs": [],
   "source": []
  },
  {
   "cell_type": "code",
   "execution_count": null,
   "metadata": {},
   "outputs": [],
   "source": []
  },
  {
   "cell_type": "code",
   "execution_count": null,
   "metadata": {},
   "outputs": [],
   "source": [
    "print(\"{}{: >25}{}{: >10}{}\".format('|','Variable Name','|','Memory','|'))\n",
    "print(\" ------------------------------------ \")\n",
    "for var_name in dir():\n",
    "    if not var_name.startswith(\"_\") and sys.getsizeof(eval(var_name)) > 1000: #ここだけアレンジ\n",
    "        print(\"{}{: >25}{}{: >10}{}\".format('|',var_name,'|',sys.getsizeof(eval(var_name)),'|'))"
   ]
  },
  {
   "cell_type": "code",
   "execution_count": null,
   "metadata": {},
   "outputs": [],
   "source": [
    "#del df, initial_lines, time, rep, hoge"
   ]
  },
  {
   "cell_type": "code",
   "execution_count": null,
   "metadata": {},
   "outputs": [],
   "source": []
  },
  {
   "cell_type": "code",
   "execution_count": null,
   "metadata": {},
   "outputs": [],
   "source": []
  },
  {
   "cell_type": "code",
   "execution_count": null,
   "metadata": {},
   "outputs": [],
   "source": []
  },
  {
   "cell_type": "markdown",
   "metadata": {},
   "source": [
    "# Plots"
   ]
  },
  {
   "cell_type": "code",
   "execution_count": null,
   "metadata": {
    "scrolled": true
   },
   "outputs": [],
   "source": [
    "fig10 ,axarr10 = plt.subplots(6,6,figsize=(26,28))\n",
    "ax10 = axarr10.ravel()\n",
    "\n",
    "for i in range(matrix_size):\n",
    "    for j in range(min(len(edge_initial[i]),len(edge_final[i]))):\n",
    "        #if error_position[i][j] != False:\n",
    "        ax10[i].plot((linTime[i][:-1])[int(edge_initial[i][j]):int(edge_final[i][j])]-(linTime[i][:-1])[int(edge_initial[i][j])],\n",
    "                    (np.diff(linRef[i]))[int(edge_initial[i][j]):int(edge_final[i][j])])\n",
    "        ax10[i].set_title(f'{round((1.2+0.3*int(i/6)),2)}A_{0.5*(1+i%6)}sec')\n",
    "        #ax10[i].xaxis.set_major_locator(tik.MultipleLocator(0.5))"
   ]
  },
  {
   "cell_type": "code",
   "execution_count": null,
   "metadata": {},
   "outputs": [],
   "source": [
    "#fig10.savefig(storepath + storename +'_speed1.png', facecolor='white')"
   ]
  },
  {
   "cell_type": "code",
   "execution_count": null,
   "metadata": {},
   "outputs": [],
   "source": [
    "i = 0\n",
    "\n",
    "fig = plt.figure(figsize=(10,7))\n",
    "#for j in range(min(len(edge_initial[i]),len(edge_final[i]))):\n",
    "for j in range(0,10):\n",
    "    #if error_position[i][j] != False:\n",
    "    plt.plot((linTime[i][:-1])[int(edge_initial[i][j]):int(edge_final[i][j])]-(linTime[i][:-1])[int(edge_initial[i][j])],\n",
    "                (np.diff(linRef[i]))[int(edge_initial[i][j]):int(edge_final[i][j])])\n",
    "    plt.title(f'{round((1.2+0.3*int(i/6)),2)}A_{0.5*(1+i%6)}sec')"
   ]
  },
  {
   "cell_type": "code",
   "execution_count": null,
   "metadata": {},
   "outputs": [],
   "source": []
  },
  {
   "cell_type": "code",
   "execution_count": null,
   "metadata": {},
   "outputs": [],
   "source": []
  },
  {
   "cell_type": "code",
   "execution_count": null,
   "metadata": {},
   "outputs": [],
   "source": [
    "fig11 ,axarr11 = plt.subplots(6,6,figsize=(24,22))\n",
    "ax11 = axarr11.ravel()\n",
    "\n",
    "for i in range(matrix_size):\n",
    "    ax11[i].scatter(linInitRef_woErr[i],proDeg_woErr[i], s=20)\n",
    "    ax11[i].set_title(f'{round((1.2+0.3*int(i/6)),2)}A_{0.5*(1+i%6)}sec')\n",
    "    pass"
   ]
  },
  {
   "cell_type": "code",
   "execution_count": null,
   "metadata": {},
   "outputs": [],
   "source": [
    "#fig11.savefig(storepath + storename + '_TvsDEG.png', facecolor='white')"
   ]
  },
  {
   "cell_type": "code",
   "execution_count": null,
   "metadata": {
    "scrolled": false
   },
   "outputs": [],
   "source": [
    "fig12 = plt.figure(figsize=(10,7))\n",
    "for i in range(matrix_size):\n",
    "    plt.scatter(linInitRef_woErr[i], proDeg_woErr[i])\n",
    "    pass\n",
    "plt.title('2.1A 0.55sec position VS degrees')\n",
    "plt.xlabel('position[deg]')\n",
    "plt.ylabel('proceeded degrees[deg]')"
   ]
  },
  {
   "cell_type": "code",
   "execution_count": null,
   "metadata": {},
   "outputs": [],
   "source": [
    "int(len(linInitRef_woErr[0])/16)"
   ]
  },
  {
   "cell_type": "code",
   "execution_count": null,
   "metadata": {},
   "outputs": [],
   "source": [
    "hoge = []\n",
    "for i in range(int(len(linInitRef_woErr[0])/16)):\n",
    "    hoge.append(linInitRef_woErr[0][16*i:16*(i+1)])\n",
    "    pass\n",
    "#hoge"
   ]
  },
  {
   "cell_type": "code",
   "execution_count": null,
   "metadata": {},
   "outputs": [],
   "source": [
    "360/23"
   ]
  },
  {
   "cell_type": "code",
   "execution_count": null,
   "metadata": {},
   "outputs": [],
   "source": [
    "plt.hist(linInitRef_woErr[0],range=[0,360],bins=15)"
   ]
  },
  {
   "cell_type": "code",
   "execution_count": null,
   "metadata": {},
   "outputs": [],
   "source": [
    "hist_color = ['bisque', 'lightgreen', 'skyblue']\n",
    "fuga = []\n",
    "for i in range(int(len(linInitRef_woErr[0])/16)):\n",
    "    fuga.append(hist_color[i%3])"
   ]
  },
  {
   "cell_type": "code",
   "execution_count": null,
   "metadata": {
    "scrolled": true
   },
   "outputs": [],
   "source": [
    "fig = plt.figure(figsize=(10,7))\n",
    "plt.hist(hoge,range=[0,360],bins=15,stacked=True,color=fuga)"
   ]
  },
  {
   "cell_type": "code",
   "execution_count": null,
   "metadata": {},
   "outputs": [],
   "source": []
  },
  {
   "cell_type": "code",
   "execution_count": null,
   "metadata": {},
   "outputs": [],
   "source": [
    "#fig12.savefig(storepath + storename + '_POSvsDEG.png', facecolor='white')"
   ]
  },
  {
   "cell_type": "code",
   "execution_count": null,
   "metadata": {},
   "outputs": [],
   "source": [
    "fig13 = plt.figure()\n",
    "for i in range(matrix_size):\n",
    "    plt.hist(proDeg_woErr[i], bins=15)\n",
    "    pass\n",
    "plt.title('2.1A 0.55sec proceeded degrees hist')\n",
    "plt.xlabel('proceeded degrees[deg]')\n",
    "plt.ylabel('number of events')"
   ]
  },
  {
   "cell_type": "code",
   "execution_count": null,
   "metadata": {},
   "outputs": [],
   "source": [
    "#fig13.savefig(storepath + storename + '_histDEG.png', facecolor='white')"
   ]
  },
  {
   "cell_type": "code",
   "execution_count": null,
   "metadata": {
    "code_folding": [],
    "scrolled": false
   },
   "outputs": [],
   "source": [
    "#Fitting histogram\n",
    "fig14 = plt.figure(figsize=(10,7))\n",
    "mu, std = norm.fit(proDeg_woErr)\n",
    "\n",
    "# Plot the histogram.\n",
    "plt.hist(proDeg_woErr, bins=15, density=True, alpha=0.3, color='g', label='2.1A 0.55sec')\n",
    "plt.legend(fontsize=15,loc='upper right')\n",
    "\n",
    "# Plot the PDF.\n",
    "xmin, xmax = plt.xlim([0,40])\n",
    "plt.ylim([0.,0.18])\n",
    "x = np.linspace(xmin, xmax, 100)\n",
    "p = norm.pdf(x, mu, std)\n",
    "plt.plot(x, p, 'k', linewidth=2)\n",
    "plt.title(f'Fit Result: mu={round(mu,2)}, std={round(std,2)}')\n",
    "plt.xlabel('proceeded degrees[deg]')\n",
    "plt.ylabel('number of events')"
   ]
  },
  {
   "cell_type": "code",
   "execution_count": null,
   "metadata": {},
   "outputs": [],
   "source": [
    "#fig14.savefig(storepath + storename + '_histDEG_FIT0.png', facecolor='white')"
   ]
  },
  {
   "cell_type": "code",
   "execution_count": null,
   "metadata": {},
   "outputs": [],
   "source": []
  },
  {
   "cell_type": "code",
   "execution_count": null,
   "metadata": {},
   "outputs": [],
   "source": []
  },
  {
   "cell_type": "code",
   "execution_count": null,
   "metadata": {},
   "outputs": [],
   "source": []
  },
  {
   "cell_type": "code",
   "execution_count": null,
   "metadata": {},
   "outputs": [],
   "source": []
  },
  {
   "cell_type": "markdown",
   "metadata": {},
   "source": [
    "# Others"
   ]
  },
  {
   "cell_type": "code",
   "execution_count": null,
   "metadata": {},
   "outputs": [],
   "source": []
  }
 ],
 "metadata": {
  "kernelspec": {
   "display_name": "Python 3",
   "language": "python",
   "name": "python3"
  },
  "language_info": {
   "codemirror_mode": {
    "name": "ipython",
    "version": 3
   },
   "file_extension": ".py",
   "mimetype": "text/x-python",
   "name": "python",
   "nbconvert_exporter": "python",
   "pygments_lexer": "ipython3",
   "version": "3.7.7"
  }
 },
 "nbformat": 4,
 "nbformat_minor": 4
}
