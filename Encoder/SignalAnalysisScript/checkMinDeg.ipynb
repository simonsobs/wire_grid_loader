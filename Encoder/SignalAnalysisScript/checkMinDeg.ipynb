{
 "cells": [
  {
   "cell_type": "code",
   "execution_count": null,
   "metadata": {},
   "outputs": [],
   "source": [
    "import sys\n",
    "import numpy as np\n",
    "import matplotlib.pyplot as plt\n",
    "import matplotlib.ticker as tik\n",
    "import pandas as pd\n",
    "from datetime import datetime, timezone, timedelta\n",
    "\n",
    "from scipy.stats import norm\n",
    "import matplotlib.mlab as mlab\n",
    "\n",
    "from operator import add\n",
    "\n",
    "#from matplotlib import gridspec\n",
    "#from scipy.optimize import curve_fit"
   ]
  },
  {
   "cell_type": "markdown",
   "metadata": {},
   "source": [
    "# Input data and log"
   ]
  },
  {
   "cell_type": "code",
   "execution_count": null,
   "metadata": {
    "scrolled": true
   },
   "outputs": [],
   "source": [
    "#file path and name\n",
    "filepath = './rawdata/'\n",
    "filename = 'Feb18_minangle.dat'\n",
    "\n",
    "time_category, error, direction, timercount, reference = np.loadtxt(filepath + filename, comments='#', unpack=True)"
   ]
  },
  {
   "cell_type": "code",
   "execution_count": null,
   "metadata": {},
   "outputs": [],
   "source": [
    "logpath = './log/'\n",
    "logfilename = 'PMX_2021-02-18.dat'\n",
    "\n",
    "df = pd.read_csv(logpath + logfilename, delim_whitespace=True, comment='#', skiprows=8)"
   ]
  },
  {
   "cell_type": "code",
   "execution_count": null,
   "metadata": {},
   "outputs": [],
   "source": [
    "df"
   ]
  },
  {
   "cell_type": "code",
   "execution_count": null,
   "metadata": {},
   "outputs": [],
   "source": [
    "iteration = 100\n",
    "\n",
    "list_amp = [3.0]\n",
    "list_intv = ['0.100', '0.120', '0.140', '0.160', '0.180', '0.200', '0.220', '0.240', '0.260', '0.280', '0.300']\n",
    "\n",
    "matrix_size = 11\n",
    "\n",
    "pack_size = 1"
   ]
  },
  {
   "cell_type": "code",
   "execution_count": null,
   "metadata": {},
   "outputs": [],
   "source": [
    "min(error)"
   ]
  },
  {
   "cell_type": "code",
   "execution_count": null,
   "metadata": {},
   "outputs": [],
   "source": []
  },
  {
   "cell_type": "markdown",
   "metadata": {},
   "source": [
    "## Set variables2"
   ]
  },
  {
   "cell_type": "code",
   "execution_count": null,
   "metadata": {},
   "outputs": [],
   "source": [
    "time = timercount/200e6\n",
    "\n",
    "plot_slice = 30\n",
    "capture_slice = 500\n",
    "\n",
    "pos_roll = 5\n",
    "\n",
    "casp_threshold = -100\n",
    "\n",
    "Deg = 360/52000"
   ]
  },
  {
   "cell_type": "code",
   "execution_count": null,
   "metadata": {},
   "outputs": [],
   "source": [
    "storepath = './plots/'\n",
    "storename = 'Feb18_mindegree'"
   ]
  },
  {
   "cell_type": "code",
   "execution_count": null,
   "metadata": {
    "code_folding": []
   },
   "outputs": [],
   "source": [
    "#first scketch of the rawdata\n",
    "fig01, axarr01 = plt.subplots(1,2,figsize=(14,7))\n",
    "ax01 = axarr01.ravel()\n",
    "\n",
    "ax01[0].plot(time[::100], reference[::100])\n",
    "ax01[0].set_xlabel('time[sec]')\n",
    "ax01[0].set_ylabel('reference count')\n",
    "\n",
    "ax01[1].scatter(np.diff(timercount), np.diff(reference))\n",
    "ax01[1].set_xlabel('difference time of lines')\n",
    "ax01[1].set_ylabel('difference counts of lines')"
   ]
  },
  {
   "cell_type": "code",
   "execution_count": null,
   "metadata": {},
   "outputs": [],
   "source": [
    "np.where((np.diff(timercount) > 110000) | (np.diff(timercount) < 90000))[0]"
   ]
  },
  {
   "cell_type": "code",
   "execution_count": null,
   "metadata": {},
   "outputs": [],
   "source": [
    "hoge = len(np.where((np.diff(timercount) > 110000) | (np.diff(timercount) < 90000))[0])"
   ]
  },
  {
   "cell_type": "code",
   "execution_count": null,
   "metadata": {
    "scrolled": true
   },
   "outputs": [],
   "source": [
    "for i in range(hoge):\n",
    "    print(f'{np.diff(timercount)[(np.where((np.diff(timercount) > 110000) | (np.diff(timercount) < 90000))[0])[i]]}')"
   ]
  },
  {
   "cell_type": "code",
   "execution_count": null,
   "metadata": {},
   "outputs": [],
   "source": []
  },
  {
   "cell_type": "code",
   "execution_count": null,
   "metadata": {},
   "outputs": [],
   "source": []
  },
  {
   "cell_type": "code",
   "execution_count": null,
   "metadata": {},
   "outputs": [],
   "source": [
    "plt.scatter(time[::100], reference[::100])\n",
    "plt.xlim([24000,25250])\n",
    "plt.ylim([-1,52000])"
   ]
  },
  {
   "cell_type": "code",
   "execution_count": null,
   "metadata": {},
   "outputs": [],
   "source": []
  },
  {
   "cell_type": "code",
   "execution_count": null,
   "metadata": {},
   "outputs": [],
   "source": [
    "#fig01.savefig(storepath + storename + '_RawAndCorr.png')"
   ]
  },
  {
   "cell_type": "code",
   "execution_count": null,
   "metadata": {
    "code_folding": [
     0
    ]
   },
   "outputs": [],
   "source": [
    "def packet_capture(dataframe, list_ampere, list_interval, UnixTime_Data):\n",
    "    JST = timezone(timedelta(hours=+9), 'JST')\n",
    "    initial_UnixTime = []\n",
    "    switching_UnixTime = []\n",
    "    start_UnixTime = []\n",
    "\n",
    "    for i in range(iteration):\n",
    "        start_UnixTime.append([])\n",
    "\n",
    "    for i in list_ampere:\n",
    "        for j in list_interval:\n",
    "            list_datetime = ((dataframe[dataframe.iloc[:,5] == i])[(dataframe[dataframe.iloc[:,5] == i]).iloc[:,8] == j]).iloc[:,0:2].to_numpy()\n",
    "            for k in range(len(list_datetime)):\n",
    "                if k%pack_size == 0:\n",
    "                    start_UnixTime[int(k/pack_size)] = (((datetime.strptime(list_datetime[k][0]+' '+list_datetime[k][1],\"%Y-%m-%d %H:%M:%S-%Z\")).replace(tzinfo=timezone.utc)).astimezone(JST)).timestamp()\n",
    "                    initial_UnixTime = np.append(initial_UnixTime, start_UnixTime[int(k/pack_size)])\n",
    "                    pass\n",
    "                pass\n",
    "            switching_UnixTime.append(min(start_UnixTime))\n",
    "            pass\n",
    "        pass\n",
    "\n",
    "    stop_UnixTime = dataframe[dataframe.iloc[:,2] == 'OFF'].iloc[-1,:]\n",
    "    end_UnixTime = (((datetime.strptime(stop_UnixTime[0]+' '+stop_UnixTime[1],\"%Y-%m-%d %H:%M:%S-%Z\")).replace(tzinfo=timezone.utc)).astimezone(JST)).timestamp()\n",
    "\n",
    "    captured_initials = []\n",
    "    captured_switching = []\n",
    "    \n",
    "    for i in range(len(switching_UnixTime)):\n",
    "        captured_switching.append(max(np.where(time_category[::capture_slice] <= switching_UnixTime[i])[0]))\n",
    "        pass\n",
    "    \n",
    "    for i in range(len(initial_UnixTime)):\n",
    "        captured_initials.append(max(np.where(time_category[::capture_slice] <= initial_UnixTime[i])[0]))\n",
    "        pass\n",
    "    \n",
    "    captured_end = min(np.where(end_UnixTime + pos_roll <= time_category[::capture_slice])[0])\n",
    "    \n",
    "    return captured_switching, captured_initials, captured_end"
   ]
  },
  {
   "cell_type": "code",
   "execution_count": null,
   "metadata": {
    "scrolled": true
   },
   "outputs": [],
   "source": [
    "swt, inits, end = packet_capture(df, list_amp, list_intv, time_category)"
   ]
  },
  {
   "cell_type": "code",
   "execution_count": null,
   "metadata": {},
   "outputs": [],
   "source": []
  },
  {
   "cell_type": "code",
   "execution_count": null,
   "metadata": {
    "code_folding": [
     0
    ]
   },
   "outputs": [],
   "source": [
    "#block\n",
    "time_block = []\n",
    "reference_block = []\n",
    "\n",
    "for i in range(len(swt)-1):\n",
    "    time_block.append(time[int(np.where(time == (time[::capture_slice])[swt[i]-pos_roll])[0]):int(np.where(time == (time[::capture_slice])[swt[i+1]-pos_roll])[0])])\n",
    "    reference_block.append(reference[int(np.where(time == (time[::capture_slice])[swt[i]-pos_roll])[0]):int(np.where(time == (time[::capture_slice])[swt[i+1]-pos_roll])[0])])\n",
    "    pass\n",
    "time_block.append(time[int(np.where(time == (time[::capture_slice])[swt[-1]-pos_roll])[0]):int(np.where(time == (time[::capture_slice])[end+pos_roll])[0])])\n",
    "reference_block.append(reference[int(np.where(time == (time[::capture_slice])[swt[-1]-pos_roll])[0]):int(np.where(time == (time[::capture_slice])[end+pos_roll])[0])])\n",
    "\n",
    "lincount_block = []\n",
    "block_initials = []\n",
    "onecycle_time = []\n",
    "proceeded_degrees = []\n",
    "\n",
    "for i in range(matrix_size):\n",
    "    lincount_block.append([])\n",
    "    lincount_block[i] = np.array(np.zeros(len(reference_block[i])))\n",
    "    \n",
    "    count_offset = 0\n",
    "    casp_flag = 0\n",
    "    casp = np.where(np.diff(reference_block[i]) <= casp_threshold)[0].tolist()\n",
    "\n",
    "    for j in range(len(reference_block[i])):\n",
    "        lincount_block[i][j] = reference_block[i][j]+count_offset\n",
    "        if casp:\n",
    "            if j == casp[casp_flag]:\n",
    "                count_offset += reference_block[i][casp[casp_flag]]\n",
    "                if len(casp) > casp_flag+1:\n",
    "                    casp_flag += 1\n",
    "                    pass\n",
    "                pass\n",
    "            pass\n",
    "        pass\n",
    "    \n",
    "    block_initials.append([])\n",
    "    for j in range(iteration):\n",
    "        block_initials[i].append(int(np.where(time_block[i] == (time[::capture_slice])[(inits[i*iteration:(i+1)*iteration])[j]-pos_roll])[0]))\n",
    "        pass\n",
    "    \n",
    "    onecycle_time.append([])\n",
    "    proceeded_degrees.append([])\n",
    "    for j in range(iteration):\n",
    "        if j != iteration - 1:\n",
    "            onecycle_time[i].append(time_block[i][block_initials[i][j+1]]-time_block[i][block_initials[i][j]])\n",
    "            proceeded_degrees[i].append((lincount_block[i][block_initials[i][j+1]]-lincount_block[i][block_initials[i][j]])*Deg)\n",
    "            pass\n",
    "        else:\n",
    "            onecycle_time[i].append(time_block[i][-1]-time_block[i][block_initials[i][j]])\n",
    "            proceeded_degrees[i].append((lincount_block[i][-1]-lincount_block[i][block_initials[i][j]])*Deg)\n",
    "        pass\n",
    "    pass"
   ]
  },
  {
   "cell_type": "code",
   "execution_count": null,
   "metadata": {},
   "outputs": [],
   "source": []
  },
  {
   "cell_type": "code",
   "execution_count": null,
   "metadata": {},
   "outputs": [],
   "source": [
    "error_pack = [[2,43], [8,92], [9,33]]"
   ]
  },
  {
   "cell_type": "code",
   "execution_count": null,
   "metadata": {
    "code_folding": [
     0
    ]
   },
   "outputs": [],
   "source": [
    "#avoid error\n",
    "error_position = []\n",
    "error_flag0 = 0\n",
    "\n",
    "error_flag2 = 0\n",
    "\n",
    "for i in range(matrix_size):\n",
    "    error_flag1 = 1\n",
    "    error_position.append([])\n",
    "    for j in range(iteration):\n",
    "        if i == error_pack[error_flag0][0]:\n",
    "            if error_flag1 <= len(error_pack[error_flag0])-1:\n",
    "                if j == error_pack[error_flag0][error_flag1]:\n",
    "                    #print(f'{error_pack[error_flag0][0]} {error_pack[error_flag0][error_flag1]}')\n",
    "                    error_position[i].append([])\n",
    "                    error_position[i][j] = False\n",
    "                    error_flag1 += 1\n",
    "                    error_flag2 = 1\n",
    "                    pass\n",
    "                else:\n",
    "                    error_position[i].append([])\n",
    "                    error_position[i][j] = True\n",
    "                    pass\n",
    "                pass\n",
    "            else:\n",
    "                error_position[i].append([])\n",
    "                error_position[i][j] = True\n",
    "                pass\n",
    "            pass\n",
    "        else:\n",
    "            error_position[i].append([])\n",
    "            error_position[i][j] = True\n",
    "            pass\n",
    "        pass\n",
    "    if error_flag2 == 1:\n",
    "        if error_flag0 != len(error_pack)-1:\n",
    "            error_flag0 += 1\n",
    "            error_flag2 = 0\n",
    "            pass\n",
    "        pass\n",
    "    pass"
   ]
  },
  {
   "cell_type": "code",
   "execution_count": null,
   "metadata": {},
   "outputs": [],
   "source": []
  },
  {
   "cell_type": "code",
   "execution_count": null,
   "metadata": {},
   "outputs": [],
   "source": []
  },
  {
   "cell_type": "code",
   "execution_count": null,
   "metadata": {},
   "outputs": [],
   "source": [
    "cut_place = 2.4"
   ]
  },
  {
   "cell_type": "code",
   "execution_count": null,
   "metadata": {},
   "outputs": [],
   "source": []
  },
  {
   "cell_type": "code",
   "execution_count": null,
   "metadata": {},
   "outputs": [],
   "source": [
    "i = 4\n",
    "for j in range(23,25):\n",
    "    if error_position[i][j] != False:\n",
    "        hoge = (time_block[i][block_initials[i][j]:block_initials[i][j+1]])-time_block[i][block_initials[i][j]]\n",
    "        place = min(np.where(hoge >= cut_place)[0])\n",
    "        plt.plot(((time_block[i][block_initials[i][j]:block_initials[i][j] + place])[::plot_slice])[:-1]-time_block[i][block_initials[i][j]],\n",
    "                        np.diff((lincount_block[i][block_initials[i][j]:block_initials[i][j] + place])[::plot_slice]), label=f'num_{j}')\n",
    "    plt.legend(fontsize=20)"
   ]
  },
  {
   "cell_type": "code",
   "execution_count": null,
   "metadata": {},
   "outputs": [],
   "source": [
    "ref_threshold = 100\n",
    "\n",
    "cut_sum = []\n",
    "for j in range(99):\n",
    "    hoge = np.where(np.diff((lincount_block[i][block_initials[i][j]:block_initials[i][j] + place])[::plot_slice]) > ref_threshold)[0]\n",
    "    if hoge:\n",
    "        cut_sum.append(j)\n",
    "        pass\n",
    "cut_sum\n",
    "        "
   ]
  },
  {
   "cell_type": "code",
   "execution_count": null,
   "metadata": {
    "scrolled": true
   },
   "outputs": [],
   "source": [
    "fig10, axarr10 = plt.subplots(3,4,figsize=(16,12))\n",
    "ax10 = axarr10.ravel()\n",
    "\n",
    "fuga = []\n",
    "\n",
    "for i in range(matrix_size):\n",
    "    fuga.append([])\n",
    "    for j in range(iteration-1):\n",
    "        fuga[i].append([])\n",
    "        if error_position[i][j] != False:\n",
    "            hoge = (time_block[i][block_initials[i][j]:block_initials[i][j+1]])-time_block[i][block_initials[i][j]]\n",
    "            place = min(np.where(hoge >= cut_place)[0])\n",
    "            ax10[i].plot(((time_block[i][block_initials[i][j]:block_initials[i][j] + place])[::plot_slice])[:-1]-time_block[i][block_initials[i][j]],\n",
    "                        np.diff((lincount_block[i][block_initials[i][j]:block_initials[i][j] + place])[::plot_slice]))\n",
    "            #ax10[i].set_title(f'{round((1.5+0.3*int(i/6)),2)}A_{0.5*(1+i%6)}sec')\n",
    "        "
   ]
  },
  {
   "cell_type": "code",
   "execution_count": null,
   "metadata": {
    "scrolled": true
   },
   "outputs": [],
   "source": [
    "moved_angle = []\n",
    "start_position = []\n",
    "\n",
    "figX, axarrX = plt.subplots(3,4,figsize=(16,12))\n",
    "plt.rcParams[\"font.size\"] = 10\n",
    "axX = axarrX.ravel()\n",
    "\n",
    "for i in range(matrix_size):\n",
    "    moved_angle.append([])\n",
    "    start_position.append([])\n",
    "    for j in range(iteration-1):\n",
    "        if error_position[i][j] != False:\n",
    "            hoge = (time_block[i][block_initials[i][j]:block_initials[i][j+1]])-time_block[i][block_initials[i][j]]\n",
    "            place = min(np.where(hoge >= cut_place)[0])\n",
    "            #print(f'{place} {block_initials[i][j]}')\n",
    "            moved_angle[i].append((lincount_block[i][block_initials[i][j] + place]-lincount_block[i][block_initials[i][j]])*Deg)\n",
    "            start_position[i].append(lincount_block[i][block_initials[i][j]]%52000*Deg)\n",
    "            pass\n",
    "        pass\n",
    "    axX[i].scatter(start_position[i], moved_angle[i], color='b')\n",
    "    axX[i].set_title(f'3.0A_{round(0.10+0.02*i,2)}sec', fontsize=12)"
   ]
  },
  {
   "cell_type": "code",
   "execution_count": null,
   "metadata": {},
   "outputs": [],
   "source": [
    "figX.savefig(storepath + storename + '_POSvsDeg.png', facecolor='white')"
   ]
  },
  {
   "cell_type": "code",
   "execution_count": null,
   "metadata": {},
   "outputs": [],
   "source": [
    "i = 4\n",
    "np.where(np.array(moved_angle[i]) > 60)[0]"
   ]
  },
  {
   "cell_type": "code",
   "execution_count": null,
   "metadata": {},
   "outputs": [],
   "source": [
    "moved_angle[4][24]"
   ]
  },
  {
   "cell_type": "code",
   "execution_count": null,
   "metadata": {},
   "outputs": [],
   "source": []
  },
  {
   "cell_type": "code",
   "execution_count": null,
   "metadata": {
    "scrolled": true
   },
   "outputs": [],
   "source": [
    "figY, axarrY = plt.subplots(3,4,figsize=(16,12))\n",
    "plt.rcParams[\"font.size\"] = 10\n",
    "axY = axarrY.ravel()\n",
    "\n",
    "for i in range(matrix_size):\n",
    "    axY[i].hist(moved_angle[i], bins=10)\n",
    "    axY[i].set_title(f'3.0A_{round(0.10+0.02*i,2)}sec', fontsize=12)"
   ]
  },
  {
   "cell_type": "code",
   "execution_count": null,
   "metadata": {},
   "outputs": [],
   "source": [
    "figY.savefig(storepath + storename + '_histDeg.png', facecolor='white')"
   ]
  },
  {
   "cell_type": "code",
   "execution_count": null,
   "metadata": {},
   "outputs": [],
   "source": [
    "movDeg_mean = []\n",
    "movDeg_stdv = []\n",
    "\n",
    "for i in range(matrix_size):\n",
    "    movDeg_mean.append(np.mean(moved_angle[i]))\n",
    "    movDeg_stdv.append(np.std(moved_angle[i]))\n",
    "    pass"
   ]
  },
  {
   "cell_type": "code",
   "execution_count": null,
   "metadata": {},
   "outputs": [],
   "source": [
    "figXX = plt.figure(figsize=(10,10))\n",
    "plt.rcParams[\"font.size\"] = 20\n",
    "\n",
    "plt.plot(movDeg_mean, movDeg_stdv, label=f'3.0A_0.10~0.30sec', color='r')\n",
    "plt.scatter(movDeg_mean, movDeg_stdv, color='r')\n",
    "plt.scatter(movDeg_mean[3], movDeg_stdv[3], color='blue', s=70, label=f'3.0A_0.16sec')\n",
    "\n",
    "plt.xlim([-0.2,6.2])\n",
    "plt.ylim([-0.05,1.1])\n",
    "\n",
    "plt.xlabel('respective mean of movceeded degrees[degree]')\n",
    "plt.ylabel('standard deviation[degree]')\n",
    "plt.grid()\n",
    "plt.legend(loc='lower right', fontsize=25)"
   ]
  },
  {
   "cell_type": "code",
   "execution_count": null,
   "metadata": {},
   "outputs": [],
   "source": [
    "figXX.savefig(storepath + storename + '_DEGvsSTD1.png', transparent=True)"
   ]
  },
  {
   "cell_type": "code",
   "execution_count": null,
   "metadata": {},
   "outputs": [],
   "source": []
  },
  {
   "cell_type": "code",
   "execution_count": null,
   "metadata": {},
   "outputs": [],
   "source": []
  },
  {
   "cell_type": "code",
   "execution_count": null,
   "metadata": {},
   "outputs": [],
   "source": []
  },
  {
   "cell_type": "code",
   "execution_count": null,
   "metadata": {},
   "outputs": [],
   "source": []
  },
  {
   "cell_type": "code",
   "execution_count": null,
   "metadata": {},
   "outputs": [],
   "source": [
    "len(lincount_block[0])"
   ]
  },
  {
   "cell_type": "code",
   "execution_count": null,
   "metadata": {},
   "outputs": [],
   "source": []
  },
  {
   "cell_type": "code",
   "execution_count": null,
   "metadata": {},
   "outputs": [],
   "source": []
  },
  {
   "cell_type": "code",
   "execution_count": null,
   "metadata": {},
   "outputs": [],
   "source": [
    "fig10.savefig(storepath + storename +'_speed1-avoidERROR.png', facecolor='white')"
   ]
  },
  {
   "cell_type": "code",
   "execution_count": null,
   "metadata": {},
   "outputs": [],
   "source": [
    "i = 14\n",
    "for j in range(32,34):\n",
    "    #if error_position[i][j] != False:\n",
    "    plt.plot(((time_block[i][block_initials[i][j]:block_initials[i][j+1]])[::plot_slice])[:-1]-time_block[i][block_initials[i][j]],\n",
    "                np.diff((lincount_block[i][block_initials[i][j]:block_initials[i][j+1]])[::plot_slice]), label=f'num_{j}')\n",
    "    plt.legend()"
   ]
  },
  {
   "cell_type": "code",
   "execution_count": null,
   "metadata": {},
   "outputs": [],
   "source": [
    "i = 14\n",
    "j = 20\n",
    "plt.plot(((time_block[i][block_initials[i][j]:block_initials[i][j+1]])[::plot_slice])[:-1]-time_block[i][block_initials[i][j]],\n",
    "        np.diff((lincount_block[i][block_initials[i][j]:block_initials[i][j+1]])[::plot_slice]))"
   ]
  },
  {
   "cell_type": "code",
   "execution_count": null,
   "metadata": {},
   "outputs": [],
   "source": [
    "i = 19\n",
    "j = 20\n",
    "\n",
    "hoge = np.diff((lincount_block[i][block_initials[i][j]:block_initials[i][j+1]])[::plot_slice]) > 0\n",
    "fuga = np.where(~hoge[:-1] & hoge[1:])\n",
    "piyo = ((time_block[i][block_initials[i][j]:block_initials[i][j+1]])[::plot_slice])[1:]\n",
    "kue = (((time_block[i][block_initials[i][j]:block_initials[i][j+1]])[::plot_slice])[1:])[fuga]\n",
    "\n",
    "figY = plt.figure(figsize=(10,7))\n",
    "\n",
    "plt.plot(piyo-kue, np.diff((lincount_block[i][block_initials[i][j]:block_initials[i][j+1]])[::plot_slice]), color='k', label='new black belt')\n",
    "plt.axvline(0.95)\n",
    "plt.axvline(1.15)\n",
    "plt.xlabel('time[sec]')\n",
    "plt.ylabel('difference of counts (~speed)')\n",
    "plt.xlim([-0.5,2.])\n",
    "plt.ylim([-20,330])\n",
    "plt.legend(loc='upper left', fontsize=15)"
   ]
  },
  {
   "cell_type": "code",
   "execution_count": null,
   "metadata": {},
   "outputs": [],
   "source": [
    "proceeded_degrees[i][j]"
   ]
  },
  {
   "cell_type": "code",
   "execution_count": null,
   "metadata": {},
   "outputs": [],
   "source": []
  },
  {
   "cell_type": "code",
   "execution_count": null,
   "metadata": {},
   "outputs": [],
   "source": [
    "figY.savefig(storepath + storename + '_form_21e-1A-1sec_num20.png', transparent=True)"
   ]
  },
  {
   "cell_type": "code",
   "execution_count": null,
   "metadata": {},
   "outputs": [],
   "source": [
    "i = 19\n",
    "j = 20\n",
    "\n",
    "toki = np.diff(((time_block[i][block_initials[i][j]:block_initials[i][j+1]])[::plot_slice]))\n",
    "basho = np.diff((lincount_block[i][block_initials[i][j]:block_initials[i][j+1]])[::plot_slice])\n",
    "\n",
    "hoge = np.diff((lincount_block[i][block_initials[i][j]:block_initials[i][j+1]])[::plot_slice]) > 0\n",
    "fuga = np.where(~hoge[:-1] & hoge[1:])\n",
    "piyo = ((time_block[i][block_initials[i][j]:block_initials[i][j+1]])[::plot_slice])[:-1]\n",
    "kue = (((time_block[i][block_initials[i][j]:block_initials[i][j+1]])[::plot_slice])[:-1])[fuga]\n",
    "saku = basho/toki\n",
    "\n",
    "figY = plt.figure(figsize=(10,7))\n",
    "\n",
    "plt.plot((piyo-kue)[1:], np.diff(saku)/np.diff(toki), color='k', label='new black belt')\n",
    "plt.axvline(0)\n",
    "plt.xlabel('time[sec]')\n",
    "plt.ylabel('acceleration')\n",
    "plt.xlim([0.95,1.15])\n",
    "plt.ylim([-20,1e9])\n",
    "plt.legend(loc='upper left', fontsize=15)"
   ]
  },
  {
   "cell_type": "markdown",
   "metadata": {},
   "source": [
    "* <span style=\"font-size: 200%; color: red;\">Here is a check point of analysis.</span>"
   ]
  },
  {
   "cell_type": "code",
   "execution_count": null,
   "metadata": {},
   "outputs": [],
   "source": []
  },
  {
   "cell_type": "code",
   "execution_count": null,
   "metadata": {},
   "outputs": [],
   "source": []
  },
  {
   "cell_type": "code",
   "execution_count": null,
   "metadata": {},
   "outputs": [],
   "source": []
  },
  {
   "cell_type": "code",
   "execution_count": null,
   "metadata": {},
   "outputs": [],
   "source": []
  },
  {
   "cell_type": "code",
   "execution_count": null,
   "metadata": {},
   "outputs": [],
   "source": []
  },
  {
   "cell_type": "code",
   "execution_count": null,
   "metadata": {
    "scrolled": true
   },
   "outputs": [],
   "source": [
    "fig11 = plt.figure(figsize=(10,10))\n",
    "\n",
    "i = 0\n",
    "\n",
    "plt.scatter(np.array(linCount_woErr[i])%52000*Deg,proDeg_woErr[i])\n",
    "plt.title('3.0A_0.69sec')"
   ]
  },
  {
   "cell_type": "code",
   "execution_count": null,
   "metadata": {},
   "outputs": [],
   "source": [
    "fig11.savefig(storepath + storename + '_POSvsDEG-avoidERROR.png',facecolor='white')"
   ]
  },
  {
   "cell_type": "code",
   "execution_count": null,
   "metadata": {
    "scrolled": true
   },
   "outputs": [],
   "source": [
    "fig12 = plt.figure(figsize=(10,10))\n",
    "\n",
    "i = 0\n",
    "\n",
    "plt.hist(proDeg_woErr[i])\n",
    "plt.title('3.0A_0.69sec')"
   ]
  },
  {
   "cell_type": "code",
   "execution_count": null,
   "metadata": {},
   "outputs": [],
   "source": [
    "fig12.savefig(storepath + storename + '_histDEG-avoidERROR.png', facecolor='white')"
   ]
  },
  {
   "cell_type": "code",
   "execution_count": null,
   "metadata": {},
   "outputs": [],
   "source": [
    "proDeg_mean = []\n",
    "proDeg_stdv = []\n",
    "\n",
    "for i in range(6):\n",
    "    proDeg_mean.append([])  \n",
    "    proDeg_stdv.append([])\n",
    "for i in range(matrix_size):\n",
    "    proDeg_mean[int(i/6)].append(np.mean(proDeg_woErr[i]))\n",
    "    proDeg_stdv[int(i/6)].append(np.std(proDeg_woErr[i]))\n",
    "    pass"
   ]
  },
  {
   "cell_type": "code",
   "execution_count": null,
   "metadata": {},
   "outputs": [],
   "source": [
    "fig14 = plt.figure(figsize=(10,7))\n",
    "mu, std = norm.fit(proDeg_woErr)\n",
    "\n",
    "# Plot the histogram.\n",
    "plt.hist(proDeg_woErr, bins=15, density=True, alpha=0.3, color='r', label='new black belt:3.0A 0.69sec')\n",
    "plt.legend(fontsize=15,loc='upper left')\n",
    "\n",
    "# Plot the PDF.\n",
    "xmin, xmax = plt.xlim([0,40])\n",
    "plt.ylim([0.,0.18])\n",
    "x = np.linspace(xmin, xmax, 100)\n",
    "p = norm.pdf(x, mu, std)\n",
    "plt.plot(x, p, 'r', linewidth=2)\n",
    "plt.title(f'Fit Result: mu={round(mu,2)}, std={round(std,2)}')\n",
    "plt.xlabel('proceeded degrees[deg]')\n",
    "plt.ylabel('number of events')"
   ]
  },
  {
   "cell_type": "code",
   "execution_count": null,
   "metadata": {},
   "outputs": [],
   "source": [
    "fig14.savefig(storepath + storename + '_histDEG_FIT1.png', transparent=True)"
   ]
  },
  {
   "cell_type": "code",
   "execution_count": null,
   "metadata": {},
   "outputs": [],
   "source": [
    "i = 0\n",
    "hoge = 10\n",
    "fuga = 500\n",
    "\n",
    "time0 = []\n",
    "time1 = []\n",
    "time2 = []\n",
    "time3 = []\n",
    "\n",
    "for j in range(hoge,fuga):\n",
    "    time0.append([])\n",
    "    time1.append([])\n",
    "    time2.append([])\n",
    "    time3.append([])\n",
    "    time0[j-hoge] = np.diff((lincount_block[i][block_initials[i][j]:block_initials[i][j+1]])[::plot_slice]) > 0\n",
    "    time1[j-hoge] = np.where(~time0[j-hoge][:-1] & time0[j-hoge][1:])\n",
    "    time2[j-hoge] = ((time_block[i][block_initials[i][j]:block_initials[i][j+1]])[::plot_slice])[1:]\n",
    "    time3[j-hoge] = (((time_block[i][block_initials[i][j]:block_initials[i][j+1]])[::plot_slice])[1:])[time1[j-hoge]]\n",
    "\n",
    "figY = plt.figure(figsize=(10,7))\n",
    "\n",
    "for j in range(hoge,fuga):\n",
    "    plt.plot(time2[j-hoge]-time3[j-hoge], np.diff((lincount_block[i][block_initials[i][j]:block_initials[i][j+1]])[::plot_slice]), color='k', label='black belt')\n",
    "    pass\n",
    "\n",
    "plt.axvline(0.65, color='y')\n",
    "plt.axvline(0.78, color='b')\n",
    "plt.axhline(60)\n",
    "plt.xlabel('time[sec]')\n",
    "plt.ylabel('difference of counts (~speed)')\n",
    "plt.xlim([-0.5,2.])\n",
    "plt.ylim([-20,140])\n",
    "#plt.legend(loc='upper right', fontsize=15)"
   ]
  },
  {
   "cell_type": "code",
   "execution_count": null,
   "metadata": {},
   "outputs": [],
   "source": [
    "figY.savefig(storepath + storename + '_form_3A-69e-1sec_num10_slice30.png', transparent=True)"
   ]
  },
  {
   "cell_type": "code",
   "execution_count": null,
   "metadata": {},
   "outputs": [],
   "source": [
    "kue = (lincount_block[i][block_initials[i][j]:block_initials[i][j+1]])[::plot_slice]"
   ]
  },
  {
   "cell_type": "code",
   "execution_count": null,
   "metadata": {},
   "outputs": [],
   "source": [
    "(kue[-1] - kue[0])*Deg"
   ]
  },
  {
   "cell_type": "code",
   "execution_count": null,
   "metadata": {},
   "outputs": [],
   "source": []
  },
  {
   "cell_type": "code",
   "execution_count": null,
   "metadata": {},
   "outputs": [],
   "source": [
    "figXX = plt.figure(figsize=(10,7))\n",
    "for i in range(6):\n",
    "    plt.plot(proDeg_mean[i], proDeg_stdv[i], label=f'{round(1.5+i*0.3,2)}A')\n",
    "    plt.scatter(proDeg_mean[i], proDeg_stdv[i])\n",
    "    pass\n",
    "plt.xlabel('respective mean of proceeded degrees[degree]')\n",
    "plt.ylabel('standard deviation[degree]')\n",
    "# plt.xlim([-30,670])\n",
    "# plt.ylim([0,16])\n",
    "# plt.axvline(360)\n",
    "plt.legend(loc='upper left', fontsize=15)"
   ]
  },
  {
   "cell_type": "code",
   "execution_count": null,
   "metadata": {},
   "outputs": [],
   "source": [
    "figXX.savefig(storepath + storename + '_DEGvsSTD0.png', facecolor='white')"
   ]
  },
  {
   "cell_type": "code",
   "execution_count": null,
   "metadata": {},
   "outputs": [],
   "source": []
  },
  {
   "cell_type": "code",
   "execution_count": null,
   "metadata": {},
   "outputs": [],
   "source": []
  },
  {
   "cell_type": "code",
   "execution_count": null,
   "metadata": {},
   "outputs": [],
   "source": [
    "i = 12\n",
    "plt.plot(time_block[i], lincount_block[i])\n",
    "plt.axvline(time_block[i][block_initials[i][20]])"
   ]
  },
  {
   "cell_type": "code",
   "execution_count": null,
   "metadata": {},
   "outputs": [],
   "source": [
    "linear_refcount = []\n",
    "\n",
    "specific_refcount = reference_block[12]\n",
    "\n",
    "for\n",
    "linear_refcount = np.array(np.zeros(len(specific_refcount)))\n",
    "    \n",
    "count_offset = 0\n",
    "casp_flag = 0\n",
    "casp = np.where(np.diff(specific_refcount) <= casp_threshold)[0].tolist()\n",
    "\n",
    "for i in range(len(specific_refcount)):\n",
    "    linear_refcount[i] = specific_refcount[i]+count_offset\n",
    "    if casp:\n",
    "        if i == casp[casp_flag]:\n",
    "            count_offset += specific_refcount[casp[casp_flag]]\n",
    "            if len(casp) > casp_flag+1:\n",
    "                casp_flag += 1\n",
    "                pass\n",
    "            pass\n",
    "        pass\n",
    "    pass\n"
   ]
  },
  {
   "cell_type": "code",
   "execution_count": null,
   "metadata": {},
   "outputs": [],
   "source": [
    "len(inits[0:100])"
   ]
  },
  {
   "cell_type": "code",
   "execution_count": null,
   "metadata": {},
   "outputs": [],
   "source": [
    "plt.plot(time_block[12], linear_refcount)\n",
    "plt.axvline((time[::capture_slice])[(inits[1200:1300])[90]])"
   ]
  },
  {
   "cell_type": "code",
   "execution_count": null,
   "metadata": {},
   "outputs": [],
   "source": [
    "linear_refcount"
   ]
  },
  {
   "cell_type": "code",
   "execution_count": null,
   "metadata": {},
   "outputs": [],
   "source": [
    "hoge = np.where(time_block[12] == (time[::capture_slice])[(inits[1200:1300])[90]])[0]\n",
    "hoge"
   ]
  },
  {
   "cell_type": "code",
   "execution_count": null,
   "metadata": {},
   "outputs": [],
   "source": [
    "(time_block[12])[hoge]"
   ]
  },
  {
   "cell_type": "code",
   "execution_count": null,
   "metadata": {},
   "outputs": [],
   "source": [
    "i = 3\n",
    "hoge = int(np.where(time_block[i] == (time[::capture_slice])[(inits[i*100:(i+1)*100])[j]])[0])"
   ]
  },
  {
   "cell_type": "code",
   "execution_count": null,
   "metadata": {},
   "outputs": [],
   "source": [
    "hoge"
   ]
  },
  {
   "cell_type": "code",
   "execution_count": null,
   "metadata": {},
   "outputs": [],
   "source": []
  },
  {
   "cell_type": "code",
   "execution_count": null,
   "metadata": {},
   "outputs": [],
   "source": []
  },
  {
   "cell_type": "code",
   "execution_count": null,
   "metadata": {},
   "outputs": [],
   "source": [
    "print(\"{}{: >25}{}{: >10}{}\".format('|','Variable Name','|','Memory','|'))\n",
    "print(\" ------------------------------------ \")\n",
    "for var_name in dir():\n",
    "    if not var_name.startswith(\"_\") and sys.getsizeof(eval(var_name)) > 1000: #ここだけアレンジ\n",
    "        print(\"{}{: >25}{}{: >10}{}\".format('|',var_name,'|',sys.getsizeof(eval(var_name)),'|'))"
   ]
  },
  {
   "cell_type": "code",
   "execution_count": null,
   "metadata": {},
   "outputs": [],
   "source": [
    "#del df, initial_lines, time, rep, hoge"
   ]
  },
  {
   "cell_type": "code",
   "execution_count": null,
   "metadata": {},
   "outputs": [],
   "source": []
  },
  {
   "cell_type": "code",
   "execution_count": null,
   "metadata": {},
   "outputs": [],
   "source": []
  },
  {
   "cell_type": "code",
   "execution_count": null,
   "metadata": {},
   "outputs": [],
   "source": []
  },
  {
   "cell_type": "markdown",
   "metadata": {
    "heading_collapsed": true
   },
   "source": [
    "# Plots"
   ]
  },
  {
   "cell_type": "code",
   "execution_count": null,
   "metadata": {
    "hidden": true,
    "scrolled": true
   },
   "outputs": [],
   "source": [
    "fig10 ,axarr10 = plt.subplots(6,6,figsize=(26,28))\n",
    "ax10 = axarr10.ravel()\n",
    "\n",
    "for i in range(matrix_size):\n",
    "    for j in range(min(len(edge_initial[i]),len(edge_final[i]))):\n",
    "        #if error_position[i][j] != False:\n",
    "        ax10[i].plot((linTime[i][:-1])[int(edge_initial[i][j]):int(edge_final[i][j])]-(linTime[i][:-1])[int(edge_initial[i][j])],\n",
    "                    (np.diff(linRef[i]))[int(edge_initial[i][j]):int(edge_final[i][j])])\n",
    "        ax10[i].set_title(f'{round((1.2+0.3*int(i/6)),2)}A_{0.5*(1+i%6)}sec')\n",
    "        #ax10[i].xaxis.set_major_locator(tik.MultipleLocator(0.5))"
   ]
  },
  {
   "cell_type": "code",
   "execution_count": null,
   "metadata": {
    "hidden": true
   },
   "outputs": [],
   "source": [
    "#fig10.savefig(storepath + storename +'_speed1.png', facecolor='white')"
   ]
  },
  {
   "cell_type": "code",
   "execution_count": null,
   "metadata": {
    "hidden": true
   },
   "outputs": [],
   "source": [
    "i = 0\n",
    "\n",
    "fig = plt.figure(figsize=(10,7))\n",
    "#for j in range(min(len(edge_initial[i]),len(edge_final[i]))):\n",
    "for j in range(0,10):\n",
    "    #if error_position[i][j] != False:\n",
    "    plt.plot((linTime[i][:-1])[int(edge_initial[i][j]):int(edge_final[i][j])]-(linTime[i][:-1])[int(edge_initial[i][j])],\n",
    "                (np.diff(linRef[i]))[int(edge_initial[i][j]):int(edge_final[i][j])])\n",
    "    plt.title(f'{round((1.2+0.3*int(i/6)),2)}A_{0.5*(1+i%6)}sec')"
   ]
  },
  {
   "cell_type": "code",
   "execution_count": null,
   "metadata": {
    "hidden": true
   },
   "outputs": [],
   "source": []
  },
  {
   "cell_type": "code",
   "execution_count": null,
   "metadata": {
    "hidden": true
   },
   "outputs": [],
   "source": []
  },
  {
   "cell_type": "code",
   "execution_count": null,
   "metadata": {
    "hidden": true
   },
   "outputs": [],
   "source": [
    "fig11 ,axarr11 = plt.subplots(6,6,figsize=(24,22))\n",
    "ax11 = axarr11.ravel()\n",
    "\n",
    "for i in range(matrix_size):\n",
    "    ax11[i].scatter(linInitRef_woErr[i],proDeg_woErr[i], s=20)\n",
    "    ax11[i].set_title(f'{round((1.2+0.3*int(i/6)),2)}A_{0.5*(1+i%6)}sec')\n",
    "    pass"
   ]
  },
  {
   "cell_type": "code",
   "execution_count": null,
   "metadata": {
    "hidden": true
   },
   "outputs": [],
   "source": [
    "#fig11.savefig(storepath + storename + '_TvsDEG.png', facecolor='white')"
   ]
  },
  {
   "cell_type": "code",
   "execution_count": null,
   "metadata": {
    "hidden": true,
    "scrolled": false
   },
   "outputs": [],
   "source": [
    "fig12 = plt.figure(figsize=(10,7))\n",
    "for i in range(matrix_size):\n",
    "    plt.scatter(linInitRef_woErr[i], proDeg_woErr[i])\n",
    "    pass\n",
    "plt.title('2.1A 0.55sec position VS degrees')\n",
    "plt.xlabel('position[deg]')\n",
    "plt.ylabel('proceeded degrees[deg]')"
   ]
  },
  {
   "cell_type": "code",
   "execution_count": null,
   "metadata": {
    "hidden": true
   },
   "outputs": [],
   "source": [
    "int(len(linInitRef_woErr[0])/16)"
   ]
  },
  {
   "cell_type": "code",
   "execution_count": null,
   "metadata": {
    "hidden": true
   },
   "outputs": [],
   "source": [
    "hoge = []\n",
    "for i in range(int(len(linInitRef_woErr[0])/16)):\n",
    "    hoge.append(linInitRef_woErr[0][16*i:16*(i+1)])\n",
    "    pass\n",
    "#hoge"
   ]
  },
  {
   "cell_type": "code",
   "execution_count": null,
   "metadata": {
    "hidden": true
   },
   "outputs": [],
   "source": [
    "360/23"
   ]
  },
  {
   "cell_type": "code",
   "execution_count": null,
   "metadata": {
    "hidden": true
   },
   "outputs": [],
   "source": [
    "plt.hist(linInitRef_woErr[0],range=[0,360],bins=15)"
   ]
  },
  {
   "cell_type": "code",
   "execution_count": null,
   "metadata": {
    "hidden": true
   },
   "outputs": [],
   "source": [
    "hist_color = ['bisque', 'lightgreen', 'skyblue']\n",
    "fuga = []\n",
    "for i in range(int(len(linInitRef_woErr[0])/16)):\n",
    "    fuga.append(hist_color[i%3])"
   ]
  },
  {
   "cell_type": "code",
   "execution_count": null,
   "metadata": {
    "hidden": true,
    "scrolled": true
   },
   "outputs": [],
   "source": [
    "fig = plt.figure(figsize=(10,7))\n",
    "plt.hist(hoge,range=[0,360],bins=15,stacked=True,color=fuga)"
   ]
  },
  {
   "cell_type": "code",
   "execution_count": null,
   "metadata": {
    "hidden": true
   },
   "outputs": [],
   "source": []
  },
  {
   "cell_type": "code",
   "execution_count": null,
   "metadata": {
    "hidden": true
   },
   "outputs": [],
   "source": [
    "#fig12.savefig(storepath + storename + '_POSvsDEG.png', facecolor='white')"
   ]
  },
  {
   "cell_type": "code",
   "execution_count": null,
   "metadata": {
    "hidden": true
   },
   "outputs": [],
   "source": [
    "fig13 = plt.figure()\n",
    "for i in range(matrix_size):\n",
    "    plt.hist(proDeg_woErr[i], bins=15)\n",
    "    pass\n",
    "plt.title('2.1A 0.55sec proceeded degrees hist')\n",
    "plt.xlabel('proceeded degrees[deg]')\n",
    "plt.ylabel('number of events')"
   ]
  },
  {
   "cell_type": "code",
   "execution_count": null,
   "metadata": {
    "hidden": true
   },
   "outputs": [],
   "source": [
    "#fig13.savefig(storepath + storename + '_histDEG.png', facecolor='white')"
   ]
  },
  {
   "cell_type": "code",
   "execution_count": null,
   "metadata": {
    "code_folding": [],
    "hidden": true,
    "scrolled": false
   },
   "outputs": [],
   "source": [
    "#Fitting histogram\n",
    "fig14 = plt.figure(figsize=(10,7))\n",
    "mu, std = norm.fit(proDeg_woErr)\n",
    "\n",
    "# Plot the histogram.\n",
    "plt.hist(proDeg_woErr, bins=15, density=True, alpha=0.3, color='g', label='2.1A 0.55sec')\n",
    "plt.legend(fontsize=15,loc='upper right')\n",
    "\n",
    "# Plot the PDF.\n",
    "xmin, xmax = plt.xlim([0,40])\n",
    "plt.ylim([0.,0.18])\n",
    "x = np.linspace(xmin, xmax, 100)\n",
    "p = norm.pdf(x, mu, std)\n",
    "plt.plot(x, p, 'k', linewidth=2)\n",
    "plt.title(f'Fit Result: mu={round(mu,2)}, std={round(std,2)}')\n",
    "plt.xlabel('proceeded degrees[deg]')\n",
    "plt.ylabel('number of events')"
   ]
  },
  {
   "cell_type": "code",
   "execution_count": null,
   "metadata": {
    "hidden": true
   },
   "outputs": [],
   "source": [
    "#fig14.savefig(storepath + storename + '_histDEG_FIT0.png', facecolor='white')"
   ]
  },
  {
   "cell_type": "code",
   "execution_count": null,
   "metadata": {
    "hidden": true
   },
   "outputs": [],
   "source": []
  },
  {
   "cell_type": "code",
   "execution_count": null,
   "metadata": {
    "hidden": true
   },
   "outputs": [],
   "source": []
  },
  {
   "cell_type": "code",
   "execution_count": null,
   "metadata": {
    "hidden": true
   },
   "outputs": [],
   "source": []
  },
  {
   "cell_type": "code",
   "execution_count": null,
   "metadata": {
    "hidden": true
   },
   "outputs": [],
   "source": []
  },
  {
   "cell_type": "markdown",
   "metadata": {},
   "source": [
    "# Others"
   ]
  },
  {
   "cell_type": "code",
   "execution_count": null,
   "metadata": {},
   "outputs": [],
   "source": []
  }
 ],
 "metadata": {
  "kernelspec": {
   "display_name": "Python 3",
   "language": "python",
   "name": "python3"
  },
  "language_info": {
   "codemirror_mode": {
    "name": "ipython",
    "version": 3
   },
   "file_extension": ".py",
   "mimetype": "text/x-python",
   "name": "python",
   "nbconvert_exporter": "python",
   "pygments_lexer": "ipython3",
   "version": "3.7.7"
  }
 },
 "nbformat": 4,
 "nbformat_minor": 4
}
