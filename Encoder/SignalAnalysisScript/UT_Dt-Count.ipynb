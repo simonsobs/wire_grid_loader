{
 "cells": [
  {
   "cell_type": "code",
   "execution_count": null,
   "metadata": {},
   "outputs": [],
   "source": [
    "import numpy as np\n",
    "import matplotlib.pyplot as plt\n",
    "import matplotlib.ticker as ticker\n",
    "from matplotlib import gridspec\n",
    "from scipy.optimize import curve_fit"
   ]
  },
  {
   "cell_type": "markdown",
   "metadata": {},
   "source": [
    "# input file and data"
   ]
  },
  {
   "cell_type": "code",
   "execution_count": null,
   "metadata": {
    "code_folding": [
     0
    ]
   },
   "outputs": [],
   "source": [
    "#file paths and names\n",
    "stockpath = './UT/Dt-Count/'\n",
    "stockname = '15e-1A_EachIntervals'\n",
    "\n",
    "filenames = []\n",
    "storepaths = []\n",
    "\n",
    "num_filled = 5\n",
    "\n",
    "for i in range(10):\n",
    "    filenames.append(\"./rawdata/UT_test/\")\n",
    "    storepaths.append(\"./UT/Dt_Count/\")\n",
    "    pass\n",
    "\n",
    "filenames[0] += \"15e-1A_04e-1SecInterval_100times.txt\"\n",
    "storepaths[0] += \"\"\n",
    "\n",
    "filenames[1] += \"15e-1A_08e-1SecInterval_100times.txt\"\n",
    "storepaths[1] += \"\"\n",
    "\n",
    "filenames[2] += \"15e-1A_12e-1SecInterval_100times.txt\"\n",
    "storepaths[2] += \"\"\n",
    "\n",
    "filenames[3] += \"15e-1A_16e-1SecInterval_100times.txt\"\n",
    "storepaths[3] += \"\"\n",
    "\n",
    "filenames[4] += \"15e-1A_20e-1SecInterval_100times.txt\"\n",
    "storepaths[4] += \"\"\n",
    "\n",
    "filenames[5] += \"\"\n",
    "storepaths[5] += \"\"\n",
    "\n",
    "filenames[6] += \"\"\n",
    "storepaths[6] += \"\"\n",
    "\n",
    "filenames[7] += \"\"\n",
    "storepaths[7] += \"\"\n",
    "\n",
    "filenames[8] += \"\"\n",
    "storepaths[8] += \"\"\n",
    "\n",
    "filenames[9] += \"\"\n",
    "storepaths[9] += \"\""
   ]
  },
  {
   "cell_type": "code",
   "execution_count": null,
   "metadata": {
    "code_folding": [
     0
    ]
   },
   "outputs": [],
   "source": [
    "#read files\n",
    "raws = []\n",
    "\n",
    "error = []\n",
    "direction = []\n",
    "overflow = []\n",
    "timer_count = []\n",
    "refcount = []\n",
    "\n",
    "for i in range(num_filled):\n",
    "    raws.append(0)\n",
    "    \n",
    "    error.append(np.zeros(sum([1 for _ in open(filenames[i])])))\n",
    "    direction.append(np.zeros(sum([1 for _ in open(filenames[i])])))\n",
    "    overflow.append(np.zeros(sum([1 for _ in open(filenames[i])])))\n",
    "    timer_count.append(np.zeros(sum([1 for _ in open(filenames[i])])))\n",
    "    refcount.append(np.zeros(sum([1 for _ in open(filenames[i])])))\n",
    "    \n",
    "    pass\n",
    "\n",
    "for i in range(num_filled):\n",
    "    error[i], direction[i], overflow[i], timer_count[i], refcount[i] = np.loadtxt(filenames[i], comments=\"#\",unpack=True)\n",
    "    raws[i] = len(error[i])\n",
    "    \n",
    "    pass\n",
    "\n",
    "raws"
   ]
  },
  {
   "cell_type": "markdown",
   "metadata": {
    "heading_collapsed": true
   },
   "source": [
    "## set variables\n",
    "* Please do not switch the for loops"
   ]
  },
  {
   "cell_type": "code",
   "execution_count": null,
   "metadata": {
    "hidden": true
   },
   "outputs": [],
   "source": [
    "operating_interval = 0.4\n",
    "Deg = 360/52000\n",
    "\n",
    "time = []\n",
    "\n",
    "for i in range(num_filled):\n",
    "    time.append(timer_count[i]/200e6)"
   ]
  },
  {
   "cell_type": "code",
   "execution_count": null,
   "metadata": {
    "hidden": true
   },
   "outputs": [],
   "source": [
    "skip = 100"
   ]
  },
  {
   "cell_type": "code",
   "execution_count": null,
   "metadata": {
    "code_folding": [
     0
    ],
    "hidden": true
   },
   "outputs": [],
   "source": [
    "#modifing and cutting\n",
    "single_refcount = []\n",
    "\n",
    "diffReference = []\n",
    "modTime = []\n",
    "edge_point = []\n",
    "stable_place = []\n",
    "flattened_count = []\n",
    "diffFlat = []\n",
    "\n",
    "OpeTime = []\n",
    "single_diffFlat = []\n",
    "\n",
    "for i in range(num_filled):\n",
    "    single_refcount.append(np.zeros(len(refcount[i])))\n",
    "    pass\n",
    "\n",
    "for i in range(num_filled):\n",
    "    count_offset = 0\n",
    "    casp_flag = 0\n",
    "    casp = np.where(np.diff(refcount[i]) <= -100)[0]\n",
    "    \n",
    "    for j in range(len(refcount[i])):\n",
    "        single_refcount[i][j] = refcount[i][j]+count_offset\n",
    "        if j == casp[casp_flag]:\n",
    "            count_offset += refcount[i][casp[casp_flag]]\n",
    "            if len(casp) > casp_flag+1:\n",
    "                casp_flag += 1\n",
    "                pass\n",
    "            pass\n",
    "        pass\n",
    "    \n",
    "    diffReference.append(np.diff(single_refcount[i][::skip]))\n",
    "    modTime.append(time[i][::skip])\n",
    "    edge_point.append([])\n",
    "    \n",
    "    for k in range(len(diffReference[i])):\n",
    "        if diffReference[i][k] > 0.:\n",
    "            if diffReference[i][k-1] <= 0.:\n",
    "                edge_point[i].append(k-10)\n",
    "                pass\n",
    "            pass\n",
    "        pass\n",
    "    \n",
    "    edge_point[i].append(max(edge_point[i])+max(np.diff(edge_point[i])))\n",
    "    \n",
    "    stable_place.append([])\n",
    "    for l in range(len(edge_point[i])):\n",
    "        stable_place[i] = np.append(stable_place[i], np.where(time[i] == modTime[i][edge_point[i][l]])[0])\n",
    "        pass\n",
    "    \n",
    "    flattened_count.append([])\n",
    "    for m in range(len(stable_place[i])):\n",
    "        flattened_count[i] = np.append(flattened_count[i], single_refcount[i][round(stable_place[i][m])])\n",
    "    \n",
    "    diffFlat.append([])\n",
    "    diffFlat[i] = np.append(diffFlat[i], np.diff(flattened_count[i]))\n",
    "    \n",
    "    for j in range(len(diffFlat[i])):\n",
    "        OpeTime = np.append(OpeTime, (i+1)*operating_interval)\n",
    "        pass\n",
    "    \n",
    "    single_diffFlat = np.append(single_diffFlat,diffFlat[i])\n",
    "    \n",
    "    pass"
   ]
  },
  {
   "cell_type": "code",
   "execution_count": null,
   "metadata": {
    "hidden": true
   },
   "outputs": [],
   "source": []
  },
  {
   "cell_type": "markdown",
   "metadata": {},
   "source": [
    "## check some points"
   ]
  },
  {
   "cell_type": "code",
   "execution_count": null,
   "metadata": {},
   "outputs": [],
   "source": [
    "file_num = 0\n",
    "\n",
    "for i in range(len(edge_point[file_num])-1):\n",
    "    plt.plot(modTime[file_num][edge_point[file_num][i]:edge_point[file_num][i+1]]-modTime[file_num][edge_point[file_num][i]],\n",
    "            diffReference[file_num][edge_point[file_num][i]:edge_point[file_num][i+1]])\n",
    "    pass\n",
    "plt.ylim([-50,1000])"
   ]
  },
  {
   "cell_type": "code",
   "execution_count": null,
   "metadata": {},
   "outputs": [],
   "source": []
  },
  {
   "cell_type": "markdown",
   "metadata": {},
   "source": [
    "# Plots"
   ]
  },
  {
   "cell_type": "code",
   "execution_count": null,
   "metadata": {},
   "outputs": [],
   "source": []
  },
  {
   "cell_type": "code",
   "execution_count": null,
   "metadata": {
    "scrolled": true
   },
   "outputs": [],
   "source": [
    "fig0, axarr0 = plt.subplots(2,3,figsize=(16,12))\n",
    "ax0 = axarr0.ravel()\n",
    "\n",
    "for i in range(num_filled):\n",
    "    ax0[i].hist(diffFlat[i]*Deg)\n",
    "    ax0[i].set_xlabel('difference of degree')\n",
    "    ax0[i].set_ylabel('number of events')\n",
    "    ax0[i].set_title(f'operating for {round((i+1)*operating_interval,2)} sec')"
   ]
  },
  {
   "cell_type": "code",
   "execution_count": null,
   "metadata": {},
   "outputs": [],
   "source": [
    "fig0.savefig(stockpath + stockname + '_HistDiffDeg.png')"
   ]
  },
  {
   "cell_type": "code",
   "execution_count": null,
   "metadata": {
    "scrolled": true
   },
   "outputs": [],
   "source": [
    "fig1 = plt.figure(figsize=(10,7))\n",
    "plt.scatter(OpeTime, single_diffFlat*Deg,s=5)\n",
    "plt.title('Dt-Degree')\n",
    "plt.xlabel('operating time')\n",
    "plt.ylabel('difference of degree')"
   ]
  },
  {
   "cell_type": "code",
   "execution_count": null,
   "metadata": {},
   "outputs": [],
   "source": [
    "fig1.savefig(stockpath + stockname + '_DtDeg.png')"
   ]
  },
  {
   "cell_type": "code",
   "execution_count": null,
   "metadata": {
    "scrolled": true
   },
   "outputs": [],
   "source": [
    "fig2, axarr2 = plt.subplots(2,3,figsize=(16,12))\n",
    "ax2 = axarr2.ravel()\n",
    "\n",
    "for i in range(num_filled):\n",
    "    ax2[i].scatter(flattened_count[i][:-1]%52000*Deg,diffFlat[i]*Deg)\n",
    "    ax2[i].set_xlabel('position from reference')\n",
    "    ax2[i].set_ylabel('proceeded degree')\n",
    "    ax2[i].set_title(f'operating for {round((i+1)*operating_interval,2)} sec')"
   ]
  },
  {
   "cell_type": "code",
   "execution_count": null,
   "metadata": {},
   "outputs": [],
   "source": [
    "fig2.savefig(stockpath + stockname + '_PositionDeg.png')"
   ]
  },
  {
   "cell_type": "code",
   "execution_count": null,
   "metadata": {},
   "outputs": [],
   "source": [
    "fig3 = plt.figure(figsize=(10,7))\n",
    "\n",
    "for i in range(num_filled):\n",
    "    plt.clf()\n",
    "    for j in range(len(edge_point[i])-1):\n",
    "        plt.plot(modTime[i][edge_point[i][j]:edge_point[i][j+1]]-modTime[i][edge_point[i][j]],\n",
    "                diffReference[i][edge_point[i][j]:edge_point[i][j+1]]*Deg)\n",
    "        pass\n",
    "    plt.xlabel('cycle time [sec]')\n",
    "    plt.ylabel('degree gradient')\n",
    "    \n",
    "    fig3.savefig(stockpath + stockname + f'_CycleGrad{i}.png')\n",
    "    pass"
   ]
  },
  {
   "cell_type": "code",
   "execution_count": null,
   "metadata": {},
   "outputs": [],
   "source": []
  },
  {
   "cell_type": "code",
   "execution_count": null,
   "metadata": {},
   "outputs": [],
   "source": []
  },
  {
   "cell_type": "markdown",
   "metadata": {},
   "source": [
    "# Others"
   ]
  },
  {
   "cell_type": "code",
   "execution_count": null,
   "metadata": {},
   "outputs": [],
   "source": []
  },
  {
   "cell_type": "code",
   "execution_count": null,
   "metadata": {},
   "outputs": [],
   "source": []
  },
  {
   "cell_type": "code",
   "execution_count": null,
   "metadata": {},
   "outputs": [],
   "source": []
  }
 ],
 "metadata": {
  "kernelspec": {
   "display_name": "Python 3",
   "language": "python",
   "name": "python3"
  },
  "language_info": {
   "codemirror_mode": {
    "name": "ipython",
    "version": 3
   },
   "file_extension": ".py",
   "mimetype": "text/x-python",
   "name": "python",
   "nbconvert_exporter": "python",
   "pygments_lexer": "ipython3",
   "version": "3.7.7"
  }
 },
 "nbformat": 4,
 "nbformat_minor": 4
}
