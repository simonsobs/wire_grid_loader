{
 "cells": [
  {
   "cell_type": "code",
   "execution_count": null,
   "metadata": {},
   "outputs": [],
   "source": [
    "import numpy as np\n",
    "#import pandas as pd\n",
    "import matplotlib.pyplot as plt\n",
    "import matplotlib.ticker as ticker\n",
    "from matplotlib import gridspec\n",
    "from scipy.optimize import curve_fit\n",
    "from scipy.signal import blackmanharris\n",
    "#import math"
   ]
  },
  {
   "cell_type": "markdown",
   "metadata": {
    "heading_collapsed": true
   },
   "source": [
    "# input file and data"
   ]
  },
  {
   "cell_type": "code",
   "execution_count": null,
   "metadata": {
    "hidden": true
   },
   "outputs": [],
   "source": [
    "storepath = \"./UT/SpeedTest/\"\n",
    "filename = \"12V_3A_10min_2nd\"\n",
    "storename = \"12V_3A_10min_2nd\"\n",
    "\n",
    "inverse = False\n",
    "\n",
    "reference_count_max = 100000\n",
    "\n",
    "interval = 1e5\n",
    "overrange = 1000"
   ]
  },
  {
   "cell_type": "code",
   "execution_count": null,
   "metadata": {
    "hidden": true
   },
   "outputs": [],
   "source": [
    "print(\"./rawdata/UT_test/\" + filename + \".txt\")"
   ]
  },
  {
   "cell_type": "code",
   "execution_count": null,
   "metadata": {
    "code_folding": [
     0
    ],
    "hidden": true
   },
   "outputs": [],
   "source": [
    "#input file and data correspondence\n",
    "error, direction, overflow, timer_count, refcount = np.loadtxt(\"./rawdata/UT_test/\" + filename + \".txt\",comments=\"#\",unpack=True)\n",
    "numlines = len(error)\n",
    "\n",
    "modError = error[:-1]\n",
    "diffError = np.diff(error)\n",
    "modDirection = direction[:-1]\n",
    "diffDirection = np.diff(direction)\n",
    "modOverflow = overflow[:-1]\n",
    "diffOverflow = np.diff(overflow)\n",
    "modTCount = timer_count[:-1]\n",
    "diffTCount = np.diff(timer_count)\n",
    "modReference = refcount[:-1]\n",
    "diffReference = np.diff(refcount)"
   ]
  },
  {
   "cell_type": "code",
   "execution_count": null,
   "metadata": {
    "hidden": true
   },
   "outputs": [],
   "source": [
    "numlines"
   ]
  },
  {
   "cell_type": "code",
   "execution_count": null,
   "metadata": {
    "hidden": true
   },
   "outputs": [],
   "source": [
    "min(error)"
   ]
  },
  {
   "cell_type": "markdown",
   "metadata": {
    "heading_collapsed": true
   },
   "source": [
    "# check characteristic lines and values"
   ]
  },
  {
   "cell_type": "code",
   "execution_count": null,
   "metadata": {
    "hidden": true,
    "scrolled": true
   },
   "outputs": [],
   "source": [
    "for i in range(numlines-1):\n",
    "    if diffOverflow[i] > 0:\n",
    "        print(f'{i}: {diffOverflow[i]}')"
   ]
  },
  {
   "cell_type": "code",
   "execution_count": null,
   "metadata": {
    "hidden": true
   },
   "outputs": [],
   "source": [
    "for i in range(numlines-1):\n",
    "    if refcount[i] > 51999:\n",
    "        print(f'{i} {refcount[i]}')"
   ]
  },
  {
   "cell_type": "code",
   "execution_count": null,
   "metadata": {
    "hidden": true,
    "scrolled": true
   },
   "outputs": [],
   "source": [
    "sum_sawtooth = 0\n",
    "for i in range(numlines-1):\n",
    "    if (refcount[i] >= 40000) & (refcount[i-1] < 40000):\n",
    "        sum_sawtooth += 1\n",
    "sum_sawtooth"
   ]
  },
  {
   "cell_type": "code",
   "execution_count": null,
   "metadata": {
    "hidden": true
   },
   "outputs": [],
   "source": [
    "sum0 = 0\n",
    "for i in range(numlines-1):\n",
    "    if (refcount[i] >= 51988) & (refcount[i-1] < 51988):\n",
    "        sum0 += 1\n",
    "sum0"
   ]
  },
  {
   "cell_type": "code",
   "execution_count": null,
   "metadata": {
    "hidden": true
   },
   "outputs": [],
   "source": [
    "max(refcount)"
   ]
  },
  {
   "cell_type": "markdown",
   "metadata": {
    "heading_collapsed": true
   },
   "source": [
    "# set variables\n",
    "1. averaging data at 0.1 sec sampling\n",
    "2. edge_point was created only when wire grid goes in an ordinary direction\n",
    "3. Caution! counts does not increase during error"
   ]
  },
  {
   "cell_type": "code",
   "execution_count": null,
   "metadata": {
    "hidden": true
   },
   "outputs": [],
   "source": [
    "time = timer_count/200e6\n",
    "modTime = time[:-1]\n",
    "diffTime = np.diff(time)"
   ]
  },
  {
   "cell_type": "code",
   "execution_count": null,
   "metadata": {
    "hidden": true
   },
   "outputs": [],
   "source": [
    "skip1 = 200\n",
    "skip2 = 4\n",
    "\n",
    "sampling_time = interval*5e-9*skip2\n",
    "sampling_time"
   ]
  },
  {
   "cell_type": "code",
   "execution_count": null,
   "metadata": {
    "hidden": true
   },
   "outputs": [],
   "source": [
    "hoge = interval*5e-9*skip1\n",
    "hoge"
   ]
  },
  {
   "cell_type": "code",
   "execution_count": null,
   "metadata": {
    "hidden": true
   },
   "outputs": [],
   "source": [
    "average_refcount = refcount[::skip1]\n",
    "average_time = time[::skip1]\n",
    "average_time2 = average_time[:-1]\n",
    "\n",
    "diffavgTime = np.diff(average_time)\n",
    "diffavgRef = np.diff(average_refcount)"
   ]
  },
  {
   "cell_type": "code",
   "execution_count": null,
   "metadata": {
    "hidden": true
   },
   "outputs": [],
   "source": [
    "sawtooth = modReference[diffReference != 0.0]\n",
    "operation_time = modTime[diffReference != 0.0]"
   ]
  },
  {
   "cell_type": "code",
   "execution_count": null,
   "metadata": {
    "hidden": true,
    "scrolled": true
   },
   "outputs": [],
   "source": [
    "diff_sawtooth = np.diff(sawtooth)\n",
    "for i in range(len(sawtooth) - 1):\n",
    "    if diff_sawtooth[i] < 0:\n",
    "        #print(f'{i} {sawtooth[i]}')\n",
    "        pass\n",
    "    pass\n",
    "edge_point = np.where(diff_sawtooth < 0)[0]"
   ]
  },
  {
   "cell_type": "code",
   "execution_count": null,
   "metadata": {
    "hidden": true
   },
   "outputs": [],
   "source": [
    "plt.plot(time[edge_point[0]+1:edge_point[-1]+1], sawtooth[edge_point[0]+1:edge_point[-1]+1])\n",
    "plt.xlim([600,610])"
   ]
  },
  {
   "cell_type": "code",
   "execution_count": null,
   "metadata": {
    "hidden": true,
    "scrolled": true
   },
   "outputs": [],
   "source": [
    "num_sawtooth = []\n",
    "time_sawtooth = []\n",
    "sametime_sawtooth = []\n",
    "for i in range(len(edge_point)-1):\n",
    "    num_sawtooth.append(sawtooth[edge_point[i]+1:edge_point[i+1]+1])\n",
    "    time_sawtooth.append(operation_time[edge_point[i]+1:edge_point[i+1]+1])\n",
    "    sametime_sawtooth.append(operation_time[edge_point[i]+1:edge_point[i+1]+1]-operation_time[edge_point[i]+1])\n",
    "    pass\n",
    "#time_sawtooth"
   ]
  },
  {
   "cell_type": "code",
   "execution_count": null,
   "metadata": {
    "hidden": true,
    "scrolled": true
   },
   "outputs": [],
   "source": [
    "#num_sawtooth"
   ]
  },
  {
   "cell_type": "code",
   "execution_count": null,
   "metadata": {
    "hidden": true
   },
   "outputs": [],
   "source": [
    "signal_endtime1 = np.zeros(len(edge_point)-2)\n",
    "signal_endtime2 = np.zeros(len(edge_point)-2)\n",
    "\n",
    "for i in range(len(edge_point)-2):\n",
    "    signal_endtime1[i] = operation_time[edge_point[i+1]]\n",
    "    signal_endtime2[i] = sametime_sawtooth[i][-1]\n",
    "    pass"
   ]
  },
  {
   "cell_type": "code",
   "execution_count": null,
   "metadata": {
    "hidden": true
   },
   "outputs": [],
   "source": [
    "diffDeg = 360/52000"
   ]
  },
  {
   "cell_type": "code",
   "execution_count": null,
   "metadata": {
    "hidden": true
   },
   "outputs": [],
   "source": [
    "operation_time2 = []\n",
    "\n",
    "for i in range(len(edge_point)-1):\n",
    "    operation_time2 = np.append(operation_time2, time_sawtooth[i])"
   ]
  },
  {
   "cell_type": "code",
   "execution_count": null,
   "metadata": {
    "hidden": true
   },
   "outputs": [],
   "source": [
    "EachGrad = []\n",
    "Winding = np.array([])\n",
    "pack = 200\n",
    "\n",
    "for i in range(len(edge_point)-1):\n",
    "    EachGrad.append(max(num_sawtooth[i])/(time_sawtooth[i][-1]-time_sawtooth[i][0]))\n",
    "    Winding = np.append(Winding, (num_sawtooth[i]-EachGrad[i]*(time_sawtooth[i]-time_sawtooth[i][0]))*diffDeg)\n",
    "    pass"
   ]
  },
  {
   "cell_type": "code",
   "execution_count": null,
   "metadata": {
    "hidden": true
   },
   "outputs": [],
   "source": [
    "count_offset = 0\n",
    "single_saw = np.array([])\n",
    "\n",
    "for i in range(len(edge_point)-1):\n",
    "    single_saw = np.append(single_saw, num_sawtooth[i] + count_offset)\n",
    "    count_offset = single_saw[-1]\n",
    "    pass"
   ]
  },
  {
   "cell_type": "code",
   "execution_count": null,
   "metadata": {
    "hidden": true
   },
   "outputs": [],
   "source": [
    "def linear(x,a,b):\n",
    "    return a*x + b"
   ]
  },
  {
   "cell_type": "code",
   "execution_count": null,
   "metadata": {
    "hidden": true
   },
   "outputs": [],
   "source": [
    "popt, pcov = curve_fit(linear, operation_time2, single_saw)\n",
    "popt"
   ]
  },
  {
   "cell_type": "code",
   "execution_count": null,
   "metadata": {
    "hidden": true
   },
   "outputs": [],
   "source": [
    "single_winding = (single_saw-popt[0]*operation_time2-popt[1])*diffDeg"
   ]
  },
  {
   "cell_type": "code",
   "execution_count": null,
   "metadata": {
    "hidden": true
   },
   "outputs": [],
   "source": [
    "sliced_time = operation_time2[::skip2]\n",
    "\n",
    "sliced_winding = Winding[::skip2]\n",
    "sliced_single = single_winding[::skip2]"
   ]
  },
  {
   "cell_type": "markdown",
   "metadata": {},
   "source": [
    "# plots"
   ]
  },
  {
   "cell_type": "code",
   "execution_count": null,
   "metadata": {
    "code_folding": [
     0
    ]
   },
   "outputs": [],
   "source": [
    "# time dependence of period\n",
    "fig4, axarr4 = plt.subplots(1,2,figsize=(12,6))\n",
    "ax4 = axarr4.ravel()\n",
    "ax4[0].hist(signal_endtime2, bins=20)\n",
    "ax4[0].set_xlabel('end time of one cycle [sec]')\n",
    "ax4[0].set_ylabel('number of cycles')\n",
    "ax4[1].scatter(signal_endtime1, signal_endtime2, s=5)\n",
    "ax4[1].set_xlabel('time from counting start [sec]')\n",
    "ax4[1].set_ylabel('end time of one cycle [sec]')"
   ]
  },
  {
   "cell_type": "code",
   "execution_count": null,
   "metadata": {},
   "outputs": [],
   "source": [
    "fig4.savefig(storepath + storename + '_PeriodDependence.png')"
   ]
  },
  {
   "cell_type": "code",
   "execution_count": null,
   "metadata": {
    "code_folding": [],
    "scrolled": false
   },
   "outputs": [],
   "source": [
    "#counts and speed\n",
    "fig10, axarr10 = plt.subplots(2,figsize = (12,7),sharex=True)\n",
    "ax10 = axarr10.ravel()\n",
    "twin_plot = ax10[0].twinx()\n",
    "\n",
    "ticksmajor = ticker.MultipleLocator(2)\n",
    "ticksminor = ticker.MultipleLocator(0.2)\n",
    "\n",
    "ax10[0].xaxis.set_major_locator(ticksmajor)\n",
    "ax10[0].xaxis.set_minor_locator(ticksminor)\n",
    "ax10[0].scatter(time,refcount,s=3)\n",
    "ax10[0].set_ylabel(\"number of counts\")\n",
    "\n",
    "ax10[0].grid(axis='x',which='major',alpha=1)\n",
    "ax10[0].grid(which='minor', alpha=0.2)\n",
    "#ax10[0].grid(axis='x',which='minor',alpha=0.2)\n",
    "\n",
    "twin_plot.scatter(time,refcount*diffDeg,s=0)\n",
    "twin_plot.set_ylabel(\"degree from reference\")\n",
    "twin_plot.yaxis.set_major_locator(ticker.IndexLocator(base=45, offset=0))\n",
    "twin_plot.grid(which='major',alpha=1)\n",
    "\n",
    "ax10[1].set_xlim([40,52])\n",
    "\n",
    "ax10[1].set_ylim([170,210])\n",
    "ax10[1].xaxis.set_major_locator(ticksmajor)\n",
    "ax10[1].xaxis.set_minor_locator(ticksminor)\n",
    "ax10[1].scatter(average_time2,diffavgRef/diffavgTime*diffDeg, s=3)\n",
    "ax10[1].set_xlabel(\"time[sec]\")\n",
    "ax10[1].yaxis.set_label_position(\"right\")\n",
    "ax10[1].yaxis.tick_right()\n",
    "ax10[1].grid(which='minor',alpha=0.3)\n",
    "ax10[1].set_ylabel(\"speed[degree/sec]\")\n",
    "ax10[1].grid()"
   ]
  },
  {
   "cell_type": "code",
   "execution_count": null,
   "metadata": {},
   "outputs": [],
   "source": [
    "fig10.savefig(storepath + storename + \"_CountVsSpeed.png\")"
   ]
  },
  {
   "cell_type": "code",
   "execution_count": null,
   "metadata": {
    "code_folding": [
     0
    ]
   },
   "outputs": [],
   "source": [
    "#piled signal\n",
    "fig20 = plt.figure(figsize=(8,5))\n",
    "for i in range(len(edge_point)-2):\n",
    "    plt.plot(sametime_sawtooth[i],num_sawtooth[i],label=f'signal_{i}')\n",
    "#plt.legend()\n",
    "plt.xlabel(\"time[sec]\")\n",
    "plt.ylabel(\"number of counts\")"
   ]
  },
  {
   "cell_type": "code",
   "execution_count": null,
   "metadata": {},
   "outputs": [],
   "source": [
    "#fig20.savefig(storepath + storename + \"_piledSig.png\")"
   ]
  },
  {
   "cell_type": "code",
   "execution_count": null,
   "metadata": {
    "code_folding": [
     0
    ]
   },
   "outputs": [],
   "source": [
    "#speed of each signal\n",
    "fig30 = plt.figure(figsize=(8,5))\n",
    "start_position = []\n",
    "for i in range(len(edge_point)-2):\n",
    "    start_position.append(num_sawtooth[i][::skip1])\n",
    "    pass\n",
    "for i in range(1,len(edge_point)-3):\n",
    "    #if len(np.diff(time_sawtooth[i])) > 51000:\n",
    "        plt.plot(start_position[i][:-1]*50e-3,\n",
    "                 np.diff(start_position[i])*50e-3*skip1/(np.diff(time_sawtooth[i][::skip1])*skip1),\n",
    "                 label=f'signal_{i}')\n",
    "plt.xlabel(\"position[mm]\")\n",
    "plt.ylabel(\"speed[mm/sec]\")\n",
    "#plt.legend()"
   ]
  },
  {
   "cell_type": "code",
   "execution_count": null,
   "metadata": {},
   "outputs": [],
   "source": [
    "#fig30.savefig(storepath + storename + \"_SpeedGrad.png\")"
   ]
  },
  {
   "cell_type": "code",
   "execution_count": null,
   "metadata": {
    "code_folding": [
     0
    ]
   },
   "outputs": [],
   "source": [
    "#variance of position\n",
    "fig40 = plt.figure(figsize=(8,5))\n",
    "num_lap = 3\n",
    "\n",
    "CountGrad = max(num_sawtooth[num_lap])/(time_sawtooth[num_lap][-1]-time_sawtooth[num_lap][0])\n",
    "spec = gridspec.GridSpec(ncols=1,nrows=2,height_ratios=[2,1])\n",
    "\n",
    "ax41 = fig40.add_subplot(spec[0])\n",
    "ax41.plot(time_sawtooth[num_lap],num_sawtooth[num_lap]*diffDeg,label=f'{num_lap}th_lap')\n",
    "ax41.plot(time_sawtooth[num_lap],CountGrad*(time_sawtooth[num_lap]-time_sawtooth[num_lap][0])*diffDeg,label='ideal')\n",
    "ax41.set_ylabel(\"degree\")\n",
    "ax41.legend()\n",
    "\n",
    "ax42 = fig40.add_subplot(spec[1])\n",
    "ax42.plot(time_sawtooth[num_lap],\n",
    "          (num_sawtooth[num_lap]-CountGrad*(time_sawtooth[num_lap]-time_sawtooth[num_lap][0]))*diffDeg,\n",
    "          label='difference')\n",
    "ax42.set_xlabel(\"time[sec]\")\n",
    "ax42.set_ylabel(\"degree\")\n",
    "ax42.set_yticks(np.arange(-2.5,2.5,0.5),minor=True)\n",
    "ax42.grid(which='major',alpha=0.5)\n",
    "ax42.grid(which='minor',alpha=0.3)\n",
    "ax42.legend()\n",
    "#ax42.set_xlim([28.0,28.1])\n",
    "#ax42.set_ylim([-0.1,0.1])"
   ]
  },
  {
   "cell_type": "code",
   "execution_count": null,
   "metadata": {},
   "outputs": [],
   "source": [
    "#fig40.savefig(storepath + storename + f'_{num_lap}th_lap_DegWinding.png')"
   ]
  },
  {
   "cell_type": "code",
   "execution_count": null,
   "metadata": {
    "code_folding": [
     0
    ],
    "scrolled": true
   },
   "outputs": [],
   "source": [
    "#winding signal\n",
    "fig50, axarr50 = plt.subplots(1,2,figsize=(10,5))\n",
    "ax50 = axarr50.ravel()\n",
    "\n",
    "ax50[0].plot(sliced_time, sliced_winding)\n",
    "ax50[1].plot(sliced_time, sliced_single)"
   ]
  },
  {
   "cell_type": "code",
   "execution_count": null,
   "metadata": {
    "code_folding": [
     0
    ]
   },
   "outputs": [],
   "source": [
    "#Fourier\n",
    "Fourier1 = np.fft.fft(sliced_winding)\n",
    "Freq1 = np.fft.fftfreq(len(sliced_time),d=sampling_time)\n",
    "Amp1 = np.abs(Fourier1/(len(sliced_time)/2))\n",
    "\n",
    "Fourier2 = np.fft.fft(sliced_single)\n",
    "Freq2 = np.fft.fftfreq(len(sliced_time),d=sampling_time)#*(single_time[-1]-single_time[0])\n",
    "Amp2 = np.abs(Fourier2/(len(sliced_time)/2))"
   ]
  },
  {
   "cell_type": "code",
   "execution_count": null,
   "metadata": {
    "code_folding": [
     0
    ]
   },
   "outputs": [],
   "source": [
    "#inversed fourier\n",
    "iFourier1 = np.fft.ifft(Fourier1)\n",
    "ReInvFour1 = iFourier1.real\n",
    "iFourier2 = np.fft.ifft(Fourier2)\n",
    "ReInvFour2 = iFourier2.real\n",
    "\n",
    "fig51, axarr51 = plt.subplots(1,2,figsize=(10,5))\n",
    "ax51 = axarr51.ravel()\n",
    "\n",
    "ax51[0].plot(sliced_time, ReInvFour1)\n",
    "ax51[1].plot(sliced_time, ReInvFour2)"
   ]
  },
  {
   "cell_type": "code",
   "execution_count": null,
   "metadata": {
    "code_folding": [
     0
    ],
    "scrolled": false
   },
   "outputs": [],
   "source": [
    "#fourier spectrum\n",
    "fig52 = plt.figure(figsize=(10,6))\n",
    "\n",
    "plt.semilogy(Freq1[1:int(len(sliced_time)/2)], Amp1[1:int(len(sliced_time)/2)], label='sum of each winding')\n",
    "plt.semilogy(Freq2[1:int(len(sliced_time)/2)], Amp2[1:int(len(sliced_time)/2)], label='single linear')\n",
    "plt.xlim([-0.1,10])\n",
    "plt.legend()"
   ]
  },
  {
   "cell_type": "code",
   "execution_count": null,
   "metadata": {
    "code_folding": [
     0
    ]
   },
   "outputs": [],
   "source": [
    "# window fourier\n",
    "window = blackmanharris(len(sliced_single))\n",
    "window_signal = sliced_single*window\n",
    "plt.plot(sliced_time, window_signal)\n",
    "\n",
    "Fourier = np.fft.fft(window_signal)\n",
    "Freq = np.fft.fftfreq(len(sliced_time), d=sampling_time)\n",
    "correction = 1/(sum(window)/len(sliced_single))\n",
    "Amp = np.abs(Fourier/(len(sliced_time)/2))*correction"
   ]
  },
  {
   "cell_type": "code",
   "execution_count": null,
   "metadata": {},
   "outputs": [],
   "source": [
    "for i in range(int(len(single_winding[::pack])/2)):\n",
    "    if Amp[i] > 0.001:\n",
    "        if Amp[i] > Amp[i-1] and Amp[i] > Amp[i+1]:\n",
    "            print(f'{i} {round(Freq[i],4)} {round(Amp[i],4)}')"
   ]
  },
  {
   "cell_type": "code",
   "execution_count": null,
   "metadata": {
    "code_folding": [],
    "scrolled": false
   },
   "outputs": [],
   "source": [
    "# Fourier Frequancy and Amplitude\n",
    "fig61 = plt.figure(figsize=(12,7))\n",
    "\n",
    "#plt.semilogy(Freq1[1:int(len(sliced_time)/2)], Amp1[1:int(len(sliced_time)/2)], label='sum of each winding')\n",
    "#plt.semilogy(Freq2[1:int(len(sliced_time)/2)], Amp2[1:int(len(sliced_time)/2)], label='single winding')\n",
    "plt.loglog(Freq[1:int(len(sliced_time)/2)], Amp[1:int(len(sliced_time)/2)], label='blackmanharris window')\n",
    "#plt.xlim([30,150])\n",
    "plt.xlabel('frequency[Hz]')\n",
    "plt.ylabel('amplitude')\n",
    "plt.axvline(0.263, color='darkgreen', ls='--', label='0.26Hz')\n",
    "plt.axvline(0.501, color='green', ls='--', label='0.50Hz')\n",
    "plt.axvline(0.786, color='forestgreen', ls='--', label='0.78Hz')\n",
    "plt.axvline(1.044, color='seagreen', ls='--', label='1.04Hz')\n",
    "plt.axvline(1.304, color='mediumseagreen', ls='--', label='1.30Hz')\n",
    "# plt.axvline(1.187, color='limegreen', ls='--', label='1.2Hz')\n",
    "# plt.axvline(1.440, color='lime', ls='--', label='1.4Hz')\n",
    "# plt.axvline(1.653, color='springgreen', ls='--', label='1.6Hz')\n",
    "# plt.axvline(2.066, color='aquamarine', ls='--', label='2.0Hz')\n",
    "plt.axvline(45, color='red', ls='-.', label='45Hz')\n",
    "plt.axvline(135, color='orangered', ls='-.', label='135Hz')\n",
    "plt.legend()"
   ]
  },
  {
   "cell_type": "code",
   "execution_count": null,
   "metadata": {},
   "outputs": [],
   "source": [
    "#fig61.savefig(storepath + storename + '_windowFourier2.png')"
   ]
  },
  {
   "cell_type": "code",
   "execution_count": null,
   "metadata": {},
   "outputs": [],
   "source": [
    "hoge_time = time[edge_point[0]+1:edge_point[-1]+1]\n",
    "hoge_signal = sawtooth[edge_point[0]+1:edge_point[-1]+1]\n",
    "\n",
    "hoge_window = blackmanharris(len(hoge_time))\n",
    "\n",
    "hoge_fourier = np.fft.fft(hoge_signal*diffDeg*hoge_window)\n",
    "hoge_freq = np.fft.fftfreq(len(hoge_time), d=0.002)\n",
    "hoge_correction = 1/(sum(hoge_window)/len(hoge_time))\n",
    "hoge_amp = np.abs(hoge_fourier/(len(hoge_time)/2))*hoge_correction"
   ]
  },
  {
   "cell_type": "code",
   "execution_count": null,
   "metadata": {},
   "outputs": [],
   "source": [
    "test_end = 600\n",
    "test_dt = 0.002\n",
    "test_time = np.arange(0,test_end,test_dt)\n",
    "\n",
    "steps = len(test_time)\n",
    "\n",
    "g = test_time%1.91\n",
    "plt.plot(test_time,g*360/1.91)\n",
    "plt.xlim([10,16])"
   ]
  },
  {
   "cell_type": "code",
   "execution_count": null,
   "metadata": {},
   "outputs": [],
   "source": [
    "for i in range(int(len(single_winding[::pack])/2)):\n",
    "    if hoge_amp[i] > 0.001:\n",
    "        if hoge_amp[i] > hoge_amp[i-1] and hoge_amp[i] > hoge_amp[i+1]:\n",
    "            print(f'{i} {round(hoge_freq[i],4)} {round(hoge_amp[i],4)}')"
   ]
  },
  {
   "cell_type": "code",
   "execution_count": null,
   "metadata": {},
   "outputs": [],
   "source": [
    "1/1.91"
   ]
  },
  {
   "cell_type": "code",
   "execution_count": null,
   "metadata": {},
   "outputs": [],
   "source": [
    "plt.plot(hoge_time, hoge_signal)\n",
    "plt.plot(sliced_time, single_saw[::skip2]%52000+10000)\n",
    "\n",
    "plt.xlim([10,30])"
   ]
  },
  {
   "cell_type": "code",
   "execution_count": null,
   "metadata": {},
   "outputs": [],
   "source": []
  },
  {
   "cell_type": "code",
   "execution_count": null,
   "metadata": {
    "scrolled": false
   },
   "outputs": [],
   "source": [
    "figX = plt.figure(figsize=(12,7))\n",
    "test_window = blackmanharris(steps)\n",
    "test_correction = 1/(sum(test_window)/steps)\n",
    "\n",
    "test_F = np.fft.fft(g*360/1.91*test_window)\n",
    "test_result = np.fft.fftfreq(steps,d=test_dt)\n",
    "test_amp = np.abs(test_F/(steps/2))*test_correction\n",
    "\n",
    "plt.loglog(test_result[1:int(steps/2)],test_amp[1:int(steps/2)], color='skyblue', label='0.52 Hz linear model')\n",
    "#plt.loglog(hoge_freq[1:int(len(hoge_time)/2)],hoge_amp[1:int(len(hoge_time)/2)], label='raw')\n",
    "plt.loglog(Freq[1:int(len(sliced_time)/2)], Amp[1:int(len(sliced_time)/2)], color='darkorange', label='blackmanharris window')\n",
    "plt.xlabel('frequency[Hz]')\n",
    "plt.ylabel('amplitude')\n",
    "plt.axvline(0.263, color='blue', ls='--', label='0.26Hz')\n",
    "plt.axvline(0.501, color='aquamarine', ls='--', label='0.50Hz')\n",
    "plt.axvline(0.786, color='blue', ls='--', label='0.78Hz')\n",
    "plt.axvline(1.044, color='aquamarine', ls='--', label='1.04Hz')\n",
    "plt.axvline(1.304, color='blue', ls='--', label='1.30Hz')\n",
    "plt.axvline(45, color='red', ls='-.', label='45Hz')\n",
    "plt.axvline(135, color='red', ls='-.', label='135Hz')\n",
    "plt.xlim([1e-3, 3e2])\n",
    "plt.legend()"
   ]
  },
  {
   "cell_type": "code",
   "execution_count": null,
   "metadata": {},
   "outputs": [],
   "source": [
    "figX.savefig(storepath + storename + '_ComparedFourier2.png')"
   ]
  },
  {
   "cell_type": "code",
   "execution_count": null,
   "metadata": {},
   "outputs": [],
   "source": [
    "plt.plot(test_time, g*test_window)"
   ]
  },
  {
   "cell_type": "code",
   "execution_count": null,
   "metadata": {},
   "outputs": [],
   "source": [
    "hoge2_window = blackmanharris(len(sliced_time))\n",
    "hoge2_correction = 1/(sum(hoge2_window)/len(sliced_time))\n",
    "\n",
    "hoge2 = np.fft.fft(single_saw[::skip2]%52000*360/52000)\n",
    "hoge2_freq = np.fft.fftfreq(len(sliced_time), d=0.002)\n",
    "hoge2_amp = np.abs(hoge2/(len(sliced_time)/2))*hoge2_correction"
   ]
  },
  {
   "cell_type": "code",
   "execution_count": null,
   "metadata": {
    "scrolled": false
   },
   "outputs": [],
   "source": [
    "figY = plt.figure(figsize=(10,7))\n",
    "\n",
    "plt.loglog(hoge_freq[1:int(len(hoge_time)/2)],hoge_amp[1:int(len(hoge_time)/2)], label='raw')\n",
    "plt.loglog(hoge2_freq[1:int(len(sliced_time)/2)],hoge2_amp[1:int(len(sliced_time)/2)], label='mod raw')\n",
    "plt.legend()"
   ]
  },
  {
   "cell_type": "code",
   "execution_count": null,
   "metadata": {},
   "outputs": [],
   "source": [
    "817.2/41.8"
   ]
  },
  {
   "cell_type": "code",
   "execution_count": null,
   "metadata": {},
   "outputs": [],
   "source": [
    "817.2/41.8/2"
   ]
  },
  {
   "cell_type": "code",
   "execution_count": null,
   "metadata": {},
   "outputs": [],
   "source": [
    "817.2/41.8/2*5"
   ]
  },
  {
   "cell_type": "code",
   "execution_count": null,
   "metadata": {},
   "outputs": [],
   "source": [
    "817.2/41.8/2*5*60"
   ]
  },
  {
   "cell_type": "code",
   "execution_count": null,
   "metadata": {},
   "outputs": [],
   "source": []
  },
  {
   "cell_type": "code",
   "execution_count": null,
   "metadata": {},
   "outputs": [],
   "source": []
  },
  {
   "cell_type": "markdown",
   "metadata": {
    "heading_collapsed": true
   },
   "source": [
    "# histogram and others for data points"
   ]
  },
  {
   "cell_type": "code",
   "execution_count": null,
   "metadata": {
    "hidden": true
   },
   "outputs": [],
   "source": []
  },
  {
   "cell_type": "code",
   "execution_count": null,
   "metadata": {
    "hidden": true
   },
   "outputs": [],
   "source": [
    "if inverse is True:\n",
    "    region = np.where(diffReference < 0)[0]\n",
    "    start = region[0] - overrange\n",
    "    stop = region[-1] + overrange\n",
    "else:\n",
    "    region = np.where(diffReference > 0)[0]\n",
    "    start = region[0] - overrange\n",
    "    stop = region[-1] + overrange"
   ]
  },
  {
   "cell_type": "code",
   "execution_count": null,
   "metadata": {
    "hidden": true
   },
   "outputs": [],
   "source": []
  },
  {
   "cell_type": "code",
   "execution_count": null,
   "metadata": {
    "code_folding": [
     0
    ],
    "hidden": true
   },
   "outputs": [],
   "source": [
    "#data histogram\n",
    "fig0, axarr0 = plt.subplots(2,3,figsize=(12,8))\n",
    "ax0 = axarr0.ravel()\n",
    "ax0[0].hist(diffTCount, bins = 20)\n",
    "ax0[1].hist(diffTCount, bins = 20)\n",
    "ax0[1].set_ylim([-1,30])\n",
    "ax0[1].set_xlabel('difference of time')\n",
    "ax0[2].hist(diffTCount, bins = 20,range = (interval*0.8, interval*1.2))\n",
    "ax0[3].hist(diffReference, bins = 20)\n",
    "ax0[4].hist(diffReference, bins = 20)\n",
    "ax0[4].set_ylim([-1,100])\n",
    "ax0[4].set_xlabel('difference of reference count')\n",
    "if inverse is True:\n",
    "    ax0[5].hist(diffReference, bins = 20, range = (-2*interval*1e-4, 2*interval*1e-4))\n",
    "else:\n",
    "    ax0[5].hist(diffReference, bins = 20, range = (-2*interval*1e-4, 2*interval*1e-4))"
   ]
  },
  {
   "cell_type": "code",
   "execution_count": null,
   "metadata": {
    "hidden": true
   },
   "outputs": [],
   "source": [
    "#fig0.savefig(storepath + storename + \"_hist.png\")"
   ]
  },
  {
   "cell_type": "code",
   "execution_count": null,
   "metadata": {
    "hidden": true
   },
   "outputs": [],
   "source": [
    "fig1 = plt.figure()\n",
    "plt.scatter(diffTCount,diffReference,s=5)\n",
    "plt.xlabel('difference of timer_counts')\n",
    "plt.ylabel('difference of counts')"
   ]
  },
  {
   "cell_type": "code",
   "execution_count": null,
   "metadata": {
    "hidden": true
   },
   "outputs": [],
   "source": [
    "#fig1.savefig(storepath + storename + \"_relationTandC.png\")"
   ]
  },
  {
   "cell_type": "code",
   "execution_count": null,
   "metadata": {
    "hidden": true
   },
   "outputs": [],
   "source": [
    "plt.scatter(diffTCount,diffReference,s=5)\n",
    "plt.xlabel('difference of timer_counts')\n",
    "plt.ylabel('difference of counts')\n",
    "plt.ylim([-4e3,50])"
   ]
  },
  {
   "cell_type": "code",
   "execution_count": null,
   "metadata": {
    "code_folding": [
     0
    ],
    "hidden": true
   },
   "outputs": [],
   "source": [
    "#charactaristical values\n",
    "fig2, axarr2 = plt.subplots(3,sharex=True,figsize=(10,7))\n",
    "ax2 = axarr2.ravel()\n",
    "ax2[0].plot(diffTCount, ls='', marker='.')\n",
    "ax2[0].set_ylabel(\"difference of timer_counts\")\n",
    "ax2[0].set_xlim([start,stop])\n",
    "#ax2[0].set_ylim([-1,30])\n",
    "ax2[1].plot(diffReference, ls='', marker='.')\n",
    "ax2[1].set_ylabel(\"difference of counts\")\n",
    "if inverse is True:\n",
    "    ax2[1].set_ylim([-60,2])\n",
    "else:\n",
    "    ax2[1].set_ylim([-2,60])\n",
    "ax2[2].plot(diffOverflow, ls='', marker='.')\n",
    "ax2[2].set_ylabel(\"overflow\")\n",
    "ax2[2].set_xlabel(\"lines\")"
   ]
  },
  {
   "cell_type": "code",
   "execution_count": null,
   "metadata": {
    "hidden": true
   },
   "outputs": [],
   "source": [
    "#fig2.savefig(storepath + storename + \"_behavior.png\")"
   ]
  },
  {
   "cell_type": "code",
   "execution_count": null,
   "metadata": {
    "hidden": true
   },
   "outputs": [],
   "source": [
    "fig3 = plt.figure(figsize=(8,5))\n",
    "plt.plot(refcount, ls='', marker='.')\n",
    "#plt.plot(diffOverflow*0.5*reference_count_max, ls='', marker='.')\n",
    "plt.xlabel(\"lines\")\n",
    "plt.ylabel(\"number of reference counts\")\n",
    "plt.xlim([start,stop])"
   ]
  },
  {
   "cell_type": "code",
   "execution_count": null,
   "metadata": {
    "hidden": true
   },
   "outputs": [],
   "source": [
    "#fig3.savefig(storepath + storename + \"_rowVSrefcount.png\")"
   ]
  },
  {
   "cell_type": "code",
   "execution_count": null,
   "metadata": {
    "hidden": true
   },
   "outputs": [],
   "source": []
  },
  {
   "cell_type": "markdown",
   "metadata": {},
   "source": [
    "# others"
   ]
  },
  {
   "cell_type": "code",
   "execution_count": null,
   "metadata": {},
   "outputs": [],
   "source": []
  }
 ],
 "metadata": {
  "kernelspec": {
   "display_name": "Python 3",
   "language": "python",
   "name": "python3"
  },
  "language_info": {
   "codemirror_mode": {
    "name": "ipython",
    "version": 3
   },
   "file_extension": ".py",
   "mimetype": "text/x-python",
   "name": "python",
   "nbconvert_exporter": "python",
   "pygments_lexer": "ipython3",
   "version": "3.7.7"
  }
 },
 "nbformat": 4,
 "nbformat_minor": 4
}
