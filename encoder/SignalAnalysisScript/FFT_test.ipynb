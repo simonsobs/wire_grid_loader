{
 "cells": [
  {
   "cell_type": "code",
   "execution_count": null,
   "metadata": {},
   "outputs": [],
   "source": [
    "import numpy as np\n",
    "import matplotlib.pyplot as plt\n",
    "import math, cmath\n",
    "import random"
   ]
  },
  {
   "cell_type": "markdown",
   "metadata": {},
   "source": [
    "# sample"
   ]
  },
  {
   "cell_type": "code",
   "execution_count": null,
   "metadata": {},
   "outputs": [],
   "source": [
    "N = 1024            # サンプル数\n",
    "dt = 0.001          # サンプリング周期 [s]\n",
    "f1, f2 = 50, 120    # 周波数 [Hz]\n",
    "\n",
    "t = np.arange(0, N*dt, dt) # 時間 [s]\n",
    "x = 1.5*np.sin(2*np.pi*f1*t) + np.sin(2*np.pi*f2*t) + 3 # 信号\n",
    "\n",
    "fig, ax = plt.subplots()\n",
    "ax.plot(t, x)\n",
    "# ax.set_xlim(0, 0.1)\n",
    "ax.set_xlabel(\"Time [s]\")\n",
    "ax.set_ylabel(\"Signal\")\n",
    "ax.grid()\n",
    "plt.show()"
   ]
  },
  {
   "cell_type": "code",
   "execution_count": null,
   "metadata": {},
   "outputs": [],
   "source": [
    "F = np.fft.fft(x) # 変換結果\n",
    "freq = np.fft.fftfreq(N, d=dt) # 周波数\n",
    "\n",
    "fig, ax = plt.subplots(nrows=3, sharex=True, figsize=(6,6))\n",
    "ax[0].plot(F.real, label=\"Real part\")\n",
    "ax[0].legend()\n",
    "ax[1].plot(F.imag, label=\"Imaginary part\")\n",
    "ax[1].legend()\n",
    "ax[2].plot(freq, label=\"Frequency\")\n",
    "ax[2].legend()\n",
    "ax[2].set_xlabel(\"Number of data\")\n",
    "plt.show()"
   ]
  },
  {
   "cell_type": "code",
   "execution_count": null,
   "metadata": {
    "scrolled": false
   },
   "outputs": [],
   "source": [
    "Amp = np.abs(F/(N/2)) # 振幅\n",
    "\n",
    "fig, ax = plt.subplots()\n",
    "ax.plot(freq[1:int(N/2)], Amp[1:int(N/2)])\n",
    "ax.set_xlabel(\"Freqency [Hz]\")\n",
    "ax.set_ylabel(\"Amplitude\")\n",
    "ax.grid()\n",
    "plt.show()"
   ]
  },
  {
   "cell_type": "markdown",
   "metadata": {
    "heading_collapsed": true
   },
   "source": [
    "# test"
   ]
  },
  {
   "cell_type": "code",
   "execution_count": null,
   "metadata": {
    "hidden": true
   },
   "outputs": [],
   "source": [
    "rs = random.seed(0)"
   ]
  },
  {
   "cell_type": "code",
   "execution_count": null,
   "metadata": {
    "code_folding": [],
    "hidden": true
   },
   "outputs": [],
   "source": [
    "#wave picture\n",
    "N = 2048\n",
    "f = 120\n",
    "\n",
    "t = np.arange(0, 1, 1/N)\n",
    "\n",
    "func = np.sin(2*np.pi*f*(t+0.01*np.random.rand(N))) + 0.001*np.random.rand(N)\n",
    "\n",
    "fig, ax = plt.subplots()\n",
    "ax.plot(t, func)\n",
    "ax.set_xlim([0,0.2])\n",
    "\n",
    "ax.set_xlabel(\"Time [s]\")\n",
    "ax.set_ylabel(\"Signal\")\n",
    "ax.grid()\n",
    "plt.show()"
   ]
  },
  {
   "cell_type": "code",
   "execution_count": null,
   "metadata": {
    "hidden": true
   },
   "outputs": [],
   "source": [
    "F = np.fft.fft(func)\n",
    "freq = np.fft.fftfreq(N, d=1/N)\n",
    "Amp = np.abs(F/(N/2))"
   ]
  },
  {
   "cell_type": "code",
   "execution_count": null,
   "metadata": {
    "hidden": true
   },
   "outputs": [],
   "source": [
    "plt.semilogy(freq[1:int(N/2)], Amp[1:int(N/2)])"
   ]
  },
  {
   "cell_type": "code",
   "execution_count": null,
   "metadata": {
    "hidden": true
   },
   "outputs": [],
   "source": [
    "plt.plot(freq[1:int(N/2)], Amp[1:int(N/2)])"
   ]
  },
  {
   "cell_type": "markdown",
   "metadata": {},
   "source": [
    "# simulation"
   ]
  },
  {
   "cell_type": "markdown",
   "metadata": {},
   "source": [
    "## set variables"
   ]
  },
  {
   "cell_type": "code",
   "execution_count": null,
   "metadata": {},
   "outputs": [],
   "source": [
    "N1 = 1000\n",
    "t1 = np.arange(0,1,1/N1)\n",
    "\n",
    "skip = 10\n",
    "\n",
    "step_size = len(t1)"
   ]
  },
  {
   "cell_type": "code",
   "execution_count": null,
   "metadata": {},
   "outputs": [],
   "source": [
    "test_flag = 1"
   ]
  },
  {
   "cell_type": "code",
   "execution_count": null,
   "metadata": {
    "code_folding": []
   },
   "outputs": [],
   "source": [
    "func0 = np.zeros(N1)\n",
    "noise = []\n",
    "\n",
    "noise_amp = np.array([\n",
    "    0.1,\n",
    "    0.,\n",
    "    0.,\n",
    "    0.,\n",
    "    0.\n",
    "])\n",
    "\n",
    "noise_freq = np.array([\n",
    "    3,\n",
    "    27,\n",
    "    73,\n",
    "    139,\n",
    "    340,\n",
    "])"
   ]
  },
  {
   "cell_type": "code",
   "execution_count": null,
   "metadata": {},
   "outputs": [],
   "source": [
    "for i in range(5):\n",
    "    noise.append(noise_amp[i]*np.sin(2*np.pi*noise_freq[i]*(t1 + 0.01*np.random.rand(N1))))\n",
    "    func0 += noise[i]\n",
    "    pass\n",
    "func = func0 + t1 #+ 0.01*np.random.rand(N1)"
   ]
  },
  {
   "cell_type": "markdown",
   "metadata": {},
   "source": [
    "## plots"
   ]
  },
  {
   "cell_type": "code",
   "execution_count": null,
   "metadata": {
    "code_folding": [],
    "scrolled": true
   },
   "outputs": [],
   "source": [
    "#graph\n",
    "if test_flag == 0:\n",
    "    test = func\n",
    "    pass\n",
    "else:\n",
    "    test = func - t1\n",
    "    pass\n",
    "\n",
    "#t = t1[::skip] + 2*t1[::skip] + 3*t1[::skip]\n",
    "\n",
    "fig, ax = plt.subplots()\n",
    "ax.scatter(t1[::skip], test[::skip], s=1)\n",
    "\n",
    "ax.set_xlabel(\"Time [s]\")\n",
    "ax.set_ylabel(\"Signal\")\n",
    "ax.grid()\n",
    "plt.show()"
   ]
  },
  {
   "cell_type": "code",
   "execution_count": null,
   "metadata": {},
   "outputs": [],
   "source": [
    "#F1 = np.fft.fft(test)\n",
    "F1 = np.fft.fft(np.tile(test[::skip],3))\n",
    "freq1 = np.fft.fftfreq(step_size,d=1/N1)\n",
    "Amp1 = np.abs(F1/(N1/2))"
   ]
  },
  {
   "cell_type": "markdown",
   "metadata": {},
   "source": [
    "# Others"
   ]
  },
  {
   "cell_type": "code",
   "execution_count": null,
   "metadata": {},
   "outputs": [],
   "source": [
    "t_end = 100\n",
    "dt = 0.002\n",
    "t2 = np.arange(0,t_end,dt)\n",
    "\n",
    "steps = len(t2)"
   ]
  },
  {
   "cell_type": "code",
   "execution_count": null,
   "metadata": {},
   "outputs": [],
   "source": [
    "steps"
   ]
  },
  {
   "cell_type": "code",
   "execution_count": null,
   "metadata": {},
   "outputs": [],
   "source": [
    "1/12.34"
   ]
  },
  {
   "cell_type": "code",
   "execution_count": null,
   "metadata": {},
   "outputs": [],
   "source": [
    "test_freq = 12.34\n",
    "\n",
    "g = t2%2.4\n",
    "plt.plot(t2,g)\n",
    "plt.xlim([12,16])"
   ]
  },
  {
   "cell_type": "code",
   "execution_count": null,
   "metadata": {},
   "outputs": [],
   "source": [
    "test_F = np.fft.fft(g)\n",
    "test_result = np.fft.fftfreq(steps,d=dt)"
   ]
  },
  {
   "cell_type": "code",
   "execution_count": null,
   "metadata": {
    "scrolled": true
   },
   "outputs": [],
   "source": [
    "test_amp = np.abs(test_F/(steps/2))\n",
    "for i in range(steps):\n",
    "    if test_amp[i] > 1e-2:\n",
    "        print(f'{i}: {round(test_result[i],3)} {round(test_amp[i],4)}')"
   ]
  },
  {
   "cell_type": "code",
   "execution_count": null,
   "metadata": {},
   "outputs": [],
   "source": [
    "max(test_amp)"
   ]
  },
  {
   "cell_type": "code",
   "execution_count": null,
   "metadata": {},
   "outputs": [],
   "source": [
    "plt.loglog(test_result[1:int(steps/2)],test_amp[1:int(steps/2)])\n",
    "#plt.xlim([11.5,13.5])\n",
    "#plt.xlim([12.1,12.5])"
   ]
  },
  {
   "cell_type": "code",
   "execution_count": null,
   "metadata": {},
   "outputs": [],
   "source": []
  },
  {
   "cell_type": "code",
   "execution_count": null,
   "metadata": {},
   "outputs": [],
   "source": []
  }
 ],
 "metadata": {
  "kernelspec": {
   "display_name": "Python 3",
   "language": "python",
   "name": "python3"
  },
  "language_info": {
   "codemirror_mode": {
    "name": "ipython",
    "version": 3
   },
   "file_extension": ".py",
   "mimetype": "text/x-python",
   "name": "python",
   "nbconvert_exporter": "python",
   "pygments_lexer": "ipython3",
   "version": "3.7.7"
  }
 },
 "nbformat": 4,
 "nbformat_minor": 4
}
